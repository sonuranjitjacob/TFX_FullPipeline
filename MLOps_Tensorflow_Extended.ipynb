{
  "nbformat": 4,
  "nbformat_minor": 0,
  "metadata": {
    "colab": {
      "name": "MLOps-Tensorflow Extended.ipynb",
      "provenance": []
    },
    "kernelspec": {
      "name": "python3",
      "display_name": "Python 3"
    },
    "language_info": {
      "name": "python"
    }
  },
  "cells": [
    {
      "cell_type": "code",
      "metadata": {
        "id": "TKTg4ZIrYXOk"
      },
      "source": [
        "!pip install tfx"
      ],
      "execution_count": null,
      "outputs": []
    },
    {
      "cell_type": "code",
      "metadata": {
        "id": "itshA1M4YZyf"
      },
      "source": [
        "import os\n",
        "import numpy as np \n",
        "import pandas as pd\n",
        "import pprint\n",
        "pp = pprint.PrettyPrinter()\n",
        "from typing import Dict, List, Text\n",
        "\n",
        "import tensorflow as tf\n",
        "import tensorflow_model_analysis as tfma\n",
        "\n",
        "import tfx\n",
        "from tfx.components import CsvExampleGen\n",
        "from tfx.components import StatisticsGen\n",
        "from tfx.components import SchemaGen\n",
        "from tfx.components import ExampleValidator\n",
        "from tfx.components import Transform\n",
        "from tfx.components import Trainer\n",
        "from tfx.components import Evaluator\n",
        "from tfx.components import Pusher\n",
        "from tfx.components import ResolverNode\n",
        "from tfx.components.base import executor_spec\n",
        "from tfx.components.trainer.executor import GenericExecutor\n",
        "from tfx.dsl.experimental import latest_blessed_model_resolver\n",
        "from tfx.orchestration import metadata\n",
        "from tfx.orchestration import pipeline\n",
        "from tfx.orchestration.experimental.interactive.interactive_context import InteractiveContext\n",
        "from tfx.proto import pusher_pb2\n",
        "from tfx.proto import trainer_pb2\n",
        "from tfx.types import Channel\n",
        "from tfx.types.standard_artifacts import Model\n",
        "from tfx.types.standard_artifacts import ModelBlessing\n",
        "from tfx.utils.dsl_utils import external_input"
      ],
      "execution_count": 24,
      "outputs": []
    },
    {
      "cell_type": "markdown",
      "metadata": {
        "id": "5cKxRiqvZJuY"
      },
      "source": [
        "Checking the library versions. "
      ]
    },
    {
      "cell_type": "code",
      "metadata": {
        "colab": {
          "base_uri": "https://localhost:8080/"
        },
        "id": "tBgINOb7YrHR",
        "outputId": "9c1442f6-09d9-4f72-c120-8de59c85e031"
      },
      "source": [
        "print('Tensorflow version:',tf.__version__)\n",
        "print('TFX version',tfx.__version__)"
      ],
      "execution_count": 3,
      "outputs": [
        {
          "output_type": "stream",
          "text": [
            "Tensorflow version: 2.4.1\n",
            "TFX version 0.28.0\n"
          ],
          "name": "stdout"
        }
      ]
    },
    {
      "cell_type": "markdown",
      "metadata": {
        "id": "rOMmM7HgZAh0"
      },
      "source": [
        "Removing any previous data."
      ]
    },
    {
      "cell_type": "code",
      "metadata": {
        "id": "mL-F9LjRaG4Z"
      },
      "source": [
        "!rm -rf data.*\n",
        "!rm -rf *trainer.py\n",
        "!sudo rm -r /content/tfx"
      ],
      "execution_count": 4,
      "outputs": []
    },
    {
      "cell_type": "markdown",
      "metadata": {
        "id": "6x5w289jaRj_"
      },
      "source": [
        "TFX requires a certain folder structure which is created as shown below. Content is the directory used to access storage space on the Google Drive. "
      ]
    },
    {
      "cell_type": "code",
      "metadata": {
        "id": "Av5qT3i8acCl"
      },
      "source": [
        "! cd /content/\n",
        "! mkdir /content/tfx\n",
        "! mkdir /content/tfx/pipelines\n",
        "! mkdir /content/tfx/metadata\n",
        "! mkdir /content/tfx/logs\n",
        "! mkdir /content/tfx/data\n",
        "! mkdir /content/tfx/serving_model"
      ],
      "execution_count": 5,
      "outputs": []
    },
    {
      "cell_type": "markdown",
      "metadata": {
        "id": "7uj-UvqHarxn"
      },
      "source": [
        "### Download example data\n",
        "\n",
        "We use the [Taxi Trips dataset]((https://data.cityofchicago.org/Transportation/Taxi-Trips/wrvz-psew) ) released by City of Chicago in the TFX pipeline. "
      ]
    },
    {
      "cell_type": "code",
      "metadata": {
        "colab": {
          "base_uri": "https://localhost:8080/"
        },
        "id": "3wGukyN_bm73",
        "outputId": "29549e0f-ce0a-46d8-fed5-ada5699c0aa5"
      },
      "source": [
        "!wget https://raw.githubusercontent.com/tensorflow/tfx/master/tfx/examples/chicago_taxi_pipeline/data/simple/data.csv"
      ],
      "execution_count": 6,
      "outputs": [
        {
          "output_type": "stream",
          "text": [
            "--2021-04-05 05:34:26--  https://raw.githubusercontent.com/tensorflow/tfx/master/tfx/examples/chicago_taxi_pipeline/data/simple/data.csv\n",
            "Resolving raw.githubusercontent.com (raw.githubusercontent.com)... 185.199.108.133, 185.199.109.133, 185.199.110.133, ...\n",
            "Connecting to raw.githubusercontent.com (raw.githubusercontent.com)|185.199.108.133|:443... connected.\n",
            "HTTP request sent, awaiting response... 200 OK\n",
            "Length: 1922812 (1.8M) [text/plain]\n",
            "Saving to: ‘data.csv’\n",
            "\n",
            "data.csv            100%[===================>]   1.83M  --.-KB/s    in 0.06s   \n",
            "\n",
            "2021-04-05 05:34:26 (28.5 MB/s) - ‘data.csv’ saved [1922812/1922812]\n",
            "\n"
          ],
          "name": "stdout"
        }
      ]
    },
    {
      "cell_type": "markdown",
      "metadata": {
        "id": "V92IMy2Kb06O"
      },
      "source": [
        "If you look at the folder structure on the left, you can see the dataset is downloaded. "
      ]
    },
    {
      "cell_type": "code",
      "metadata": {
        "colab": {
          "base_uri": "https://localhost:8080/",
          "height": 428
        },
        "id": "aw-lhpeZbpE4",
        "outputId": "2f49f898-ffa4-4ae3-be2a-bdb1194200b8"
      },
      "source": [
        "data = pd.read_csv('/content/data.csv')\n",
        "data.head()"
      ],
      "execution_count": 7,
      "outputs": [
        {
          "output_type": "execute_result",
          "data": {
            "text/html": [
              "<div>\n",
              "<style scoped>\n",
              "    .dataframe tbody tr th:only-of-type {\n",
              "        vertical-align: middle;\n",
              "    }\n",
              "\n",
              "    .dataframe tbody tr th {\n",
              "        vertical-align: top;\n",
              "    }\n",
              "\n",
              "    .dataframe thead th {\n",
              "        text-align: right;\n",
              "    }\n",
              "</style>\n",
              "<table border=\"1\" class=\"dataframe\">\n",
              "  <thead>\n",
              "    <tr style=\"text-align: right;\">\n",
              "      <th></th>\n",
              "      <th>pickup_community_area</th>\n",
              "      <th>fare</th>\n",
              "      <th>trip_start_month</th>\n",
              "      <th>trip_start_hour</th>\n",
              "      <th>trip_start_day</th>\n",
              "      <th>trip_start_timestamp</th>\n",
              "      <th>pickup_latitude</th>\n",
              "      <th>pickup_longitude</th>\n",
              "      <th>dropoff_latitude</th>\n",
              "      <th>dropoff_longitude</th>\n",
              "      <th>trip_miles</th>\n",
              "      <th>pickup_census_tract</th>\n",
              "      <th>dropoff_census_tract</th>\n",
              "      <th>payment_type</th>\n",
              "      <th>company</th>\n",
              "      <th>trip_seconds</th>\n",
              "      <th>dropoff_community_area</th>\n",
              "      <th>tips</th>\n",
              "    </tr>\n",
              "  </thead>\n",
              "  <tbody>\n",
              "    <tr>\n",
              "      <th>0</th>\n",
              "      <td>NaN</td>\n",
              "      <td>12.45</td>\n",
              "      <td>5</td>\n",
              "      <td>19</td>\n",
              "      <td>6</td>\n",
              "      <td>1400269500</td>\n",
              "      <td>NaN</td>\n",
              "      <td>NaN</td>\n",
              "      <td>NaN</td>\n",
              "      <td>NaN</td>\n",
              "      <td>0.0</td>\n",
              "      <td>NaN</td>\n",
              "      <td>NaN</td>\n",
              "      <td>Credit Card</td>\n",
              "      <td>Chicago Elite Cab Corp. (Chicago Carriag</td>\n",
              "      <td>0.0</td>\n",
              "      <td>NaN</td>\n",
              "      <td>0.0</td>\n",
              "    </tr>\n",
              "    <tr>\n",
              "      <th>1</th>\n",
              "      <td>NaN</td>\n",
              "      <td>0.00</td>\n",
              "      <td>3</td>\n",
              "      <td>19</td>\n",
              "      <td>5</td>\n",
              "      <td>1362683700</td>\n",
              "      <td>NaN</td>\n",
              "      <td>NaN</td>\n",
              "      <td>NaN</td>\n",
              "      <td>NaN</td>\n",
              "      <td>0.0</td>\n",
              "      <td>NaN</td>\n",
              "      <td>NaN</td>\n",
              "      <td>Unknown</td>\n",
              "      <td>Chicago Elite Cab Corp.</td>\n",
              "      <td>300.0</td>\n",
              "      <td>NaN</td>\n",
              "      <td>0.0</td>\n",
              "    </tr>\n",
              "    <tr>\n",
              "      <th>2</th>\n",
              "      <td>60.0</td>\n",
              "      <td>27.05</td>\n",
              "      <td>10</td>\n",
              "      <td>2</td>\n",
              "      <td>3</td>\n",
              "      <td>1380593700</td>\n",
              "      <td>41.836150</td>\n",
              "      <td>-87.648788</td>\n",
              "      <td>NaN</td>\n",
              "      <td>NaN</td>\n",
              "      <td>12.6</td>\n",
              "      <td>NaN</td>\n",
              "      <td>NaN</td>\n",
              "      <td>Cash</td>\n",
              "      <td>Taxi Affiliation Services</td>\n",
              "      <td>1380.0</td>\n",
              "      <td>NaN</td>\n",
              "      <td>0.0</td>\n",
              "    </tr>\n",
              "    <tr>\n",
              "      <th>3</th>\n",
              "      <td>10.0</td>\n",
              "      <td>5.85</td>\n",
              "      <td>10</td>\n",
              "      <td>1</td>\n",
              "      <td>2</td>\n",
              "      <td>1382319000</td>\n",
              "      <td>41.985015</td>\n",
              "      <td>-87.804532</td>\n",
              "      <td>NaN</td>\n",
              "      <td>NaN</td>\n",
              "      <td>0.0</td>\n",
              "      <td>NaN</td>\n",
              "      <td>NaN</td>\n",
              "      <td>Cash</td>\n",
              "      <td>Taxi Affiliation Services</td>\n",
              "      <td>180.0</td>\n",
              "      <td>NaN</td>\n",
              "      <td>0.0</td>\n",
              "    </tr>\n",
              "    <tr>\n",
              "      <th>4</th>\n",
              "      <td>14.0</td>\n",
              "      <td>16.65</td>\n",
              "      <td>5</td>\n",
              "      <td>7</td>\n",
              "      <td>5</td>\n",
              "      <td>1369897200</td>\n",
              "      <td>41.968069</td>\n",
              "      <td>-87.721559</td>\n",
              "      <td>NaN</td>\n",
              "      <td>NaN</td>\n",
              "      <td>0.0</td>\n",
              "      <td>NaN</td>\n",
              "      <td>NaN</td>\n",
              "      <td>Cash</td>\n",
              "      <td>Dispatch Taxi Affiliation</td>\n",
              "      <td>1080.0</td>\n",
              "      <td>NaN</td>\n",
              "      <td>0.0</td>\n",
              "    </tr>\n",
              "  </tbody>\n",
              "</table>\n",
              "</div>"
            ],
            "text/plain": [
              "   pickup_community_area   fare  ...  dropoff_community_area  tips\n",
              "0                    NaN  12.45  ...                     NaN   0.0\n",
              "1                    NaN   0.00  ...                     NaN   0.0\n",
              "2                   60.0  27.05  ...                     NaN   0.0\n",
              "3                   10.0   5.85  ...                     NaN   0.0\n",
              "4                   14.0  16.65  ...                     NaN   0.0\n",
              "\n",
              "[5 rows x 18 columns]"
            ]
          },
          "metadata": {
            "tags": []
          },
          "execution_count": 7
        }
      ]
    },
    {
      "cell_type": "code",
      "metadata": {
        "colab": {
          "base_uri": "https://localhost:8080/"
        },
        "id": "T7wcTUmPcAvf",
        "outputId": "59c31051-6dc7-4dd9-de45-9a838d17d0e1"
      },
      "source": [
        "#drop useless columns\n",
        "data = data.drop(columns=['trip_start_timestamp','trip_miles','pickup_census_tract',\n",
        "              'dropoff_census_tract','trip_seconds','payment_type','tips', \n",
        "              'company','dropoff_community_area','pickup_community_area'])\n",
        "\n",
        "#check for null values\n",
        "data.isnull().sum()"
      ],
      "execution_count": 8,
      "outputs": [
        {
          "output_type": "execute_result",
          "data": {
            "text/plain": [
              "fare                   0\n",
              "trip_start_month       0\n",
              "trip_start_hour        0\n",
              "trip_start_day         0\n",
              "pickup_latitude        2\n",
              "pickup_longitude       2\n",
              "dropoff_latitude     483\n",
              "dropoff_longitude    483\n",
              "dtype: int64"
            ]
          },
          "metadata": {
            "tags": []
          },
          "execution_count": 8
        }
      ]
    },
    {
      "cell_type": "code",
      "metadata": {
        "colab": {
          "base_uri": "https://localhost:8080/"
        },
        "id": "PcxmmB1UchQs",
        "outputId": "3891012e-9d9f-485f-d21f-0ecccdbc55a4"
      },
      "source": [
        "#drop rows with null values\n",
        "data = data.dropna()\n",
        "\n",
        "#Splitting the data into train and validation data\n",
        "np.random.seed(seed=2)\n",
        "mask = np.random.rand(len(data)) < 0.9\n",
        "train_data = data[mask]\n",
        "eval_data = data[~mask]\n",
        "\n",
        "print(len(train_data))\n",
        "print(len(eval_data))\n",
        "\n",
        "#Saving data to train and test csvs for TFX\n",
        "train_data.to_csv(\"/content/tfx/data/train_data.csv\", index=False, header=True)\n",
        "eval_data.to_csv(\"/content/tfx/data/eval_data.csv\",index=False, header=True)"
      ],
      "execution_count": 9,
      "outputs": [
        {
          "output_type": "stream",
          "text": [
            "13077\n",
            "1442\n"
          ],
          "name": "stdout"
        }
      ]
    },
    {
      "cell_type": "markdown",
      "metadata": {
        "id": "P84FVDc_hty-"
      },
      "source": [
        "### Set up paths for pipeline"
      ]
    },
    {
      "cell_type": "code",
      "metadata": {
        "id": "qylysNjoclIq"
      },
      "source": [
        "#defining all paths \n",
        "\n",
        "_tfx_root = os.path.join(os.getcwd(), 'tfx')\n",
        "_pipeline_root = os.path.join(_tfx_root, 'pipelines')\n",
        "_metadata_db_root = os.path.join(_tfx_root, 'metadata.db')\n",
        "_log_root = os.path.join(_tfx_root, 'model')\n",
        "_model_root = os.path.join(_tfx_root, 'model')\n",
        "_data_root = os.path.join(_tfx_root, 'data')\n",
        "_serving_model_dir = os.path.join(_tfx_root, 'serving_model')\n",
        "_data_filepath = os.path.join(_data_root, \"train_data.csv\")\n",
        "\n",
        "#creating python files that will be used later\n",
        "_input_fn_module_file = 'inputfn_trainer.py'\n",
        "_constants_module_file = 'constants_trainer.py'\n",
        "_model_trainer_module_file = 'model_trainer.py'"
      ],
      "execution_count": 10,
      "outputs": []
    },
    {
      "cell_type": "markdown",
      "metadata": {
        "id": "THyh1Y_Sgofd"
      },
      "source": [
        "### Create InteractiveContext\n",
        "\n",
        "This allows us to run TFX components interactively within the notebook"
      ]
    },
    {
      "cell_type": "code",
      "metadata": {
        "colab": {
          "base_uri": "https://localhost:8080/"
        },
        "id": "vHi34aNBh8Er",
        "outputId": "a98a7006-78c4-4997-c330-3c8bc27006be"
      },
      "source": [
        "\"\"\"The InteractiveContext is created using default parameters. It will use a temporary directory with an ML Metadata database instance \n",
        "To use your own pipeline root/database pass the optional parameters _pipeline_root and metadata_connection_config can be specified in the call to \n",
        "Interactive Context. \n",
        "\"\"\"\n",
        "\n",
        "context = InteractiveContext(pipeline_root=_tfx_root)"
      ],
      "execution_count": 12,
      "outputs": [
        {
          "output_type": "stream",
          "text": [
            "WARNING:absl:InteractiveContext metadata_connection_config not provided: using SQLite ML Metadata database at /content/tfx/metadata.sqlite.\n"
          ],
          "name": "stderr"
        }
      ]
    },
    {
      "cell_type": "markdown",
      "metadata": {
        "id": "tzOdWLWJivpj"
      },
      "source": [
        "## Run TFX components interactively\n",
        "\n",
        "We create each TFX component one by one and visualise their artifacts. Artifacts refer to the output of the components. "
      ]
    },
    {
      "cell_type": "markdown",
      "metadata": {
        "id": "D0f9WP8kw3Ge"
      },
      "source": [
        "### Example Gen\n",
        "\n",
        "The `ExampleGen` component is used for data ingestion. It is the first step in the TFX pipeline. \n",
        "It will:\n",
        "\n",
        "1. **Split** the data into training and evaluation sets (2/3 and 1/3 respectively)\n",
        "2. Convert the data into `tf.Example` format\n",
        "3. **Copy the splits** into the `_tfx_root` directory for other components to access. \n",
        "\n",
        "`ExampleGen` takes the path to the data source as input, i.e `_data_root` which contains the downloaded CSV file. \n",
        "\n",
        "Note: Here we instantiate components one by one and run them with `InteractiveContext.run()`. In a production seeting, all components are sprecified upfront in a `Pipeline` and passed to the orchestrator ([Building a TFX Pipeline Guide](../tfx/guide/build_tfx_pipeline))). "
      ]
    },
    {
      "cell_type": "code",
      "metadata": {
        "colab": {
          "base_uri": "https://localhost:8080/",
          "height": 546
        },
        "id": "gMMWqSwsxeTl",
        "outputId": "f68503a5-257a-4d0f-fd6f-9110354578fe"
      },
      "source": [
        "example_gen = CsvExampleGen(input=external_input(_data_root))\n",
        "context.run(example_gen)"
      ],
      "execution_count": 14,
      "outputs": [
        {
          "output_type": "stream",
          "text": [
            "WARNING:absl:From <ipython-input-14-2e0190c2dd16>:1: external_input (from tfx.utils.dsl_utils) is deprecated and will be removed in a future version.\n",
            "Instructions for updating:\n",
            "external_input is deprecated, directly pass the uri to ExampleGen.\n",
            "WARNING:absl:The \"input\" argument to the CsvExampleGen component has been deprecated by \"input_base\". Please update your usage as support for this argument will be removed soon.\n",
            "WARNING:apache_beam.runners.interactive.interactive_environment:Dependencies required for Interactive Beam PCollection visualization are not available, please use: `pip install apache-beam[interactive]` to install necessary dependencies to enable all data visualization features.\n"
          ],
          "name": "stderr"
        },
        {
          "output_type": "display_data",
          "data": {
            "application/javascript": [
              "\n",
              "        if (typeof window.interactive_beam_jquery == 'undefined') {\n",
              "          var jqueryScript = document.createElement('script');\n",
              "          jqueryScript.src = 'https://code.jquery.com/jquery-3.4.1.slim.min.js';\n",
              "          jqueryScript.type = 'text/javascript';\n",
              "          jqueryScript.onload = function() {\n",
              "            var datatableScript = document.createElement('script');\n",
              "            datatableScript.src = 'https://cdn.datatables.net/1.10.20/js/jquery.dataTables.min.js';\n",
              "            datatableScript.type = 'text/javascript';\n",
              "            datatableScript.onload = function() {\n",
              "              window.interactive_beam_jquery = jQuery.noConflict(true);\n",
              "              window.interactive_beam_jquery(document).ready(function($){\n",
              "                \n",
              "              });\n",
              "            }\n",
              "            document.head.appendChild(datatableScript);\n",
              "          };\n",
              "          document.head.appendChild(jqueryScript);\n",
              "        } else {\n",
              "          window.interactive_beam_jquery(document).ready(function($){\n",
              "            \n",
              "          });\n",
              "        }"
            ]
          },
          "metadata": {
            "tags": []
          }
        },
        {
          "output_type": "stream",
          "text": [
            "WARNING:apache_beam.io.tfrecordio:Couldn't find python-snappy so the implementation of _TFRecordUtil._masked_crc32c is not as fast as it could be.\n"
          ],
          "name": "stderr"
        },
        {
          "output_type": "execute_result",
          "data": {
            "text/html": [
              "<style>\n",
              ".tfx-object.expanded {\n",
              "  padding: 4px 8px 4px 8px;\n",
              "  background: white;\n",
              "  border: 1px solid #bbbbbb;\n",
              "  box-shadow: 4px 4px 2px rgba(0,0,0,0.05);\n",
              "}\n",
              ".tfx-object, .tfx-object * {\n",
              "  font-size: 11pt;\n",
              "}\n",
              ".tfx-object > .title {\n",
              "  cursor: pointer;\n",
              "}\n",
              ".tfx-object .expansion-marker {\n",
              "  color: #999999;\n",
              "}\n",
              ".tfx-object.expanded > .title > .expansion-marker:before {\n",
              "  content: '▼';\n",
              "}\n",
              ".tfx-object.collapsed > .title > .expansion-marker:before {\n",
              "  content: '▶';\n",
              "}\n",
              ".tfx-object .class-name {\n",
              "  font-weight: bold;\n",
              "}\n",
              ".tfx-object .deemphasize {\n",
              "  opacity: 0.5;\n",
              "}\n",
              ".tfx-object.collapsed > table.attr-table {\n",
              "  display: none;\n",
              "}\n",
              ".tfx-object.expanded > table.attr-table {\n",
              "  display: block;\n",
              "}\n",
              ".tfx-object table.attr-table {\n",
              "  border: 2px solid white;\n",
              "  margin-top: 5px;\n",
              "}\n",
              ".tfx-object table.attr-table td.attr-name {\n",
              "  vertical-align: top;\n",
              "  font-weight: bold;\n",
              "}\n",
              ".tfx-object table.attr-table td.attrvalue {\n",
              "  text-align: left;\n",
              "}\n",
              "</style>\n",
              "<script>\n",
              "function toggleTfxObject(element) {\n",
              "  var objElement = element.parentElement;\n",
              "  if (objElement.classList.contains('collapsed')) {\n",
              "    objElement.classList.remove('collapsed');\n",
              "    objElement.classList.add('expanded');\n",
              "  } else {\n",
              "    objElement.classList.add('collapsed');\n",
              "    objElement.classList.remove('expanded');\n",
              "  }\n",
              "}\n",
              "</script>\n",
              "<div class=\"tfx-object expanded\"><div class = \"title\" onclick=\"toggleTfxObject(this)\"><span class=\"expansion-marker\"></span><span class=\"class-name\">ExecutionResult</span><span class=\"deemphasize\"> at 0x7f1c5af95d10</span></div><table class=\"attr-table\"><tr><td class=\"attr-name\">.execution_id</td><td class = \"attrvalue\">1</td></tr><tr><td class=\"attr-name\">.component</td><td class = \"attrvalue\"><style>\n",
              ".tfx-object.expanded {\n",
              "  padding: 4px 8px 4px 8px;\n",
              "  background: white;\n",
              "  border: 1px solid #bbbbbb;\n",
              "  box-shadow: 4px 4px 2px rgba(0,0,0,0.05);\n",
              "}\n",
              ".tfx-object, .tfx-object * {\n",
              "  font-size: 11pt;\n",
              "}\n",
              ".tfx-object > .title {\n",
              "  cursor: pointer;\n",
              "}\n",
              ".tfx-object .expansion-marker {\n",
              "  color: #999999;\n",
              "}\n",
              ".tfx-object.expanded > .title > .expansion-marker:before {\n",
              "  content: '▼';\n",
              "}\n",
              ".tfx-object.collapsed > .title > .expansion-marker:before {\n",
              "  content: '▶';\n",
              "}\n",
              ".tfx-object .class-name {\n",
              "  font-weight: bold;\n",
              "}\n",
              ".tfx-object .deemphasize {\n",
              "  opacity: 0.5;\n",
              "}\n",
              ".tfx-object.collapsed > table.attr-table {\n",
              "  display: none;\n",
              "}\n",
              ".tfx-object.expanded > table.attr-table {\n",
              "  display: block;\n",
              "}\n",
              ".tfx-object table.attr-table {\n",
              "  border: 2px solid white;\n",
              "  margin-top: 5px;\n",
              "}\n",
              ".tfx-object table.attr-table td.attr-name {\n",
              "  vertical-align: top;\n",
              "  font-weight: bold;\n",
              "}\n",
              ".tfx-object table.attr-table td.attrvalue {\n",
              "  text-align: left;\n",
              "}\n",
              "</style>\n",
              "<script>\n",
              "function toggleTfxObject(element) {\n",
              "  var objElement = element.parentElement;\n",
              "  if (objElement.classList.contains('collapsed')) {\n",
              "    objElement.classList.remove('collapsed');\n",
              "    objElement.classList.add('expanded');\n",
              "  } else {\n",
              "    objElement.classList.add('collapsed');\n",
              "    objElement.classList.remove('expanded');\n",
              "  }\n",
              "}\n",
              "</script>\n",
              "<div class=\"tfx-object collapsed\"><div class = \"title\" onclick=\"toggleTfxObject(this)\"><span class=\"expansion-marker\"></span><span class=\"class-name\">CsvExampleGen</span><span class=\"deemphasize\"> at 0x7f1c5af26450</span></div><table class=\"attr-table\"><tr><td class=\"attr-name\">.inputs</td><td class = \"attrvalue\">{}</td></tr><tr><td class=\"attr-name\">.outputs</td><td class = \"attrvalue\"><table class=\"attr-table\"><tr><td class=\"attr-name\">['examples']</td><td class = \"attrvalue\"><style>\n",
              ".tfx-object.expanded {\n",
              "  padding: 4px 8px 4px 8px;\n",
              "  background: white;\n",
              "  border: 1px solid #bbbbbb;\n",
              "  box-shadow: 4px 4px 2px rgba(0,0,0,0.05);\n",
              "}\n",
              ".tfx-object, .tfx-object * {\n",
              "  font-size: 11pt;\n",
              "}\n",
              ".tfx-object > .title {\n",
              "  cursor: pointer;\n",
              "}\n",
              ".tfx-object .expansion-marker {\n",
              "  color: #999999;\n",
              "}\n",
              ".tfx-object.expanded > .title > .expansion-marker:before {\n",
              "  content: '▼';\n",
              "}\n",
              ".tfx-object.collapsed > .title > .expansion-marker:before {\n",
              "  content: '▶';\n",
              "}\n",
              ".tfx-object .class-name {\n",
              "  font-weight: bold;\n",
              "}\n",
              ".tfx-object .deemphasize {\n",
              "  opacity: 0.5;\n",
              "}\n",
              ".tfx-object.collapsed > table.attr-table {\n",
              "  display: none;\n",
              "}\n",
              ".tfx-object.expanded > table.attr-table {\n",
              "  display: block;\n",
              "}\n",
              ".tfx-object table.attr-table {\n",
              "  border: 2px solid white;\n",
              "  margin-top: 5px;\n",
              "}\n",
              ".tfx-object table.attr-table td.attr-name {\n",
              "  vertical-align: top;\n",
              "  font-weight: bold;\n",
              "}\n",
              ".tfx-object table.attr-table td.attrvalue {\n",
              "  text-align: left;\n",
              "}\n",
              "</style>\n",
              "<script>\n",
              "function toggleTfxObject(element) {\n",
              "  var objElement = element.parentElement;\n",
              "  if (objElement.classList.contains('collapsed')) {\n",
              "    objElement.classList.remove('collapsed');\n",
              "    objElement.classList.add('expanded');\n",
              "  } else {\n",
              "    objElement.classList.add('collapsed');\n",
              "    objElement.classList.remove('expanded');\n",
              "  }\n",
              "}\n",
              "</script>\n",
              "<div class=\"tfx-object collapsed\"><div class = \"title\" onclick=\"toggleTfxObject(this)\"><span class=\"expansion-marker\"></span><span class=\"class-name\">Channel</span> of type <span class=\"class-name\">'Examples'</span> (1 artifact)<span class=\"deemphasize\"> at 0x7f1c5af262d0</span></div><table class=\"attr-table\"><tr><td class=\"attr-name\">.type_name</td><td class = \"attrvalue\">Examples</td></tr><tr><td class=\"attr-name\">._artifacts</td><td class = \"attrvalue\"><table class=\"attr-table\"><tr><td class=\"attr-name\">[0]</td><td class = \"attrvalue\"><style>\n",
              ".tfx-object.expanded {\n",
              "  padding: 4px 8px 4px 8px;\n",
              "  background: white;\n",
              "  border: 1px solid #bbbbbb;\n",
              "  box-shadow: 4px 4px 2px rgba(0,0,0,0.05);\n",
              "}\n",
              ".tfx-object, .tfx-object * {\n",
              "  font-size: 11pt;\n",
              "}\n",
              ".tfx-object > .title {\n",
              "  cursor: pointer;\n",
              "}\n",
              ".tfx-object .expansion-marker {\n",
              "  color: #999999;\n",
              "}\n",
              ".tfx-object.expanded > .title > .expansion-marker:before {\n",
              "  content: '▼';\n",
              "}\n",
              ".tfx-object.collapsed > .title > .expansion-marker:before {\n",
              "  content: '▶';\n",
              "}\n",
              ".tfx-object .class-name {\n",
              "  font-weight: bold;\n",
              "}\n",
              ".tfx-object .deemphasize {\n",
              "  opacity: 0.5;\n",
              "}\n",
              ".tfx-object.collapsed > table.attr-table {\n",
              "  display: none;\n",
              "}\n",
              ".tfx-object.expanded > table.attr-table {\n",
              "  display: block;\n",
              "}\n",
              ".tfx-object table.attr-table {\n",
              "  border: 2px solid white;\n",
              "  margin-top: 5px;\n",
              "}\n",
              ".tfx-object table.attr-table td.attr-name {\n",
              "  vertical-align: top;\n",
              "  font-weight: bold;\n",
              "}\n",
              ".tfx-object table.attr-table td.attrvalue {\n",
              "  text-align: left;\n",
              "}\n",
              "</style>\n",
              "<script>\n",
              "function toggleTfxObject(element) {\n",
              "  var objElement = element.parentElement;\n",
              "  if (objElement.classList.contains('collapsed')) {\n",
              "    objElement.classList.remove('collapsed');\n",
              "    objElement.classList.add('expanded');\n",
              "  } else {\n",
              "    objElement.classList.add('collapsed');\n",
              "    objElement.classList.remove('expanded');\n",
              "  }\n",
              "}\n",
              "</script>\n",
              "<div class=\"tfx-object collapsed\"><div class = \"title\" onclick=\"toggleTfxObject(this)\"><span class=\"expansion-marker\"></span><span class=\"class-name\">Artifact</span> of type <span class=\"class-name\">'Examples'</span> (uri: /content/tfx/CsvExampleGen/examples/1)<span class=\"deemphasize\"> at 0x7f1c5af51950</span></div><table class=\"attr-table\"><tr><td class=\"attr-name\">.type</td><td class = \"attrvalue\">&lt;class &#x27;tfx.types.standard_artifacts.Examples&#x27;&gt;</td></tr><tr><td class=\"attr-name\">.uri</td><td class = \"attrvalue\">/content/tfx/CsvExampleGen/examples/1</td></tr><tr><td class=\"attr-name\">.span</td><td class = \"attrvalue\">0</td></tr><tr><td class=\"attr-name\">.split_names</td><td class = \"attrvalue\">[&quot;train&quot;, &quot;eval&quot;]</td></tr><tr><td class=\"attr-name\">.version</td><td class = \"attrvalue\">0</td></tr></table></div></td></tr></table></td></tr></table></div></td></tr></table></td></tr><tr><td class=\"attr-name\">.exec_properties</td><td class = \"attrvalue\"><table class=\"attr-table\"><tr><td class=\"attr-name\">['input_base']</td><td class = \"attrvalue\">/content/tfx/data</td></tr><tr><td class=\"attr-name\">['input_config']</td><td class = \"attrvalue\">{\n",
              "  &quot;splits&quot;: [\n",
              "    {\n",
              "      &quot;name&quot;: &quot;single_split&quot;,\n",
              "      &quot;pattern&quot;: &quot;*&quot;\n",
              "    }\n",
              "  ]\n",
              "}</td></tr><tr><td class=\"attr-name\">['output_config']</td><td class = \"attrvalue\">{\n",
              "  &quot;split_config&quot;: {\n",
              "    &quot;splits&quot;: [\n",
              "      {\n",
              "        &quot;hash_buckets&quot;: 2,\n",
              "        &quot;name&quot;: &quot;train&quot;\n",
              "      },\n",
              "      {\n",
              "        &quot;hash_buckets&quot;: 1,\n",
              "        &quot;name&quot;: &quot;eval&quot;\n",
              "      }\n",
              "    ]\n",
              "  }\n",
              "}</td></tr><tr><td class=\"attr-name\">['output_data_format']</td><td class = \"attrvalue\">6</td></tr><tr><td class=\"attr-name\">['custom_config']</td><td class = \"attrvalue\">None</td></tr><tr><td class=\"attr-name\">['range_config']</td><td class = \"attrvalue\">None</td></tr><tr><td class=\"attr-name\">['span']</td><td class = \"attrvalue\">0</td></tr><tr><td class=\"attr-name\">['version']</td><td class = \"attrvalue\">None</td></tr><tr><td class=\"attr-name\">['input_fingerprint']</td><td class = \"attrvalue\">split:single_split,num_files:2,total_bytes:1006907,xor_checksum:0,sum_checksum:3235201770</td></tr></table></td></tr></table></div></td></tr><tr><td class=\"attr-name\">.component.inputs</td><td class = \"attrvalue\">{}</td></tr><tr><td class=\"attr-name\">.component.outputs</td><td class = \"attrvalue\"><table class=\"attr-table\"><tr><td class=\"attr-name\">['examples']</td><td class = \"attrvalue\"><style>\n",
              ".tfx-object.expanded {\n",
              "  padding: 4px 8px 4px 8px;\n",
              "  background: white;\n",
              "  border: 1px solid #bbbbbb;\n",
              "  box-shadow: 4px 4px 2px rgba(0,0,0,0.05);\n",
              "}\n",
              ".tfx-object, .tfx-object * {\n",
              "  font-size: 11pt;\n",
              "}\n",
              ".tfx-object > .title {\n",
              "  cursor: pointer;\n",
              "}\n",
              ".tfx-object .expansion-marker {\n",
              "  color: #999999;\n",
              "}\n",
              ".tfx-object.expanded > .title > .expansion-marker:before {\n",
              "  content: '▼';\n",
              "}\n",
              ".tfx-object.collapsed > .title > .expansion-marker:before {\n",
              "  content: '▶';\n",
              "}\n",
              ".tfx-object .class-name {\n",
              "  font-weight: bold;\n",
              "}\n",
              ".tfx-object .deemphasize {\n",
              "  opacity: 0.5;\n",
              "}\n",
              ".tfx-object.collapsed > table.attr-table {\n",
              "  display: none;\n",
              "}\n",
              ".tfx-object.expanded > table.attr-table {\n",
              "  display: block;\n",
              "}\n",
              ".tfx-object table.attr-table {\n",
              "  border: 2px solid white;\n",
              "  margin-top: 5px;\n",
              "}\n",
              ".tfx-object table.attr-table td.attr-name {\n",
              "  vertical-align: top;\n",
              "  font-weight: bold;\n",
              "}\n",
              ".tfx-object table.attr-table td.attrvalue {\n",
              "  text-align: left;\n",
              "}\n",
              "</style>\n",
              "<script>\n",
              "function toggleTfxObject(element) {\n",
              "  var objElement = element.parentElement;\n",
              "  if (objElement.classList.contains('collapsed')) {\n",
              "    objElement.classList.remove('collapsed');\n",
              "    objElement.classList.add('expanded');\n",
              "  } else {\n",
              "    objElement.classList.add('collapsed');\n",
              "    objElement.classList.remove('expanded');\n",
              "  }\n",
              "}\n",
              "</script>\n",
              "<div class=\"tfx-object collapsed\"><div class = \"title\" onclick=\"toggleTfxObject(this)\"><span class=\"expansion-marker\"></span><span class=\"class-name\">Channel</span> of type <span class=\"class-name\">'Examples'</span> (1 artifact)<span class=\"deemphasize\"> at 0x7f1c5af262d0</span></div><table class=\"attr-table\"><tr><td class=\"attr-name\">.type_name</td><td class = \"attrvalue\">Examples</td></tr><tr><td class=\"attr-name\">._artifacts</td><td class = \"attrvalue\"><table class=\"attr-table\"><tr><td class=\"attr-name\">[0]</td><td class = \"attrvalue\"><style>\n",
              ".tfx-object.expanded {\n",
              "  padding: 4px 8px 4px 8px;\n",
              "  background: white;\n",
              "  border: 1px solid #bbbbbb;\n",
              "  box-shadow: 4px 4px 2px rgba(0,0,0,0.05);\n",
              "}\n",
              ".tfx-object, .tfx-object * {\n",
              "  font-size: 11pt;\n",
              "}\n",
              ".tfx-object > .title {\n",
              "  cursor: pointer;\n",
              "}\n",
              ".tfx-object .expansion-marker {\n",
              "  color: #999999;\n",
              "}\n",
              ".tfx-object.expanded > .title > .expansion-marker:before {\n",
              "  content: '▼';\n",
              "}\n",
              ".tfx-object.collapsed > .title > .expansion-marker:before {\n",
              "  content: '▶';\n",
              "}\n",
              ".tfx-object .class-name {\n",
              "  font-weight: bold;\n",
              "}\n",
              ".tfx-object .deemphasize {\n",
              "  opacity: 0.5;\n",
              "}\n",
              ".tfx-object.collapsed > table.attr-table {\n",
              "  display: none;\n",
              "}\n",
              ".tfx-object.expanded > table.attr-table {\n",
              "  display: block;\n",
              "}\n",
              ".tfx-object table.attr-table {\n",
              "  border: 2px solid white;\n",
              "  margin-top: 5px;\n",
              "}\n",
              ".tfx-object table.attr-table td.attr-name {\n",
              "  vertical-align: top;\n",
              "  font-weight: bold;\n",
              "}\n",
              ".tfx-object table.attr-table td.attrvalue {\n",
              "  text-align: left;\n",
              "}\n",
              "</style>\n",
              "<script>\n",
              "function toggleTfxObject(element) {\n",
              "  var objElement = element.parentElement;\n",
              "  if (objElement.classList.contains('collapsed')) {\n",
              "    objElement.classList.remove('collapsed');\n",
              "    objElement.classList.add('expanded');\n",
              "  } else {\n",
              "    objElement.classList.add('collapsed');\n",
              "    objElement.classList.remove('expanded');\n",
              "  }\n",
              "}\n",
              "</script>\n",
              "<div class=\"tfx-object collapsed\"><div class = \"title\" onclick=\"toggleTfxObject(this)\"><span class=\"expansion-marker\"></span><span class=\"class-name\">Artifact</span> of type <span class=\"class-name\">'Examples'</span> (uri: /content/tfx/CsvExampleGen/examples/1)<span class=\"deemphasize\"> at 0x7f1c5af51950</span></div><table class=\"attr-table\"><tr><td class=\"attr-name\">.type</td><td class = \"attrvalue\">&lt;class &#x27;tfx.types.standard_artifacts.Examples&#x27;&gt;</td></tr><tr><td class=\"attr-name\">.uri</td><td class = \"attrvalue\">/content/tfx/CsvExampleGen/examples/1</td></tr><tr><td class=\"attr-name\">.span</td><td class = \"attrvalue\">0</td></tr><tr><td class=\"attr-name\">.split_names</td><td class = \"attrvalue\">[&quot;train&quot;, &quot;eval&quot;]</td></tr><tr><td class=\"attr-name\">.version</td><td class = \"attrvalue\">0</td></tr></table></div></td></tr></table></td></tr></table></div></td></tr></table></td></tr></table></div>"
            ],
            "text/plain": [
              "ExecutionResult(\n",
              "    component_id: CsvExampleGen\n",
              "    execution_id: 1\n",
              "    outputs:\n",
              "        examples: Channel(\n",
              "            type_name: Examples\n",
              "            artifacts: [Artifact(artifact: id: 1\n",
              "        type_id: 5\n",
              "        uri: \"/content/tfx/CsvExampleGen/examples/1\"\n",
              "        properties {\n",
              "          key: \"split_names\"\n",
              "          value {\n",
              "            string_value: \"[\\\"train\\\", \\\"eval\\\"]\"\n",
              "          }\n",
              "        }\n",
              "        custom_properties {\n",
              "          key: \"input_fingerprint\"\n",
              "          value {\n",
              "            string_value: \"split:single_split,num_files:2,total_bytes:1006907,xor_checksum:0,sum_checksum:3235201770\"\n",
              "          }\n",
              "        }\n",
              "        custom_properties {\n",
              "          key: \"payload_format\"\n",
              "          value {\n",
              "            string_value: \"FORMAT_TF_EXAMPLE\"\n",
              "          }\n",
              "        }\n",
              "        custom_properties {\n",
              "          key: \"span\"\n",
              "          value {\n",
              "            string_value: \"0\"\n",
              "          }\n",
              "        }\n",
              "        custom_properties {\n",
              "          key: \"state\"\n",
              "          value {\n",
              "            string_value: \"published\"\n",
              "          }\n",
              "        }\n",
              "        state: LIVE\n",
              "        , artifact_type: id: 5\n",
              "        name: \"Examples\"\n",
              "        properties {\n",
              "          key: \"span\"\n",
              "          value: INT\n",
              "        }\n",
              "        properties {\n",
              "          key: \"split_names\"\n",
              "          value: STRING\n",
              "        }\n",
              "        properties {\n",
              "          key: \"version\"\n",
              "          value: INT\n",
              "        }\n",
              "        )]\n",
              "            additional_properties: {}\n",
              "            additional_custom_properties: {}\n",
              "        ))"
            ]
          },
          "metadata": {
            "tags": []
          },
          "execution_count": 14
        }
      ]
    },
    {
      "cell_type": "markdown",
      "metadata": {
        "id": "vzKg8ounyUss"
      },
      "source": [
        "The `ExampleGen` component outputs two artifacts - the training and evaluation examples. "
      ]
    },
    {
      "cell_type": "code",
      "metadata": {
        "colab": {
          "base_uri": "https://localhost:8080/"
        },
        "id": "pHVvONyJye2r",
        "outputId": "078b216d-ea8a-42df-e9ee-44fc8bf5ceea"
      },
      "source": [
        "artifact = example_gen.outputs['examples'].get()[0]\n",
        "print(artifact.split_names, artifact.uri)"
      ],
      "execution_count": 16,
      "outputs": [
        {
          "output_type": "stream",
          "text": [
            "[\"train\", \"eval\"] /content/tfx/CsvExampleGen/examples/1\n"
          ],
          "name": "stdout"
        }
      ]
    },
    {
      "cell_type": "markdown",
      "metadata": {
        "id": "Tf_kgtmayoEj"
      },
      "source": [
        "Taking a look at the first three examples:\n",
        "\n",
        "The following code takes the data from training data from the folder `train` under ``CsvExampleGen, reads the `TfRecord` files from memory and picks the first three record. "
      ]
    },
    {
      "cell_type": "code",
      "metadata": {
        "colab": {
          "base_uri": "https://localhost:8080/"
        },
        "id": "Dygqes_6yyVy",
        "outputId": "54ec5345-a1e2-4bdb-c5d4-66d7f4b99dbc"
      },
      "source": [
        "#Get the URI of the output artifact representing the training examples, which is a directory\n",
        "train_uri = os.path.join(example_gen.outputs['examples'].get()[0].uri, 'train')\n",
        "\n",
        "#Get the list of files in this directory (all compressed TFRecord files)\n",
        "tfrecord_filenames = [os.path.join(train_uri,name) for name in os.listdir(train_uri)]\n",
        "\n",
        "#Create a `TfRecordDataset` to read these files\n",
        "dataset = tf.data.TFRecordDataset(tfrecord_filenames, compression_type=\"GZIP\")\n",
        "\n",
        "#Iterate over first 3 records, decode them by converting to mupy format and parsing\n",
        "for tfrecord in dataset.take(3):\n",
        "  serialized_example = tfrecord.numpy()\n",
        "  example = tf.train.Example()\n",
        "  example.ParseFromString(serialized_example)\n",
        "  pp.pprint(example)"
      ],
      "execution_count": 25,
      "outputs": [
        {
          "output_type": "stream",
          "text": [
            "features {\n",
            "  feature {\n",
            "    key: \"dropoff_latitude\"\n",
            "    value {\n",
            "      float_list {\n",
            "        value: 41.92045211791992\n",
            "      }\n",
            "    }\n",
            "  }\n",
            "  feature {\n",
            "    key: \"dropoff_longitude\"\n",
            "    value {\n",
            "      float_list {\n",
            "        value: -87.6799545288086\n",
            "      }\n",
            "    }\n",
            "  }\n",
            "  feature {\n",
            "    key: \"fare\"\n",
            "    value {\n",
            "      float_list {\n",
            "        value: 3.8499999046325684\n",
            "      }\n",
            "    }\n",
            "  }\n",
            "  feature {\n",
            "    key: \"pickup_latitude\"\n",
            "    value {\n",
            "      float_list {\n",
            "        value: 41.8996696472168\n",
            "      }\n",
            "    }\n",
            "  }\n",
            "  feature {\n",
            "    key: \"pickup_longitude\"\n",
            "    value {\n",
            "      float_list {\n",
            "        value: -87.66983795166016\n",
            "      }\n",
            "    }\n",
            "  }\n",
            "  feature {\n",
            "    key: \"trip_start_day\"\n",
            "    value {\n",
            "      int64_list {\n",
            "        value: 6\n",
            "      }\n",
            "    }\n",
            "  }\n",
            "  feature {\n",
            "    key: \"trip_start_hour\"\n",
            "    value {\n",
            "      int64_list {\n",
            "        value: 15\n",
            "      }\n",
            "    }\n",
            "  }\n",
            "  feature {\n",
            "    key: \"trip_start_month\"\n",
            "    value {\n",
            "      int64_list {\n",
            "        value: 3\n",
            "      }\n",
            "    }\n",
            "  }\n",
            "}\n",
            "\n",
            "features {\n",
            "  feature {\n",
            "    key: \"dropoff_latitude\"\n",
            "    value {\n",
            "      float_list {\n",
            "        value: 41.92045211791992\n",
            "      }\n",
            "    }\n",
            "  }\n",
            "  feature {\n",
            "    key: \"dropoff_longitude\"\n",
            "    value {\n",
            "      float_list {\n",
            "        value: -87.6799545288086\n",
            "      }\n",
            "    }\n",
            "  }\n",
            "  feature {\n",
            "    key: \"fare\"\n",
            "    value {\n",
            "      float_list {\n",
            "        value: 7.25\n",
            "      }\n",
            "    }\n",
            "  }\n",
            "  feature {\n",
            "    key: \"pickup_latitude\"\n",
            "    value {\n",
            "      float_list {\n",
            "        value: 41.90665054321289\n",
            "      }\n",
            "    }\n",
            "  }\n",
            "  feature {\n",
            "    key: \"pickup_longitude\"\n",
            "    value {\n",
            "      float_list {\n",
            "        value: -87.66533660888672\n",
            "      }\n",
            "    }\n",
            "  }\n",
            "  feature {\n",
            "    key: \"trip_start_day\"\n",
            "    value {\n",
            "      int64_list {\n",
            "        value: 7\n",
            "      }\n",
            "    }\n",
            "  }\n",
            "  feature {\n",
            "    key: \"trip_start_hour\"\n",
            "    value {\n",
            "      int64_list {\n",
            "        value: 21\n",
            "      }\n",
            "    }\n",
            "  }\n",
            "  feature {\n",
            "    key: \"trip_start_month\"\n",
            "    value {\n",
            "      int64_list {\n",
            "        value: 10\n",
            "      }\n",
            "    }\n",
            "  }\n",
            "}\n",
            "\n",
            "features {\n",
            "  feature {\n",
            "    key: \"dropoff_latitude\"\n",
            "    value {\n",
            "      float_list {\n",
            "        value: 41.849246978759766\n",
            "      }\n",
            "    }\n",
            "  }\n",
            "  feature {\n",
            "    key: \"dropoff_longitude\"\n",
            "    value {\n",
            "      float_list {\n",
            "        value: -87.62413787841797\n",
            "      }\n",
            "    }\n",
            "  }\n",
            "  feature {\n",
            "    key: \"fare\"\n",
            "    value {\n",
            "      float_list {\n",
            "        value: 13.050000190734863\n",
            "      }\n",
            "    }\n",
            "  }\n",
            "  feature {\n",
            "    key: \"pickup_latitude\"\n",
            "    value {\n",
            "      float_list {\n",
            "        value: 41.849246978759766\n",
            "      }\n",
            "    }\n",
            "  }\n",
            "  feature {\n",
            "    key: \"pickup_longitude\"\n",
            "    value {\n",
            "      float_list {\n",
            "        value: -87.62413787841797\n",
            "      }\n",
            "    }\n",
            "  }\n",
            "  feature {\n",
            "    key: \"trip_start_day\"\n",
            "    value {\n",
            "      int64_list {\n",
            "        value: 2\n",
            "      }\n",
            "    }\n",
            "  }\n",
            "  feature {\n",
            "    key: \"trip_start_hour\"\n",
            "    value {\n",
            "      int64_list {\n",
            "        value: 17\n",
            "      }\n",
            "    }\n",
            "  }\n",
            "  feature {\n",
            "    key: \"trip_start_month\"\n",
            "    value {\n",
            "      int64_list {\n",
            "        value: 9\n",
            "      }\n",
            "    }\n",
            "  }\n",
            "}\n",
            "\n"
          ],
          "name": "stdout"
        }
      ]
    },
    {
      "cell_type": "markdown",
      "metadata": {
        "id": "pfhAxMgc03a5"
      },
      "source": [
        "Each record/datapoint has 8 columns and has the column name, datatype and value for feach feature. "
      ]
    },
    {
      "cell_type": "markdown",
      "metadata": {
        "id": "f20nfMef21Vo"
      },
      "source": [
        "### Statisics Gen\n",
        "\n",
        "This component **computes the statistics** of the dataset such as the mean, standard deviation, minimum and maximum values in the dataset. \n",
        "\n",
        "`StatisticsGen` takes as input the dataset ingested using `ExampleGen`. "
      ]
    },
    {
      "cell_type": "code",
      "metadata": {
        "colab": {
          "base_uri": "https://localhost:8080/",
          "height": 820
        },
        "id": "vrHannBw230d",
        "outputId": "2a68dbd8-3297-4c40-d78f-d766d9c75ab3"
      },
      "source": [
        "statistics_gen = StatisticsGen(\n",
        "    examples=example_gen.outputs['examples'])\n",
        "context.run(statistics_gen)"
      ],
      "execution_count": 27,
      "outputs": [
        {
          "output_type": "execute_result",
          "data": {
            "text/html": [
              "<style>\n",
              ".tfx-object.expanded {\n",
              "  padding: 4px 8px 4px 8px;\n",
              "  background: white;\n",
              "  border: 1px solid #bbbbbb;\n",
              "  box-shadow: 4px 4px 2px rgba(0,0,0,0.05);\n",
              "}\n",
              ".tfx-object, .tfx-object * {\n",
              "  font-size: 11pt;\n",
              "}\n",
              ".tfx-object > .title {\n",
              "  cursor: pointer;\n",
              "}\n",
              ".tfx-object .expansion-marker {\n",
              "  color: #999999;\n",
              "}\n",
              ".tfx-object.expanded > .title > .expansion-marker:before {\n",
              "  content: '▼';\n",
              "}\n",
              ".tfx-object.collapsed > .title > .expansion-marker:before {\n",
              "  content: '▶';\n",
              "}\n",
              ".tfx-object .class-name {\n",
              "  font-weight: bold;\n",
              "}\n",
              ".tfx-object .deemphasize {\n",
              "  opacity: 0.5;\n",
              "}\n",
              ".tfx-object.collapsed > table.attr-table {\n",
              "  display: none;\n",
              "}\n",
              ".tfx-object.expanded > table.attr-table {\n",
              "  display: block;\n",
              "}\n",
              ".tfx-object table.attr-table {\n",
              "  border: 2px solid white;\n",
              "  margin-top: 5px;\n",
              "}\n",
              ".tfx-object table.attr-table td.attr-name {\n",
              "  vertical-align: top;\n",
              "  font-weight: bold;\n",
              "}\n",
              ".tfx-object table.attr-table td.attrvalue {\n",
              "  text-align: left;\n",
              "}\n",
              "</style>\n",
              "<script>\n",
              "function toggleTfxObject(element) {\n",
              "  var objElement = element.parentElement;\n",
              "  if (objElement.classList.contains('collapsed')) {\n",
              "    objElement.classList.remove('collapsed');\n",
              "    objElement.classList.add('expanded');\n",
              "  } else {\n",
              "    objElement.classList.add('collapsed');\n",
              "    objElement.classList.remove('expanded');\n",
              "  }\n",
              "}\n",
              "</script>\n",
              "<div class=\"tfx-object expanded\"><div class = \"title\" onclick=\"toggleTfxObject(this)\"><span class=\"expansion-marker\"></span><span class=\"class-name\">ExecutionResult</span><span class=\"deemphasize\"> at 0x7f1c594f0fd0</span></div><table class=\"attr-table\"><tr><td class=\"attr-name\">.execution_id</td><td class = \"attrvalue\">2</td></tr><tr><td class=\"attr-name\">.component</td><td class = \"attrvalue\"><style>\n",
              ".tfx-object.expanded {\n",
              "  padding: 4px 8px 4px 8px;\n",
              "  background: white;\n",
              "  border: 1px solid #bbbbbb;\n",
              "  box-shadow: 4px 4px 2px rgba(0,0,0,0.05);\n",
              "}\n",
              ".tfx-object, .tfx-object * {\n",
              "  font-size: 11pt;\n",
              "}\n",
              ".tfx-object > .title {\n",
              "  cursor: pointer;\n",
              "}\n",
              ".tfx-object .expansion-marker {\n",
              "  color: #999999;\n",
              "}\n",
              ".tfx-object.expanded > .title > .expansion-marker:before {\n",
              "  content: '▼';\n",
              "}\n",
              ".tfx-object.collapsed > .title > .expansion-marker:before {\n",
              "  content: '▶';\n",
              "}\n",
              ".tfx-object .class-name {\n",
              "  font-weight: bold;\n",
              "}\n",
              ".tfx-object .deemphasize {\n",
              "  opacity: 0.5;\n",
              "}\n",
              ".tfx-object.collapsed > table.attr-table {\n",
              "  display: none;\n",
              "}\n",
              ".tfx-object.expanded > table.attr-table {\n",
              "  display: block;\n",
              "}\n",
              ".tfx-object table.attr-table {\n",
              "  border: 2px solid white;\n",
              "  margin-top: 5px;\n",
              "}\n",
              ".tfx-object table.attr-table td.attr-name {\n",
              "  vertical-align: top;\n",
              "  font-weight: bold;\n",
              "}\n",
              ".tfx-object table.attr-table td.attrvalue {\n",
              "  text-align: left;\n",
              "}\n",
              "</style>\n",
              "<script>\n",
              "function toggleTfxObject(element) {\n",
              "  var objElement = element.parentElement;\n",
              "  if (objElement.classList.contains('collapsed')) {\n",
              "    objElement.classList.remove('collapsed');\n",
              "    objElement.classList.add('expanded');\n",
              "  } else {\n",
              "    objElement.classList.add('collapsed');\n",
              "    objElement.classList.remove('expanded');\n",
              "  }\n",
              "}\n",
              "</script>\n",
              "<div class=\"tfx-object collapsed\"><div class = \"title\" onclick=\"toggleTfxObject(this)\"><span class=\"expansion-marker\"></span><span class=\"class-name\">StatisticsGen</span><span class=\"deemphasize\"> at 0x7f1c594ed790</span></div><table class=\"attr-table\"><tr><td class=\"attr-name\">.inputs</td><td class = \"attrvalue\"><table class=\"attr-table\"><tr><td class=\"attr-name\">['examples']</td><td class = \"attrvalue\"><style>\n",
              ".tfx-object.expanded {\n",
              "  padding: 4px 8px 4px 8px;\n",
              "  background: white;\n",
              "  border: 1px solid #bbbbbb;\n",
              "  box-shadow: 4px 4px 2px rgba(0,0,0,0.05);\n",
              "}\n",
              ".tfx-object, .tfx-object * {\n",
              "  font-size: 11pt;\n",
              "}\n",
              ".tfx-object > .title {\n",
              "  cursor: pointer;\n",
              "}\n",
              ".tfx-object .expansion-marker {\n",
              "  color: #999999;\n",
              "}\n",
              ".tfx-object.expanded > .title > .expansion-marker:before {\n",
              "  content: '▼';\n",
              "}\n",
              ".tfx-object.collapsed > .title > .expansion-marker:before {\n",
              "  content: '▶';\n",
              "}\n",
              ".tfx-object .class-name {\n",
              "  font-weight: bold;\n",
              "}\n",
              ".tfx-object .deemphasize {\n",
              "  opacity: 0.5;\n",
              "}\n",
              ".tfx-object.collapsed > table.attr-table {\n",
              "  display: none;\n",
              "}\n",
              ".tfx-object.expanded > table.attr-table {\n",
              "  display: block;\n",
              "}\n",
              ".tfx-object table.attr-table {\n",
              "  border: 2px solid white;\n",
              "  margin-top: 5px;\n",
              "}\n",
              ".tfx-object table.attr-table td.attr-name {\n",
              "  vertical-align: top;\n",
              "  font-weight: bold;\n",
              "}\n",
              ".tfx-object table.attr-table td.attrvalue {\n",
              "  text-align: left;\n",
              "}\n",
              "</style>\n",
              "<script>\n",
              "function toggleTfxObject(element) {\n",
              "  var objElement = element.parentElement;\n",
              "  if (objElement.classList.contains('collapsed')) {\n",
              "    objElement.classList.remove('collapsed');\n",
              "    objElement.classList.add('expanded');\n",
              "  } else {\n",
              "    objElement.classList.add('collapsed');\n",
              "    objElement.classList.remove('expanded');\n",
              "  }\n",
              "}\n",
              "</script>\n",
              "<div class=\"tfx-object collapsed\"><div class = \"title\" onclick=\"toggleTfxObject(this)\"><span class=\"expansion-marker\"></span><span class=\"class-name\">Channel</span> of type <span class=\"class-name\">'Examples'</span> (1 artifact)<span class=\"deemphasize\"> at 0x7f1c5af262d0</span></div><table class=\"attr-table\"><tr><td class=\"attr-name\">.type_name</td><td class = \"attrvalue\">Examples</td></tr><tr><td class=\"attr-name\">._artifacts</td><td class = \"attrvalue\"><table class=\"attr-table\"><tr><td class=\"attr-name\">[0]</td><td class = \"attrvalue\"><style>\n",
              ".tfx-object.expanded {\n",
              "  padding: 4px 8px 4px 8px;\n",
              "  background: white;\n",
              "  border: 1px solid #bbbbbb;\n",
              "  box-shadow: 4px 4px 2px rgba(0,0,0,0.05);\n",
              "}\n",
              ".tfx-object, .tfx-object * {\n",
              "  font-size: 11pt;\n",
              "}\n",
              ".tfx-object > .title {\n",
              "  cursor: pointer;\n",
              "}\n",
              ".tfx-object .expansion-marker {\n",
              "  color: #999999;\n",
              "}\n",
              ".tfx-object.expanded > .title > .expansion-marker:before {\n",
              "  content: '▼';\n",
              "}\n",
              ".tfx-object.collapsed > .title > .expansion-marker:before {\n",
              "  content: '▶';\n",
              "}\n",
              ".tfx-object .class-name {\n",
              "  font-weight: bold;\n",
              "}\n",
              ".tfx-object .deemphasize {\n",
              "  opacity: 0.5;\n",
              "}\n",
              ".tfx-object.collapsed > table.attr-table {\n",
              "  display: none;\n",
              "}\n",
              ".tfx-object.expanded > table.attr-table {\n",
              "  display: block;\n",
              "}\n",
              ".tfx-object table.attr-table {\n",
              "  border: 2px solid white;\n",
              "  margin-top: 5px;\n",
              "}\n",
              ".tfx-object table.attr-table td.attr-name {\n",
              "  vertical-align: top;\n",
              "  font-weight: bold;\n",
              "}\n",
              ".tfx-object table.attr-table td.attrvalue {\n",
              "  text-align: left;\n",
              "}\n",
              "</style>\n",
              "<script>\n",
              "function toggleTfxObject(element) {\n",
              "  var objElement = element.parentElement;\n",
              "  if (objElement.classList.contains('collapsed')) {\n",
              "    objElement.classList.remove('collapsed');\n",
              "    objElement.classList.add('expanded');\n",
              "  } else {\n",
              "    objElement.classList.add('collapsed');\n",
              "    objElement.classList.remove('expanded');\n",
              "  }\n",
              "}\n",
              "</script>\n",
              "<div class=\"tfx-object collapsed\"><div class = \"title\" onclick=\"toggleTfxObject(this)\"><span class=\"expansion-marker\"></span><span class=\"class-name\">Artifact</span> of type <span class=\"class-name\">'Examples'</span> (uri: /content/tfx/CsvExampleGen/examples/1)<span class=\"deemphasize\"> at 0x7f1c5af51950</span></div><table class=\"attr-table\"><tr><td class=\"attr-name\">.type</td><td class = \"attrvalue\">&lt;class &#x27;tfx.types.standard_artifacts.Examples&#x27;&gt;</td></tr><tr><td class=\"attr-name\">.uri</td><td class = \"attrvalue\">/content/tfx/CsvExampleGen/examples/1</td></tr><tr><td class=\"attr-name\">.span</td><td class = \"attrvalue\">0</td></tr><tr><td class=\"attr-name\">.split_names</td><td class = \"attrvalue\">[&quot;train&quot;, &quot;eval&quot;]</td></tr><tr><td class=\"attr-name\">.version</td><td class = \"attrvalue\">0</td></tr></table></div></td></tr></table></td></tr></table></div></td></tr></table></td></tr><tr><td class=\"attr-name\">.outputs</td><td class = \"attrvalue\"><table class=\"attr-table\"><tr><td class=\"attr-name\">['statistics']</td><td class = \"attrvalue\"><style>\n",
              ".tfx-object.expanded {\n",
              "  padding: 4px 8px 4px 8px;\n",
              "  background: white;\n",
              "  border: 1px solid #bbbbbb;\n",
              "  box-shadow: 4px 4px 2px rgba(0,0,0,0.05);\n",
              "}\n",
              ".tfx-object, .tfx-object * {\n",
              "  font-size: 11pt;\n",
              "}\n",
              ".tfx-object > .title {\n",
              "  cursor: pointer;\n",
              "}\n",
              ".tfx-object .expansion-marker {\n",
              "  color: #999999;\n",
              "}\n",
              ".tfx-object.expanded > .title > .expansion-marker:before {\n",
              "  content: '▼';\n",
              "}\n",
              ".tfx-object.collapsed > .title > .expansion-marker:before {\n",
              "  content: '▶';\n",
              "}\n",
              ".tfx-object .class-name {\n",
              "  font-weight: bold;\n",
              "}\n",
              ".tfx-object .deemphasize {\n",
              "  opacity: 0.5;\n",
              "}\n",
              ".tfx-object.collapsed > table.attr-table {\n",
              "  display: none;\n",
              "}\n",
              ".tfx-object.expanded > table.attr-table {\n",
              "  display: block;\n",
              "}\n",
              ".tfx-object table.attr-table {\n",
              "  border: 2px solid white;\n",
              "  margin-top: 5px;\n",
              "}\n",
              ".tfx-object table.attr-table td.attr-name {\n",
              "  vertical-align: top;\n",
              "  font-weight: bold;\n",
              "}\n",
              ".tfx-object table.attr-table td.attrvalue {\n",
              "  text-align: left;\n",
              "}\n",
              "</style>\n",
              "<script>\n",
              "function toggleTfxObject(element) {\n",
              "  var objElement = element.parentElement;\n",
              "  if (objElement.classList.contains('collapsed')) {\n",
              "    objElement.classList.remove('collapsed');\n",
              "    objElement.classList.add('expanded');\n",
              "  } else {\n",
              "    objElement.classList.add('collapsed');\n",
              "    objElement.classList.remove('expanded');\n",
              "  }\n",
              "}\n",
              "</script>\n",
              "<div class=\"tfx-object collapsed\"><div class = \"title\" onclick=\"toggleTfxObject(this)\"><span class=\"expansion-marker\"></span><span class=\"class-name\">Channel</span> of type <span class=\"class-name\">'ExampleStatistics'</span> (1 artifact)<span class=\"deemphasize\"> at 0x7f1c594ed550</span></div><table class=\"attr-table\"><tr><td class=\"attr-name\">.type_name</td><td class = \"attrvalue\">ExampleStatistics</td></tr><tr><td class=\"attr-name\">._artifacts</td><td class = \"attrvalue\"><table class=\"attr-table\"><tr><td class=\"attr-name\">[0]</td><td class = \"attrvalue\"><style>\n",
              ".tfx-object.expanded {\n",
              "  padding: 4px 8px 4px 8px;\n",
              "  background: white;\n",
              "  border: 1px solid #bbbbbb;\n",
              "  box-shadow: 4px 4px 2px rgba(0,0,0,0.05);\n",
              "}\n",
              ".tfx-object, .tfx-object * {\n",
              "  font-size: 11pt;\n",
              "}\n",
              ".tfx-object > .title {\n",
              "  cursor: pointer;\n",
              "}\n",
              ".tfx-object .expansion-marker {\n",
              "  color: #999999;\n",
              "}\n",
              ".tfx-object.expanded > .title > .expansion-marker:before {\n",
              "  content: '▼';\n",
              "}\n",
              ".tfx-object.collapsed > .title > .expansion-marker:before {\n",
              "  content: '▶';\n",
              "}\n",
              ".tfx-object .class-name {\n",
              "  font-weight: bold;\n",
              "}\n",
              ".tfx-object .deemphasize {\n",
              "  opacity: 0.5;\n",
              "}\n",
              ".tfx-object.collapsed > table.attr-table {\n",
              "  display: none;\n",
              "}\n",
              ".tfx-object.expanded > table.attr-table {\n",
              "  display: block;\n",
              "}\n",
              ".tfx-object table.attr-table {\n",
              "  border: 2px solid white;\n",
              "  margin-top: 5px;\n",
              "}\n",
              ".tfx-object table.attr-table td.attr-name {\n",
              "  vertical-align: top;\n",
              "  font-weight: bold;\n",
              "}\n",
              ".tfx-object table.attr-table td.attrvalue {\n",
              "  text-align: left;\n",
              "}\n",
              "</style>\n",
              "<script>\n",
              "function toggleTfxObject(element) {\n",
              "  var objElement = element.parentElement;\n",
              "  if (objElement.classList.contains('collapsed')) {\n",
              "    objElement.classList.remove('collapsed');\n",
              "    objElement.classList.add('expanded');\n",
              "  } else {\n",
              "    objElement.classList.add('collapsed');\n",
              "    objElement.classList.remove('expanded');\n",
              "  }\n",
              "}\n",
              "</script>\n",
              "<div class=\"tfx-object collapsed\"><div class = \"title\" onclick=\"toggleTfxObject(this)\"><span class=\"expansion-marker\"></span><span class=\"class-name\">Artifact</span> of type <span class=\"class-name\">'ExampleStatistics'</span> (uri: /content/tfx/StatisticsGen/statistics/2)<span class=\"deemphasize\"> at 0x7f1c59513d10</span></div><table class=\"attr-table\"><tr><td class=\"attr-name\">.type</td><td class = \"attrvalue\">&lt;class &#x27;tfx.types.standard_artifacts.ExampleStatistics&#x27;&gt;</td></tr><tr><td class=\"attr-name\">.uri</td><td class = \"attrvalue\">/content/tfx/StatisticsGen/statistics/2</td></tr><tr><td class=\"attr-name\">.span</td><td class = \"attrvalue\">0</td></tr><tr><td class=\"attr-name\">.split_names</td><td class = \"attrvalue\">[&quot;train&quot;, &quot;eval&quot;]</td></tr></table></div></td></tr></table></td></tr></table></div></td></tr></table></td></tr><tr><td class=\"attr-name\">.exec_properties</td><td class = \"attrvalue\"><table class=\"attr-table\"><tr><td class=\"attr-name\">['stats_options_json']</td><td class = \"attrvalue\">None</td></tr><tr><td class=\"attr-name\">['exclude_splits']</td><td class = \"attrvalue\">[]</td></tr></table></td></tr></table></div></td></tr><tr><td class=\"attr-name\">.component.inputs</td><td class = \"attrvalue\"><table class=\"attr-table\"><tr><td class=\"attr-name\">['examples']</td><td class = \"attrvalue\"><style>\n",
              ".tfx-object.expanded {\n",
              "  padding: 4px 8px 4px 8px;\n",
              "  background: white;\n",
              "  border: 1px solid #bbbbbb;\n",
              "  box-shadow: 4px 4px 2px rgba(0,0,0,0.05);\n",
              "}\n",
              ".tfx-object, .tfx-object * {\n",
              "  font-size: 11pt;\n",
              "}\n",
              ".tfx-object > .title {\n",
              "  cursor: pointer;\n",
              "}\n",
              ".tfx-object .expansion-marker {\n",
              "  color: #999999;\n",
              "}\n",
              ".tfx-object.expanded > .title > .expansion-marker:before {\n",
              "  content: '▼';\n",
              "}\n",
              ".tfx-object.collapsed > .title > .expansion-marker:before {\n",
              "  content: '▶';\n",
              "}\n",
              ".tfx-object .class-name {\n",
              "  font-weight: bold;\n",
              "}\n",
              ".tfx-object .deemphasize {\n",
              "  opacity: 0.5;\n",
              "}\n",
              ".tfx-object.collapsed > table.attr-table {\n",
              "  display: none;\n",
              "}\n",
              ".tfx-object.expanded > table.attr-table {\n",
              "  display: block;\n",
              "}\n",
              ".tfx-object table.attr-table {\n",
              "  border: 2px solid white;\n",
              "  margin-top: 5px;\n",
              "}\n",
              ".tfx-object table.attr-table td.attr-name {\n",
              "  vertical-align: top;\n",
              "  font-weight: bold;\n",
              "}\n",
              ".tfx-object table.attr-table td.attrvalue {\n",
              "  text-align: left;\n",
              "}\n",
              "</style>\n",
              "<script>\n",
              "function toggleTfxObject(element) {\n",
              "  var objElement = element.parentElement;\n",
              "  if (objElement.classList.contains('collapsed')) {\n",
              "    objElement.classList.remove('collapsed');\n",
              "    objElement.classList.add('expanded');\n",
              "  } else {\n",
              "    objElement.classList.add('collapsed');\n",
              "    objElement.classList.remove('expanded');\n",
              "  }\n",
              "}\n",
              "</script>\n",
              "<div class=\"tfx-object collapsed\"><div class = \"title\" onclick=\"toggleTfxObject(this)\"><span class=\"expansion-marker\"></span><span class=\"class-name\">Channel</span> of type <span class=\"class-name\">'Examples'</span> (1 artifact)<span class=\"deemphasize\"> at 0x7f1c5af262d0</span></div><table class=\"attr-table\"><tr><td class=\"attr-name\">.type_name</td><td class = \"attrvalue\">Examples</td></tr><tr><td class=\"attr-name\">._artifacts</td><td class = \"attrvalue\"><table class=\"attr-table\"><tr><td class=\"attr-name\">[0]</td><td class = \"attrvalue\"><style>\n",
              ".tfx-object.expanded {\n",
              "  padding: 4px 8px 4px 8px;\n",
              "  background: white;\n",
              "  border: 1px solid #bbbbbb;\n",
              "  box-shadow: 4px 4px 2px rgba(0,0,0,0.05);\n",
              "}\n",
              ".tfx-object, .tfx-object * {\n",
              "  font-size: 11pt;\n",
              "}\n",
              ".tfx-object > .title {\n",
              "  cursor: pointer;\n",
              "}\n",
              ".tfx-object .expansion-marker {\n",
              "  color: #999999;\n",
              "}\n",
              ".tfx-object.expanded > .title > .expansion-marker:before {\n",
              "  content: '▼';\n",
              "}\n",
              ".tfx-object.collapsed > .title > .expansion-marker:before {\n",
              "  content: '▶';\n",
              "}\n",
              ".tfx-object .class-name {\n",
              "  font-weight: bold;\n",
              "}\n",
              ".tfx-object .deemphasize {\n",
              "  opacity: 0.5;\n",
              "}\n",
              ".tfx-object.collapsed > table.attr-table {\n",
              "  display: none;\n",
              "}\n",
              ".tfx-object.expanded > table.attr-table {\n",
              "  display: block;\n",
              "}\n",
              ".tfx-object table.attr-table {\n",
              "  border: 2px solid white;\n",
              "  margin-top: 5px;\n",
              "}\n",
              ".tfx-object table.attr-table td.attr-name {\n",
              "  vertical-align: top;\n",
              "  font-weight: bold;\n",
              "}\n",
              ".tfx-object table.attr-table td.attrvalue {\n",
              "  text-align: left;\n",
              "}\n",
              "</style>\n",
              "<script>\n",
              "function toggleTfxObject(element) {\n",
              "  var objElement = element.parentElement;\n",
              "  if (objElement.classList.contains('collapsed')) {\n",
              "    objElement.classList.remove('collapsed');\n",
              "    objElement.classList.add('expanded');\n",
              "  } else {\n",
              "    objElement.classList.add('collapsed');\n",
              "    objElement.classList.remove('expanded');\n",
              "  }\n",
              "}\n",
              "</script>\n",
              "<div class=\"tfx-object collapsed\"><div class = \"title\" onclick=\"toggleTfxObject(this)\"><span class=\"expansion-marker\"></span><span class=\"class-name\">Artifact</span> of type <span class=\"class-name\">'Examples'</span> (uri: /content/tfx/CsvExampleGen/examples/1)<span class=\"deemphasize\"> at 0x7f1c5af51950</span></div><table class=\"attr-table\"><tr><td class=\"attr-name\">.type</td><td class = \"attrvalue\">&lt;class &#x27;tfx.types.standard_artifacts.Examples&#x27;&gt;</td></tr><tr><td class=\"attr-name\">.uri</td><td class = \"attrvalue\">/content/tfx/CsvExampleGen/examples/1</td></tr><tr><td class=\"attr-name\">.span</td><td class = \"attrvalue\">0</td></tr><tr><td class=\"attr-name\">.split_names</td><td class = \"attrvalue\">[&quot;train&quot;, &quot;eval&quot;]</td></tr><tr><td class=\"attr-name\">.version</td><td class = \"attrvalue\">0</td></tr></table></div></td></tr></table></td></tr></table></div></td></tr></table></td></tr><tr><td class=\"attr-name\">.component.outputs</td><td class = \"attrvalue\"><table class=\"attr-table\"><tr><td class=\"attr-name\">['statistics']</td><td class = \"attrvalue\"><style>\n",
              ".tfx-object.expanded {\n",
              "  padding: 4px 8px 4px 8px;\n",
              "  background: white;\n",
              "  border: 1px solid #bbbbbb;\n",
              "  box-shadow: 4px 4px 2px rgba(0,0,0,0.05);\n",
              "}\n",
              ".tfx-object, .tfx-object * {\n",
              "  font-size: 11pt;\n",
              "}\n",
              ".tfx-object > .title {\n",
              "  cursor: pointer;\n",
              "}\n",
              ".tfx-object .expansion-marker {\n",
              "  color: #999999;\n",
              "}\n",
              ".tfx-object.expanded > .title > .expansion-marker:before {\n",
              "  content: '▼';\n",
              "}\n",
              ".tfx-object.collapsed > .title > .expansion-marker:before {\n",
              "  content: '▶';\n",
              "}\n",
              ".tfx-object .class-name {\n",
              "  font-weight: bold;\n",
              "}\n",
              ".tfx-object .deemphasize {\n",
              "  opacity: 0.5;\n",
              "}\n",
              ".tfx-object.collapsed > table.attr-table {\n",
              "  display: none;\n",
              "}\n",
              ".tfx-object.expanded > table.attr-table {\n",
              "  display: block;\n",
              "}\n",
              ".tfx-object table.attr-table {\n",
              "  border: 2px solid white;\n",
              "  margin-top: 5px;\n",
              "}\n",
              ".tfx-object table.attr-table td.attr-name {\n",
              "  vertical-align: top;\n",
              "  font-weight: bold;\n",
              "}\n",
              ".tfx-object table.attr-table td.attrvalue {\n",
              "  text-align: left;\n",
              "}\n",
              "</style>\n",
              "<script>\n",
              "function toggleTfxObject(element) {\n",
              "  var objElement = element.parentElement;\n",
              "  if (objElement.classList.contains('collapsed')) {\n",
              "    objElement.classList.remove('collapsed');\n",
              "    objElement.classList.add('expanded');\n",
              "  } else {\n",
              "    objElement.classList.add('collapsed');\n",
              "    objElement.classList.remove('expanded');\n",
              "  }\n",
              "}\n",
              "</script>\n",
              "<div class=\"tfx-object collapsed\"><div class = \"title\" onclick=\"toggleTfxObject(this)\"><span class=\"expansion-marker\"></span><span class=\"class-name\">Channel</span> of type <span class=\"class-name\">'ExampleStatistics'</span> (1 artifact)<span class=\"deemphasize\"> at 0x7f1c594ed550</span></div><table class=\"attr-table\"><tr><td class=\"attr-name\">.type_name</td><td class = \"attrvalue\">ExampleStatistics</td></tr><tr><td class=\"attr-name\">._artifacts</td><td class = \"attrvalue\"><table class=\"attr-table\"><tr><td class=\"attr-name\">[0]</td><td class = \"attrvalue\"><style>\n",
              ".tfx-object.expanded {\n",
              "  padding: 4px 8px 4px 8px;\n",
              "  background: white;\n",
              "  border: 1px solid #bbbbbb;\n",
              "  box-shadow: 4px 4px 2px rgba(0,0,0,0.05);\n",
              "}\n",
              ".tfx-object, .tfx-object * {\n",
              "  font-size: 11pt;\n",
              "}\n",
              ".tfx-object > .title {\n",
              "  cursor: pointer;\n",
              "}\n",
              ".tfx-object .expansion-marker {\n",
              "  color: #999999;\n",
              "}\n",
              ".tfx-object.expanded > .title > .expansion-marker:before {\n",
              "  content: '▼';\n",
              "}\n",
              ".tfx-object.collapsed > .title > .expansion-marker:before {\n",
              "  content: '▶';\n",
              "}\n",
              ".tfx-object .class-name {\n",
              "  font-weight: bold;\n",
              "}\n",
              ".tfx-object .deemphasize {\n",
              "  opacity: 0.5;\n",
              "}\n",
              ".tfx-object.collapsed > table.attr-table {\n",
              "  display: none;\n",
              "}\n",
              ".tfx-object.expanded > table.attr-table {\n",
              "  display: block;\n",
              "}\n",
              ".tfx-object table.attr-table {\n",
              "  border: 2px solid white;\n",
              "  margin-top: 5px;\n",
              "}\n",
              ".tfx-object table.attr-table td.attr-name {\n",
              "  vertical-align: top;\n",
              "  font-weight: bold;\n",
              "}\n",
              ".tfx-object table.attr-table td.attrvalue {\n",
              "  text-align: left;\n",
              "}\n",
              "</style>\n",
              "<script>\n",
              "function toggleTfxObject(element) {\n",
              "  var objElement = element.parentElement;\n",
              "  if (objElement.classList.contains('collapsed')) {\n",
              "    objElement.classList.remove('collapsed');\n",
              "    objElement.classList.add('expanded');\n",
              "  } else {\n",
              "    objElement.classList.add('collapsed');\n",
              "    objElement.classList.remove('expanded');\n",
              "  }\n",
              "}\n",
              "</script>\n",
              "<div class=\"tfx-object collapsed\"><div class = \"title\" onclick=\"toggleTfxObject(this)\"><span class=\"expansion-marker\"></span><span class=\"class-name\">Artifact</span> of type <span class=\"class-name\">'ExampleStatistics'</span> (uri: /content/tfx/StatisticsGen/statistics/2)<span class=\"deemphasize\"> at 0x7f1c59513d10</span></div><table class=\"attr-table\"><tr><td class=\"attr-name\">.type</td><td class = \"attrvalue\">&lt;class &#x27;tfx.types.standard_artifacts.ExampleStatistics&#x27;&gt;</td></tr><tr><td class=\"attr-name\">.uri</td><td class = \"attrvalue\">/content/tfx/StatisticsGen/statistics/2</td></tr><tr><td class=\"attr-name\">.span</td><td class = \"attrvalue\">0</td></tr><tr><td class=\"attr-name\">.split_names</td><td class = \"attrvalue\">[&quot;train&quot;, &quot;eval&quot;]</td></tr></table></div></td></tr></table></td></tr></table></div></td></tr></table></td></tr></table></div>"
            ],
            "text/plain": [
              "ExecutionResult(\n",
              "    component_id: StatisticsGen\n",
              "    execution_id: 2\n",
              "    outputs:\n",
              "        statistics: Channel(\n",
              "            type_name: ExampleStatistics\n",
              "            artifacts: [Artifact(artifact: id: 2\n",
              "        type_id: 7\n",
              "        uri: \"/content/tfx/StatisticsGen/statistics/2\"\n",
              "        properties {\n",
              "          key: \"split_names\"\n",
              "          value {\n",
              "            string_value: \"[\\\"train\\\", \\\"eval\\\"]\"\n",
              "          }\n",
              "        }\n",
              "        custom_properties {\n",
              "          key: \"name\"\n",
              "          value {\n",
              "            string_value: \"statistics\"\n",
              "          }\n",
              "        }\n",
              "        custom_properties {\n",
              "          key: \"producer_component\"\n",
              "          value {\n",
              "            string_value: \"StatisticsGen\"\n",
              "          }\n",
              "        }\n",
              "        custom_properties {\n",
              "          key: \"state\"\n",
              "          value {\n",
              "            string_value: \"published\"\n",
              "          }\n",
              "        }\n",
              "        state: LIVE\n",
              "        , artifact_type: id: 7\n",
              "        name: \"ExampleStatistics\"\n",
              "        properties {\n",
              "          key: \"span\"\n",
              "          value: INT\n",
              "        }\n",
              "        properties {\n",
              "          key: \"split_names\"\n",
              "          value: STRING\n",
              "        }\n",
              "        )]\n",
              "            additional_properties: {}\n",
              "            additional_custom_properties: {}\n",
              "        ))"
            ]
          },
          "metadata": {
            "tags": []
          },
          "execution_count": 27
        }
      ]
    },
    {
      "cell_type": "markdown",
      "metadata": {
        "id": "4V3DOFa83jgR"
      },
      "source": [
        "The input and output of the `StatisticsGen` component can be clearly seen above. The `InteractiveContext` is used to see the statistics generated by the `StatisticsGen` component for both the train and eval data using **TFDV**. "
      ]
    },
    {
      "cell_type": "code",
      "metadata": {
        "colab": {
          "base_uri": "https://localhost:8080/",
          "height": 1000
        },
        "id": "hzh53oyC3__e",
        "outputId": "ded71965-83c1-4fc4-f8fa-77b4a26c03d0"
      },
      "source": [
        "context.show(statistics_gen.outputs['statistics'])"
      ],
      "execution_count": 28,
      "outputs": [
        {
          "output_type": "display_data",
          "data": {
            "text/html": [
              "<b>Artifact at /content/tfx/StatisticsGen/statistics/2</b><br/><br/>"
            ],
            "text/plain": [
              "<IPython.core.display.HTML object>"
            ]
          },
          "metadata": {
            "tags": []
          }
        },
        {
          "output_type": "display_data",
          "data": {
            "text/html": [
              "<div><b>'train' split:</b></div><br/>"
            ],
            "text/plain": [
              "<IPython.core.display.HTML object>"
            ]
          },
          "metadata": {
            "tags": []
          }
        },
        {
          "output_type": "stream",
          "text": [
            "WARNING:tensorflow:From /usr/local/lib/python3.7/dist-packages/tensorflow_data_validation/utils/stats_util.py:247: tf_record_iterator (from tensorflow.python.lib.io.tf_record) is deprecated and will be removed in a future version.\n",
            "Instructions for updating:\n",
            "Use eager execution and: \n",
            "`tf.data.TFRecordDataset(path)`\n"
          ],
          "name": "stdout"
        },
        {
          "output_type": "stream",
          "text": [
            "WARNING:tensorflow:From /usr/local/lib/python3.7/dist-packages/tensorflow_data_validation/utils/stats_util.py:247: tf_record_iterator (from tensorflow.python.lib.io.tf_record) is deprecated and will be removed in a future version.\n",
            "Instructions for updating:\n",
            "Use eager execution and: \n",
            "`tf.data.TFRecordDataset(path)`\n"
          ],
          "name": "stderr"
        },
        {
          "output_type": "display_data",
          "data": {
            "text/html": [
              "<iframe id='facets-iframe' width=\"100%\" height=\"500px\"></iframe>\n",
              "        <script>\n",
              "        facets_iframe = document.getElementById('facets-iframe');\n",
              "        facets_html = '<script src=\"https://cdnjs.cloudflare.com/ajax/libs/webcomponentsjs/1.3.3/webcomponents-lite.js\"><\\/script><link rel=\"import\" href=\"https://raw.githubusercontent.com/PAIR-code/facets/master/facets-dist/facets-jupyter.html\"><facets-overview proto-input=\"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\"></facets-overview>';\n",
              "        facets_iframe.srcdoc = facets_html;\n",
              "         facets_iframe.id = \"\";\n",
              "         setTimeout(() => {\n",
              "           facets_iframe.setAttribute('height', facets_iframe.contentWindow.document.body.offsetHeight + 'px')\n",
              "         }, 1500)\n",
              "         </script>"
            ],
            "text/plain": [
              "<IPython.core.display.HTML object>"
            ]
          },
          "metadata": {
            "tags": []
          }
        },
        {
          "output_type": "display_data",
          "data": {
            "text/html": [
              "<div><b>'eval' split:</b></div><br/>"
            ],
            "text/plain": [
              "<IPython.core.display.HTML object>"
            ]
          },
          "metadata": {
            "tags": []
          }
        },
        {
          "output_type": "display_data",
          "data": {
            "text/html": [
              "<iframe id='facets-iframe' width=\"100%\" height=\"500px\"></iframe>\n",
              "        <script>\n",
              "        facets_iframe = document.getElementById('facets-iframe');\n",
              "        facets_html = '<script src=\"https://cdnjs.cloudflare.com/ajax/libs/webcomponentsjs/1.3.3/webcomponents-lite.js\"><\\/script><link rel=\"import\" href=\"https://raw.githubusercontent.com/PAIR-code/facets/master/facets-dist/facets-jupyter.html\"><facets-overview proto-input=\"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\"></facets-overview>';\n",
              "        facets_iframe.srcdoc = facets_html;\n",
              "         facets_iframe.id = \"\";\n",
              "         setTimeout(() => {\n",
              "           facets_iframe.setAttribute('height', facets_iframe.contentWindow.document.body.offsetHeight + 'px')\n",
              "         }, 1500)\n",
              "         </script>"
            ],
            "text/plain": [
              "<IPython.core.display.HTML object>"
            ]
          },
          "metadata": {
            "tags": []
          }
        }
      ]
    },
    {
      "cell_type": "markdown",
      "metadata": {
        "id": "vitbma2d4lK4"
      },
      "source": [
        "This is a useful feature as we can see all the statistics for both the train and eval sets such as the number of missing values, distribution of the data for the dataset in one place without the use of additonal libraries and plots. "
      ]
    },
    {
      "cell_type": "markdown",
      "metadata": {
        "id": "ftIzcYvy5etL"
      },
      "source": [
        "### Schema Gen\n",
        "\n",
        "The next step is to generate a schema from the data statistics using the `SchemaGen` component. This schema takes as input the statistics generated with `StatisticsGen` and defines the expected range of values, data types and properties of the feature in the dataset. It also uses the [TensorFlow Data Validation](https://www.tensorflow.org/tfx/data_validation/get_started) library. \n",
        "\n",
        "Note: The generated schema only tries to infer the basis properties of the data. "
      ]
    },
    {
      "cell_type": "code",
      "metadata": {
        "colab": {
          "base_uri": "https://localhost:8080/",
          "height": 754
        },
        "id": "xP8DCfTc6ZZq",
        "outputId": "b8bd8a43-4b5e-4d9e-811a-510d88936080"
      },
      "source": [
        "schema_gen = SchemaGen(\n",
        "    statistics=statistics_gen.outputs['statistics'],\n",
        "    infer_feature_shape=False)\n",
        "context.run(schema_gen)"
      ],
      "execution_count": 29,
      "outputs": [
        {
          "output_type": "execute_result",
          "data": {
            "text/html": [
              "<style>\n",
              ".tfx-object.expanded {\n",
              "  padding: 4px 8px 4px 8px;\n",
              "  background: white;\n",
              "  border: 1px solid #bbbbbb;\n",
              "  box-shadow: 4px 4px 2px rgba(0,0,0,0.05);\n",
              "}\n",
              ".tfx-object, .tfx-object * {\n",
              "  font-size: 11pt;\n",
              "}\n",
              ".tfx-object > .title {\n",
              "  cursor: pointer;\n",
              "}\n",
              ".tfx-object .expansion-marker {\n",
              "  color: #999999;\n",
              "}\n",
              ".tfx-object.expanded > .title > .expansion-marker:before {\n",
              "  content: '▼';\n",
              "}\n",
              ".tfx-object.collapsed > .title > .expansion-marker:before {\n",
              "  content: '▶';\n",
              "}\n",
              ".tfx-object .class-name {\n",
              "  font-weight: bold;\n",
              "}\n",
              ".tfx-object .deemphasize {\n",
              "  opacity: 0.5;\n",
              "}\n",
              ".tfx-object.collapsed > table.attr-table {\n",
              "  display: none;\n",
              "}\n",
              ".tfx-object.expanded > table.attr-table {\n",
              "  display: block;\n",
              "}\n",
              ".tfx-object table.attr-table {\n",
              "  border: 2px solid white;\n",
              "  margin-top: 5px;\n",
              "}\n",
              ".tfx-object table.attr-table td.attr-name {\n",
              "  vertical-align: top;\n",
              "  font-weight: bold;\n",
              "}\n",
              ".tfx-object table.attr-table td.attrvalue {\n",
              "  text-align: left;\n",
              "}\n",
              "</style>\n",
              "<script>\n",
              "function toggleTfxObject(element) {\n",
              "  var objElement = element.parentElement;\n",
              "  if (objElement.classList.contains('collapsed')) {\n",
              "    objElement.classList.remove('collapsed');\n",
              "    objElement.classList.add('expanded');\n",
              "  } else {\n",
              "    objElement.classList.add('collapsed');\n",
              "    objElement.classList.remove('expanded');\n",
              "  }\n",
              "}\n",
              "</script>\n",
              "<div class=\"tfx-object expanded\"><div class = \"title\" onclick=\"toggleTfxObject(this)\"><span class=\"expansion-marker\"></span><span class=\"class-name\">ExecutionResult</span><span class=\"deemphasize\"> at 0x7f1c57c0de10</span></div><table class=\"attr-table\"><tr><td class=\"attr-name\">.execution_id</td><td class = \"attrvalue\">3</td></tr><tr><td class=\"attr-name\">.component</td><td class = \"attrvalue\"><style>\n",
              ".tfx-object.expanded {\n",
              "  padding: 4px 8px 4px 8px;\n",
              "  background: white;\n",
              "  border: 1px solid #bbbbbb;\n",
              "  box-shadow: 4px 4px 2px rgba(0,0,0,0.05);\n",
              "}\n",
              ".tfx-object, .tfx-object * {\n",
              "  font-size: 11pt;\n",
              "}\n",
              ".tfx-object > .title {\n",
              "  cursor: pointer;\n",
              "}\n",
              ".tfx-object .expansion-marker {\n",
              "  color: #999999;\n",
              "}\n",
              ".tfx-object.expanded > .title > .expansion-marker:before {\n",
              "  content: '▼';\n",
              "}\n",
              ".tfx-object.collapsed > .title > .expansion-marker:before {\n",
              "  content: '▶';\n",
              "}\n",
              ".tfx-object .class-name {\n",
              "  font-weight: bold;\n",
              "}\n",
              ".tfx-object .deemphasize {\n",
              "  opacity: 0.5;\n",
              "}\n",
              ".tfx-object.collapsed > table.attr-table {\n",
              "  display: none;\n",
              "}\n",
              ".tfx-object.expanded > table.attr-table {\n",
              "  display: block;\n",
              "}\n",
              ".tfx-object table.attr-table {\n",
              "  border: 2px solid white;\n",
              "  margin-top: 5px;\n",
              "}\n",
              ".tfx-object table.attr-table td.attr-name {\n",
              "  vertical-align: top;\n",
              "  font-weight: bold;\n",
              "}\n",
              ".tfx-object table.attr-table td.attrvalue {\n",
              "  text-align: left;\n",
              "}\n",
              "</style>\n",
              "<script>\n",
              "function toggleTfxObject(element) {\n",
              "  var objElement = element.parentElement;\n",
              "  if (objElement.classList.contains('collapsed')) {\n",
              "    objElement.classList.remove('collapsed');\n",
              "    objElement.classList.add('expanded');\n",
              "  } else {\n",
              "    objElement.classList.add('collapsed');\n",
              "    objElement.classList.remove('expanded');\n",
              "  }\n",
              "}\n",
              "</script>\n",
              "<div class=\"tfx-object collapsed\"><div class = \"title\" onclick=\"toggleTfxObject(this)\"><span class=\"expansion-marker\"></span><span class=\"class-name\">SchemaGen</span><span class=\"deemphasize\"> at 0x7f1c57ba75d0</span></div><table class=\"attr-table\"><tr><td class=\"attr-name\">.inputs</td><td class = \"attrvalue\"><table class=\"attr-table\"><tr><td class=\"attr-name\">['statistics']</td><td class = \"attrvalue\"><style>\n",
              ".tfx-object.expanded {\n",
              "  padding: 4px 8px 4px 8px;\n",
              "  background: white;\n",
              "  border: 1px solid #bbbbbb;\n",
              "  box-shadow: 4px 4px 2px rgba(0,0,0,0.05);\n",
              "}\n",
              ".tfx-object, .tfx-object * {\n",
              "  font-size: 11pt;\n",
              "}\n",
              ".tfx-object > .title {\n",
              "  cursor: pointer;\n",
              "}\n",
              ".tfx-object .expansion-marker {\n",
              "  color: #999999;\n",
              "}\n",
              ".tfx-object.expanded > .title > .expansion-marker:before {\n",
              "  content: '▼';\n",
              "}\n",
              ".tfx-object.collapsed > .title > .expansion-marker:before {\n",
              "  content: '▶';\n",
              "}\n",
              ".tfx-object .class-name {\n",
              "  font-weight: bold;\n",
              "}\n",
              ".tfx-object .deemphasize {\n",
              "  opacity: 0.5;\n",
              "}\n",
              ".tfx-object.collapsed > table.attr-table {\n",
              "  display: none;\n",
              "}\n",
              ".tfx-object.expanded > table.attr-table {\n",
              "  display: block;\n",
              "}\n",
              ".tfx-object table.attr-table {\n",
              "  border: 2px solid white;\n",
              "  margin-top: 5px;\n",
              "}\n",
              ".tfx-object table.attr-table td.attr-name {\n",
              "  vertical-align: top;\n",
              "  font-weight: bold;\n",
              "}\n",
              ".tfx-object table.attr-table td.attrvalue {\n",
              "  text-align: left;\n",
              "}\n",
              "</style>\n",
              "<script>\n",
              "function toggleTfxObject(element) {\n",
              "  var objElement = element.parentElement;\n",
              "  if (objElement.classList.contains('collapsed')) {\n",
              "    objElement.classList.remove('collapsed');\n",
              "    objElement.classList.add('expanded');\n",
              "  } else {\n",
              "    objElement.classList.add('collapsed');\n",
              "    objElement.classList.remove('expanded');\n",
              "  }\n",
              "}\n",
              "</script>\n",
              "<div class=\"tfx-object collapsed\"><div class = \"title\" onclick=\"toggleTfxObject(this)\"><span class=\"expansion-marker\"></span><span class=\"class-name\">Channel</span> of type <span class=\"class-name\">'ExampleStatistics'</span> (1 artifact)<span class=\"deemphasize\"> at 0x7f1c594ed550</span></div><table class=\"attr-table\"><tr><td class=\"attr-name\">.type_name</td><td class = \"attrvalue\">ExampleStatistics</td></tr><tr><td class=\"attr-name\">._artifacts</td><td class = \"attrvalue\"><table class=\"attr-table\"><tr><td class=\"attr-name\">[0]</td><td class = \"attrvalue\"><style>\n",
              ".tfx-object.expanded {\n",
              "  padding: 4px 8px 4px 8px;\n",
              "  background: white;\n",
              "  border: 1px solid #bbbbbb;\n",
              "  box-shadow: 4px 4px 2px rgba(0,0,0,0.05);\n",
              "}\n",
              ".tfx-object, .tfx-object * {\n",
              "  font-size: 11pt;\n",
              "}\n",
              ".tfx-object > .title {\n",
              "  cursor: pointer;\n",
              "}\n",
              ".tfx-object .expansion-marker {\n",
              "  color: #999999;\n",
              "}\n",
              ".tfx-object.expanded > .title > .expansion-marker:before {\n",
              "  content: '▼';\n",
              "}\n",
              ".tfx-object.collapsed > .title > .expansion-marker:before {\n",
              "  content: '▶';\n",
              "}\n",
              ".tfx-object .class-name {\n",
              "  font-weight: bold;\n",
              "}\n",
              ".tfx-object .deemphasize {\n",
              "  opacity: 0.5;\n",
              "}\n",
              ".tfx-object.collapsed > table.attr-table {\n",
              "  display: none;\n",
              "}\n",
              ".tfx-object.expanded > table.attr-table {\n",
              "  display: block;\n",
              "}\n",
              ".tfx-object table.attr-table {\n",
              "  border: 2px solid white;\n",
              "  margin-top: 5px;\n",
              "}\n",
              ".tfx-object table.attr-table td.attr-name {\n",
              "  vertical-align: top;\n",
              "  font-weight: bold;\n",
              "}\n",
              ".tfx-object table.attr-table td.attrvalue {\n",
              "  text-align: left;\n",
              "}\n",
              "</style>\n",
              "<script>\n",
              "function toggleTfxObject(element) {\n",
              "  var objElement = element.parentElement;\n",
              "  if (objElement.classList.contains('collapsed')) {\n",
              "    objElement.classList.remove('collapsed');\n",
              "    objElement.classList.add('expanded');\n",
              "  } else {\n",
              "    objElement.classList.add('collapsed');\n",
              "    objElement.classList.remove('expanded');\n",
              "  }\n",
              "}\n",
              "</script>\n",
              "<div class=\"tfx-object collapsed\"><div class = \"title\" onclick=\"toggleTfxObject(this)\"><span class=\"expansion-marker\"></span><span class=\"class-name\">Artifact</span> of type <span class=\"class-name\">'ExampleStatistics'</span> (uri: /content/tfx/StatisticsGen/statistics/2)<span class=\"deemphasize\"> at 0x7f1c59513d10</span></div><table class=\"attr-table\"><tr><td class=\"attr-name\">.type</td><td class = \"attrvalue\">&lt;class &#x27;tfx.types.standard_artifacts.ExampleStatistics&#x27;&gt;</td></tr><tr><td class=\"attr-name\">.uri</td><td class = \"attrvalue\">/content/tfx/StatisticsGen/statistics/2</td></tr><tr><td class=\"attr-name\">.span</td><td class = \"attrvalue\">0</td></tr><tr><td class=\"attr-name\">.split_names</td><td class = \"attrvalue\">[&quot;train&quot;, &quot;eval&quot;]</td></tr></table></div></td></tr></table></td></tr></table></div></td></tr></table></td></tr><tr><td class=\"attr-name\">.outputs</td><td class = \"attrvalue\"><table class=\"attr-table\"><tr><td class=\"attr-name\">['schema']</td><td class = \"attrvalue\"><style>\n",
              ".tfx-object.expanded {\n",
              "  padding: 4px 8px 4px 8px;\n",
              "  background: white;\n",
              "  border: 1px solid #bbbbbb;\n",
              "  box-shadow: 4px 4px 2px rgba(0,0,0,0.05);\n",
              "}\n",
              ".tfx-object, .tfx-object * {\n",
              "  font-size: 11pt;\n",
              "}\n",
              ".tfx-object > .title {\n",
              "  cursor: pointer;\n",
              "}\n",
              ".tfx-object .expansion-marker {\n",
              "  color: #999999;\n",
              "}\n",
              ".tfx-object.expanded > .title > .expansion-marker:before {\n",
              "  content: '▼';\n",
              "}\n",
              ".tfx-object.collapsed > .title > .expansion-marker:before {\n",
              "  content: '▶';\n",
              "}\n",
              ".tfx-object .class-name {\n",
              "  font-weight: bold;\n",
              "}\n",
              ".tfx-object .deemphasize {\n",
              "  opacity: 0.5;\n",
              "}\n",
              ".tfx-object.collapsed > table.attr-table {\n",
              "  display: none;\n",
              "}\n",
              ".tfx-object.expanded > table.attr-table {\n",
              "  display: block;\n",
              "}\n",
              ".tfx-object table.attr-table {\n",
              "  border: 2px solid white;\n",
              "  margin-top: 5px;\n",
              "}\n",
              ".tfx-object table.attr-table td.attr-name {\n",
              "  vertical-align: top;\n",
              "  font-weight: bold;\n",
              "}\n",
              ".tfx-object table.attr-table td.attrvalue {\n",
              "  text-align: left;\n",
              "}\n",
              "</style>\n",
              "<script>\n",
              "function toggleTfxObject(element) {\n",
              "  var objElement = element.parentElement;\n",
              "  if (objElement.classList.contains('collapsed')) {\n",
              "    objElement.classList.remove('collapsed');\n",
              "    objElement.classList.add('expanded');\n",
              "  } else {\n",
              "    objElement.classList.add('collapsed');\n",
              "    objElement.classList.remove('expanded');\n",
              "  }\n",
              "}\n",
              "</script>\n",
              "<div class=\"tfx-object collapsed\"><div class = \"title\" onclick=\"toggleTfxObject(this)\"><span class=\"expansion-marker\"></span><span class=\"class-name\">Channel</span> of type <span class=\"class-name\">'Schema'</span> (1 artifact)<span class=\"deemphasize\"> at 0x7f1c57ba7490</span></div><table class=\"attr-table\"><tr><td class=\"attr-name\">.type_name</td><td class = \"attrvalue\">Schema</td></tr><tr><td class=\"attr-name\">._artifacts</td><td class = \"attrvalue\"><table class=\"attr-table\"><tr><td class=\"attr-name\">[0]</td><td class = \"attrvalue\"><style>\n",
              ".tfx-object.expanded {\n",
              "  padding: 4px 8px 4px 8px;\n",
              "  background: white;\n",
              "  border: 1px solid #bbbbbb;\n",
              "  box-shadow: 4px 4px 2px rgba(0,0,0,0.05);\n",
              "}\n",
              ".tfx-object, .tfx-object * {\n",
              "  font-size: 11pt;\n",
              "}\n",
              ".tfx-object > .title {\n",
              "  cursor: pointer;\n",
              "}\n",
              ".tfx-object .expansion-marker {\n",
              "  color: #999999;\n",
              "}\n",
              ".tfx-object.expanded > .title > .expansion-marker:before {\n",
              "  content: '▼';\n",
              "}\n",
              ".tfx-object.collapsed > .title > .expansion-marker:before {\n",
              "  content: '▶';\n",
              "}\n",
              ".tfx-object .class-name {\n",
              "  font-weight: bold;\n",
              "}\n",
              ".tfx-object .deemphasize {\n",
              "  opacity: 0.5;\n",
              "}\n",
              ".tfx-object.collapsed > table.attr-table {\n",
              "  display: none;\n",
              "}\n",
              ".tfx-object.expanded > table.attr-table {\n",
              "  display: block;\n",
              "}\n",
              ".tfx-object table.attr-table {\n",
              "  border: 2px solid white;\n",
              "  margin-top: 5px;\n",
              "}\n",
              ".tfx-object table.attr-table td.attr-name {\n",
              "  vertical-align: top;\n",
              "  font-weight: bold;\n",
              "}\n",
              ".tfx-object table.attr-table td.attrvalue {\n",
              "  text-align: left;\n",
              "}\n",
              "</style>\n",
              "<script>\n",
              "function toggleTfxObject(element) {\n",
              "  var objElement = element.parentElement;\n",
              "  if (objElement.classList.contains('collapsed')) {\n",
              "    objElement.classList.remove('collapsed');\n",
              "    objElement.classList.add('expanded');\n",
              "  } else {\n",
              "    objElement.classList.add('collapsed');\n",
              "    objElement.classList.remove('expanded');\n",
              "  }\n",
              "}\n",
              "</script>\n",
              "<div class=\"tfx-object collapsed\"><div class = \"title\" onclick=\"toggleTfxObject(this)\"><span class=\"expansion-marker\"></span><span class=\"class-name\">Artifact</span> of type <span class=\"class-name\">'Schema'</span> (uri: /content/tfx/SchemaGen/schema/3)<span class=\"deemphasize\"> at 0x7f1c580e8090</span></div><table class=\"attr-table\"><tr><td class=\"attr-name\">.type</td><td class = \"attrvalue\">&lt;class &#x27;tfx.types.standard_artifacts.Schema&#x27;&gt;</td></tr><tr><td class=\"attr-name\">.uri</td><td class = \"attrvalue\">/content/tfx/SchemaGen/schema/3</td></tr></table></div></td></tr></table></td></tr></table></div></td></tr></table></td></tr><tr><td class=\"attr-name\">.exec_properties</td><td class = \"attrvalue\"><table class=\"attr-table\"><tr><td class=\"attr-name\">['infer_feature_shape']</td><td class = \"attrvalue\">0</td></tr><tr><td class=\"attr-name\">['exclude_splits']</td><td class = \"attrvalue\">[]</td></tr></table></td></tr></table></div></td></tr><tr><td class=\"attr-name\">.component.inputs</td><td class = \"attrvalue\"><table class=\"attr-table\"><tr><td class=\"attr-name\">['statistics']</td><td class = \"attrvalue\"><style>\n",
              ".tfx-object.expanded {\n",
              "  padding: 4px 8px 4px 8px;\n",
              "  background: white;\n",
              "  border: 1px solid #bbbbbb;\n",
              "  box-shadow: 4px 4px 2px rgba(0,0,0,0.05);\n",
              "}\n",
              ".tfx-object, .tfx-object * {\n",
              "  font-size: 11pt;\n",
              "}\n",
              ".tfx-object > .title {\n",
              "  cursor: pointer;\n",
              "}\n",
              ".tfx-object .expansion-marker {\n",
              "  color: #999999;\n",
              "}\n",
              ".tfx-object.expanded > .title > .expansion-marker:before {\n",
              "  content: '▼';\n",
              "}\n",
              ".tfx-object.collapsed > .title > .expansion-marker:before {\n",
              "  content: '▶';\n",
              "}\n",
              ".tfx-object .class-name {\n",
              "  font-weight: bold;\n",
              "}\n",
              ".tfx-object .deemphasize {\n",
              "  opacity: 0.5;\n",
              "}\n",
              ".tfx-object.collapsed > table.attr-table {\n",
              "  display: none;\n",
              "}\n",
              ".tfx-object.expanded > table.attr-table {\n",
              "  display: block;\n",
              "}\n",
              ".tfx-object table.attr-table {\n",
              "  border: 2px solid white;\n",
              "  margin-top: 5px;\n",
              "}\n",
              ".tfx-object table.attr-table td.attr-name {\n",
              "  vertical-align: top;\n",
              "  font-weight: bold;\n",
              "}\n",
              ".tfx-object table.attr-table td.attrvalue {\n",
              "  text-align: left;\n",
              "}\n",
              "</style>\n",
              "<script>\n",
              "function toggleTfxObject(element) {\n",
              "  var objElement = element.parentElement;\n",
              "  if (objElement.classList.contains('collapsed')) {\n",
              "    objElement.classList.remove('collapsed');\n",
              "    objElement.classList.add('expanded');\n",
              "  } else {\n",
              "    objElement.classList.add('collapsed');\n",
              "    objElement.classList.remove('expanded');\n",
              "  }\n",
              "}\n",
              "</script>\n",
              "<div class=\"tfx-object collapsed\"><div class = \"title\" onclick=\"toggleTfxObject(this)\"><span class=\"expansion-marker\"></span><span class=\"class-name\">Channel</span> of type <span class=\"class-name\">'ExampleStatistics'</span> (1 artifact)<span class=\"deemphasize\"> at 0x7f1c594ed550</span></div><table class=\"attr-table\"><tr><td class=\"attr-name\">.type_name</td><td class = \"attrvalue\">ExampleStatistics</td></tr><tr><td class=\"attr-name\">._artifacts</td><td class = \"attrvalue\"><table class=\"attr-table\"><tr><td class=\"attr-name\">[0]</td><td class = \"attrvalue\"><style>\n",
              ".tfx-object.expanded {\n",
              "  padding: 4px 8px 4px 8px;\n",
              "  background: white;\n",
              "  border: 1px solid #bbbbbb;\n",
              "  box-shadow: 4px 4px 2px rgba(0,0,0,0.05);\n",
              "}\n",
              ".tfx-object, .tfx-object * {\n",
              "  font-size: 11pt;\n",
              "}\n",
              ".tfx-object > .title {\n",
              "  cursor: pointer;\n",
              "}\n",
              ".tfx-object .expansion-marker {\n",
              "  color: #999999;\n",
              "}\n",
              ".tfx-object.expanded > .title > .expansion-marker:before {\n",
              "  content: '▼';\n",
              "}\n",
              ".tfx-object.collapsed > .title > .expansion-marker:before {\n",
              "  content: '▶';\n",
              "}\n",
              ".tfx-object .class-name {\n",
              "  font-weight: bold;\n",
              "}\n",
              ".tfx-object .deemphasize {\n",
              "  opacity: 0.5;\n",
              "}\n",
              ".tfx-object.collapsed > table.attr-table {\n",
              "  display: none;\n",
              "}\n",
              ".tfx-object.expanded > table.attr-table {\n",
              "  display: block;\n",
              "}\n",
              ".tfx-object table.attr-table {\n",
              "  border: 2px solid white;\n",
              "  margin-top: 5px;\n",
              "}\n",
              ".tfx-object table.attr-table td.attr-name {\n",
              "  vertical-align: top;\n",
              "  font-weight: bold;\n",
              "}\n",
              ".tfx-object table.attr-table td.attrvalue {\n",
              "  text-align: left;\n",
              "}\n",
              "</style>\n",
              "<script>\n",
              "function toggleTfxObject(element) {\n",
              "  var objElement = element.parentElement;\n",
              "  if (objElement.classList.contains('collapsed')) {\n",
              "    objElement.classList.remove('collapsed');\n",
              "    objElement.classList.add('expanded');\n",
              "  } else {\n",
              "    objElement.classList.add('collapsed');\n",
              "    objElement.classList.remove('expanded');\n",
              "  }\n",
              "}\n",
              "</script>\n",
              "<div class=\"tfx-object collapsed\"><div class = \"title\" onclick=\"toggleTfxObject(this)\"><span class=\"expansion-marker\"></span><span class=\"class-name\">Artifact</span> of type <span class=\"class-name\">'ExampleStatistics'</span> (uri: /content/tfx/StatisticsGen/statistics/2)<span class=\"deemphasize\"> at 0x7f1c59513d10</span></div><table class=\"attr-table\"><tr><td class=\"attr-name\">.type</td><td class = \"attrvalue\">&lt;class &#x27;tfx.types.standard_artifacts.ExampleStatistics&#x27;&gt;</td></tr><tr><td class=\"attr-name\">.uri</td><td class = \"attrvalue\">/content/tfx/StatisticsGen/statistics/2</td></tr><tr><td class=\"attr-name\">.span</td><td class = \"attrvalue\">0</td></tr><tr><td class=\"attr-name\">.split_names</td><td class = \"attrvalue\">[&quot;train&quot;, &quot;eval&quot;]</td></tr></table></div></td></tr></table></td></tr></table></div></td></tr></table></td></tr><tr><td class=\"attr-name\">.component.outputs</td><td class = \"attrvalue\"><table class=\"attr-table\"><tr><td class=\"attr-name\">['schema']</td><td class = \"attrvalue\"><style>\n",
              ".tfx-object.expanded {\n",
              "  padding: 4px 8px 4px 8px;\n",
              "  background: white;\n",
              "  border: 1px solid #bbbbbb;\n",
              "  box-shadow: 4px 4px 2px rgba(0,0,0,0.05);\n",
              "}\n",
              ".tfx-object, .tfx-object * {\n",
              "  font-size: 11pt;\n",
              "}\n",
              ".tfx-object > .title {\n",
              "  cursor: pointer;\n",
              "}\n",
              ".tfx-object .expansion-marker {\n",
              "  color: #999999;\n",
              "}\n",
              ".tfx-object.expanded > .title > .expansion-marker:before {\n",
              "  content: '▼';\n",
              "}\n",
              ".tfx-object.collapsed > .title > .expansion-marker:before {\n",
              "  content: '▶';\n",
              "}\n",
              ".tfx-object .class-name {\n",
              "  font-weight: bold;\n",
              "}\n",
              ".tfx-object .deemphasize {\n",
              "  opacity: 0.5;\n",
              "}\n",
              ".tfx-object.collapsed > table.attr-table {\n",
              "  display: none;\n",
              "}\n",
              ".tfx-object.expanded > table.attr-table {\n",
              "  display: block;\n",
              "}\n",
              ".tfx-object table.attr-table {\n",
              "  border: 2px solid white;\n",
              "  margin-top: 5px;\n",
              "}\n",
              ".tfx-object table.attr-table td.attr-name {\n",
              "  vertical-align: top;\n",
              "  font-weight: bold;\n",
              "}\n",
              ".tfx-object table.attr-table td.attrvalue {\n",
              "  text-align: left;\n",
              "}\n",
              "</style>\n",
              "<script>\n",
              "function toggleTfxObject(element) {\n",
              "  var objElement = element.parentElement;\n",
              "  if (objElement.classList.contains('collapsed')) {\n",
              "    objElement.classList.remove('collapsed');\n",
              "    objElement.classList.add('expanded');\n",
              "  } else {\n",
              "    objElement.classList.add('collapsed');\n",
              "    objElement.classList.remove('expanded');\n",
              "  }\n",
              "}\n",
              "</script>\n",
              "<div class=\"tfx-object collapsed\"><div class = \"title\" onclick=\"toggleTfxObject(this)\"><span class=\"expansion-marker\"></span><span class=\"class-name\">Channel</span> of type <span class=\"class-name\">'Schema'</span> (1 artifact)<span class=\"deemphasize\"> at 0x7f1c57ba7490</span></div><table class=\"attr-table\"><tr><td class=\"attr-name\">.type_name</td><td class = \"attrvalue\">Schema</td></tr><tr><td class=\"attr-name\">._artifacts</td><td class = \"attrvalue\"><table class=\"attr-table\"><tr><td class=\"attr-name\">[0]</td><td class = \"attrvalue\"><style>\n",
              ".tfx-object.expanded {\n",
              "  padding: 4px 8px 4px 8px;\n",
              "  background: white;\n",
              "  border: 1px solid #bbbbbb;\n",
              "  box-shadow: 4px 4px 2px rgba(0,0,0,0.05);\n",
              "}\n",
              ".tfx-object, .tfx-object * {\n",
              "  font-size: 11pt;\n",
              "}\n",
              ".tfx-object > .title {\n",
              "  cursor: pointer;\n",
              "}\n",
              ".tfx-object .expansion-marker {\n",
              "  color: #999999;\n",
              "}\n",
              ".tfx-object.expanded > .title > .expansion-marker:before {\n",
              "  content: '▼';\n",
              "}\n",
              ".tfx-object.collapsed > .title > .expansion-marker:before {\n",
              "  content: '▶';\n",
              "}\n",
              ".tfx-object .class-name {\n",
              "  font-weight: bold;\n",
              "}\n",
              ".tfx-object .deemphasize {\n",
              "  opacity: 0.5;\n",
              "}\n",
              ".tfx-object.collapsed > table.attr-table {\n",
              "  display: none;\n",
              "}\n",
              ".tfx-object.expanded > table.attr-table {\n",
              "  display: block;\n",
              "}\n",
              ".tfx-object table.attr-table {\n",
              "  border: 2px solid white;\n",
              "  margin-top: 5px;\n",
              "}\n",
              ".tfx-object table.attr-table td.attr-name {\n",
              "  vertical-align: top;\n",
              "  font-weight: bold;\n",
              "}\n",
              ".tfx-object table.attr-table td.attrvalue {\n",
              "  text-align: left;\n",
              "}\n",
              "</style>\n",
              "<script>\n",
              "function toggleTfxObject(element) {\n",
              "  var objElement = element.parentElement;\n",
              "  if (objElement.classList.contains('collapsed')) {\n",
              "    objElement.classList.remove('collapsed');\n",
              "    objElement.classList.add('expanded');\n",
              "  } else {\n",
              "    objElement.classList.add('collapsed');\n",
              "    objElement.classList.remove('expanded');\n",
              "  }\n",
              "}\n",
              "</script>\n",
              "<div class=\"tfx-object collapsed\"><div class = \"title\" onclick=\"toggleTfxObject(this)\"><span class=\"expansion-marker\"></span><span class=\"class-name\">Artifact</span> of type <span class=\"class-name\">'Schema'</span> (uri: /content/tfx/SchemaGen/schema/3)<span class=\"deemphasize\"> at 0x7f1c580e8090</span></div><table class=\"attr-table\"><tr><td class=\"attr-name\">.type</td><td class = \"attrvalue\">&lt;class &#x27;tfx.types.standard_artifacts.Schema&#x27;&gt;</td></tr><tr><td class=\"attr-name\">.uri</td><td class = \"attrvalue\">/content/tfx/SchemaGen/schema/3</td></tr></table></div></td></tr></table></td></tr></table></div></td></tr></table></td></tr></table></div>"
            ],
            "text/plain": [
              "ExecutionResult(\n",
              "    component_id: SchemaGen\n",
              "    execution_id: 3\n",
              "    outputs:\n",
              "        schema: Channel(\n",
              "            type_name: Schema\n",
              "            artifacts: [Artifact(artifact: id: 3\n",
              "        type_id: 9\n",
              "        uri: \"/content/tfx/SchemaGen/schema/3\"\n",
              "        custom_properties {\n",
              "          key: \"name\"\n",
              "          value {\n",
              "            string_value: \"schema\"\n",
              "          }\n",
              "        }\n",
              "        custom_properties {\n",
              "          key: \"producer_component\"\n",
              "          value {\n",
              "            string_value: \"SchemaGen\"\n",
              "          }\n",
              "        }\n",
              "        custom_properties {\n",
              "          key: \"state\"\n",
              "          value {\n",
              "            string_value: \"published\"\n",
              "          }\n",
              "        }\n",
              "        state: LIVE\n",
              "        , artifact_type: id: 9\n",
              "        name: \"Schema\"\n",
              "        )]\n",
              "            additional_properties: {}\n",
              "            additional_custom_properties: {}\n",
              "        ))"
            ]
          },
          "metadata": {
            "tags": []
          },
          "execution_count": 29
        }
      ]
    },
    {
      "cell_type": "markdown",
      "metadata": {
        "id": "JGelWGhA6nE3"
      },
      "source": [
        "Visualizing the generated schema using the `InteractiveContext`"
      ]
    },
    {
      "cell_type": "code",
      "metadata": {
        "colab": {
          "base_uri": "https://localhost:8080/",
          "height": 362
        },
        "id": "YGdLg5hk635X",
        "outputId": "dcceb3f5-aaf3-42cc-aaa3-4c907af1837b"
      },
      "source": [
        "context.show(schema_gen.outputs['schema'])"
      ],
      "execution_count": 30,
      "outputs": [
        {
          "output_type": "display_data",
          "data": {
            "text/html": [
              "<b>Artifact at /content/tfx/SchemaGen/schema/3</b><br/><br/>"
            ],
            "text/plain": [
              "<IPython.core.display.HTML object>"
            ]
          },
          "metadata": {
            "tags": []
          }
        },
        {
          "output_type": "display_data",
          "data": {
            "text/html": [
              "<div>\n",
              "<style scoped>\n",
              "    .dataframe tbody tr th:only-of-type {\n",
              "        vertical-align: middle;\n",
              "    }\n",
              "\n",
              "    .dataframe tbody tr th {\n",
              "        vertical-align: top;\n",
              "    }\n",
              "\n",
              "    .dataframe thead th {\n",
              "        text-align: right;\n",
              "    }\n",
              "</style>\n",
              "<table border=\"1\" class=\"dataframe\">\n",
              "  <thead>\n",
              "    <tr style=\"text-align: right;\">\n",
              "      <th></th>\n",
              "      <th>Type</th>\n",
              "      <th>Presence</th>\n",
              "      <th>Valency</th>\n",
              "      <th>Domain</th>\n",
              "    </tr>\n",
              "    <tr>\n",
              "      <th>Feature name</th>\n",
              "      <th></th>\n",
              "      <th></th>\n",
              "      <th></th>\n",
              "      <th></th>\n",
              "    </tr>\n",
              "  </thead>\n",
              "  <tbody>\n",
              "    <tr>\n",
              "      <th>'dropoff_latitude'</th>\n",
              "      <td>FLOAT</td>\n",
              "      <td>required</td>\n",
              "      <td>single</td>\n",
              "      <td>-</td>\n",
              "    </tr>\n",
              "    <tr>\n",
              "      <th>'dropoff_longitude'</th>\n",
              "      <td>FLOAT</td>\n",
              "      <td>required</td>\n",
              "      <td>single</td>\n",
              "      <td>-</td>\n",
              "    </tr>\n",
              "    <tr>\n",
              "      <th>'fare'</th>\n",
              "      <td>FLOAT</td>\n",
              "      <td>required</td>\n",
              "      <td>single</td>\n",
              "      <td>-</td>\n",
              "    </tr>\n",
              "    <tr>\n",
              "      <th>'pickup_latitude'</th>\n",
              "      <td>FLOAT</td>\n",
              "      <td>required</td>\n",
              "      <td>single</td>\n",
              "      <td>-</td>\n",
              "    </tr>\n",
              "    <tr>\n",
              "      <th>'pickup_longitude'</th>\n",
              "      <td>FLOAT</td>\n",
              "      <td>required</td>\n",
              "      <td>single</td>\n",
              "      <td>-</td>\n",
              "    </tr>\n",
              "    <tr>\n",
              "      <th>'trip_start_day'</th>\n",
              "      <td>INT</td>\n",
              "      <td>required</td>\n",
              "      <td>single</td>\n",
              "      <td>-</td>\n",
              "    </tr>\n",
              "    <tr>\n",
              "      <th>'trip_start_hour'</th>\n",
              "      <td>INT</td>\n",
              "      <td>required</td>\n",
              "      <td>single</td>\n",
              "      <td>-</td>\n",
              "    </tr>\n",
              "    <tr>\n",
              "      <th>'trip_start_month'</th>\n",
              "      <td>INT</td>\n",
              "      <td>required</td>\n",
              "      <td>single</td>\n",
              "      <td>-</td>\n",
              "    </tr>\n",
              "  </tbody>\n",
              "</table>\n",
              "</div>"
            ],
            "text/plain": [
              "                      Type  Presence Valency Domain\n",
              "Feature name                                       \n",
              "'dropoff_latitude'   FLOAT  required  single      -\n",
              "'dropoff_longitude'  FLOAT  required  single      -\n",
              "'fare'               FLOAT  required  single      -\n",
              "'pickup_latitude'    FLOAT  required  single      -\n",
              "'pickup_longitude'   FLOAT  required  single      -\n",
              "'trip_start_day'       INT  required  single      -\n",
              "'trip_start_hour'      INT  required  single      -\n",
              "'trip_start_month'     INT  required  single      -"
            ]
          },
          "metadata": {
            "tags": []
          }
        }
      ]
    },
    {
      "cell_type": "markdown",
      "metadata": {
        "id": "m33STCbo677t"
      },
      "source": [
        "All the columns/features present in the dataset are shown in the schema along with its properties. \n",
        "The purpose of a schema is twofold:\n",
        "1. Identify if retraining is required by examining the changes in the data (missing/additional columns, changes in values of data)\n",
        "2. It checks the latest data to make sure all the required features are present in the dataset during retraining\n"
      ]
    },
    {
      "cell_type": "markdown",
      "metadata": {
        "id": "jv7_diEK7pb6"
      },
      "source": [
        "### Example Validator\n",
        "\n",
        "This component detects anomalies in the dataset based on the statistics and schema generated.\n",
        "It also uses the [TensorFlow Data Validation](https://www.tensorflow.org/tfx/data_validation/get_started) library.\n"
      ]
    },
    {
      "cell_type": "code",
      "metadata": {
        "colab": {
          "base_uri": "https://localhost:8080/",
          "height": 716
        },
        "id": "j8QfDgY38slC",
        "outputId": "dfaaae66-ded8-45e7-af9d-28240f66ab02"
      },
      "source": [
        "example_validator = ExampleValidator(\n",
        "    statistics=statistics_gen.outputs['statistics'],\n",
        "    schema=schema_gen.outputs['schema'])\n",
        "context.run(example_validator)"
      ],
      "execution_count": 31,
      "outputs": [
        {
          "output_type": "execute_result",
          "data": {
            "text/html": [
              "<style>\n",
              ".tfx-object.expanded {\n",
              "  padding: 4px 8px 4px 8px;\n",
              "  background: white;\n",
              "  border: 1px solid #bbbbbb;\n",
              "  box-shadow: 4px 4px 2px rgba(0,0,0,0.05);\n",
              "}\n",
              ".tfx-object, .tfx-object * {\n",
              "  font-size: 11pt;\n",
              "}\n",
              ".tfx-object > .title {\n",
              "  cursor: pointer;\n",
              "}\n",
              ".tfx-object .expansion-marker {\n",
              "  color: #999999;\n",
              "}\n",
              ".tfx-object.expanded > .title > .expansion-marker:before {\n",
              "  content: '▼';\n",
              "}\n",
              ".tfx-object.collapsed > .title > .expansion-marker:before {\n",
              "  content: '▶';\n",
              "}\n",
              ".tfx-object .class-name {\n",
              "  font-weight: bold;\n",
              "}\n",
              ".tfx-object .deemphasize {\n",
              "  opacity: 0.5;\n",
              "}\n",
              ".tfx-object.collapsed > table.attr-table {\n",
              "  display: none;\n",
              "}\n",
              ".tfx-object.expanded > table.attr-table {\n",
              "  display: block;\n",
              "}\n",
              ".tfx-object table.attr-table {\n",
              "  border: 2px solid white;\n",
              "  margin-top: 5px;\n",
              "}\n",
              ".tfx-object table.attr-table td.attr-name {\n",
              "  vertical-align: top;\n",
              "  font-weight: bold;\n",
              "}\n",
              ".tfx-object table.attr-table td.attrvalue {\n",
              "  text-align: left;\n",
              "}\n",
              "</style>\n",
              "<script>\n",
              "function toggleTfxObject(element) {\n",
              "  var objElement = element.parentElement;\n",
              "  if (objElement.classList.contains('collapsed')) {\n",
              "    objElement.classList.remove('collapsed');\n",
              "    objElement.classList.add('expanded');\n",
              "  } else {\n",
              "    objElement.classList.add('collapsed');\n",
              "    objElement.classList.remove('expanded');\n",
              "  }\n",
              "}\n",
              "</script>\n",
              "<div class=\"tfx-object expanded\"><div class = \"title\" onclick=\"toggleTfxObject(this)\"><span class=\"expansion-marker\"></span><span class=\"class-name\">ExecutionResult</span><span class=\"deemphasize\"> at 0x7f1c530e5fd0</span></div><table class=\"attr-table\"><tr><td class=\"attr-name\">.execution_id</td><td class = \"attrvalue\">4</td></tr><tr><td class=\"attr-name\">.component</td><td class = \"attrvalue\"><style>\n",
              ".tfx-object.expanded {\n",
              "  padding: 4px 8px 4px 8px;\n",
              "  background: white;\n",
              "  border: 1px solid #bbbbbb;\n",
              "  box-shadow: 4px 4px 2px rgba(0,0,0,0.05);\n",
              "}\n",
              ".tfx-object, .tfx-object * {\n",
              "  font-size: 11pt;\n",
              "}\n",
              ".tfx-object > .title {\n",
              "  cursor: pointer;\n",
              "}\n",
              ".tfx-object .expansion-marker {\n",
              "  color: #999999;\n",
              "}\n",
              ".tfx-object.expanded > .title > .expansion-marker:before {\n",
              "  content: '▼';\n",
              "}\n",
              ".tfx-object.collapsed > .title > .expansion-marker:before {\n",
              "  content: '▶';\n",
              "}\n",
              ".tfx-object .class-name {\n",
              "  font-weight: bold;\n",
              "}\n",
              ".tfx-object .deemphasize {\n",
              "  opacity: 0.5;\n",
              "}\n",
              ".tfx-object.collapsed > table.attr-table {\n",
              "  display: none;\n",
              "}\n",
              ".tfx-object.expanded > table.attr-table {\n",
              "  display: block;\n",
              "}\n",
              ".tfx-object table.attr-table {\n",
              "  border: 2px solid white;\n",
              "  margin-top: 5px;\n",
              "}\n",
              ".tfx-object table.attr-table td.attr-name {\n",
              "  vertical-align: top;\n",
              "  font-weight: bold;\n",
              "}\n",
              ".tfx-object table.attr-table td.attrvalue {\n",
              "  text-align: left;\n",
              "}\n",
              "</style>\n",
              "<script>\n",
              "function toggleTfxObject(element) {\n",
              "  var objElement = element.parentElement;\n",
              "  if (objElement.classList.contains('collapsed')) {\n",
              "    objElement.classList.remove('collapsed');\n",
              "    objElement.classList.add('expanded');\n",
              "  } else {\n",
              "    objElement.classList.add('collapsed');\n",
              "    objElement.classList.remove('expanded');\n",
              "  }\n",
              "}\n",
              "</script>\n",
              "<div class=\"tfx-object collapsed\"><div class = \"title\" onclick=\"toggleTfxObject(this)\"><span class=\"expansion-marker\"></span><span class=\"class-name\">ExampleValidator</span><span class=\"deemphasize\"> at 0x7f1c530728d0</span></div><table class=\"attr-table\"><tr><td class=\"attr-name\">.inputs</td><td class = \"attrvalue\"><table class=\"attr-table\"><tr><td class=\"attr-name\">['statistics']</td><td class = \"attrvalue\"><style>\n",
              ".tfx-object.expanded {\n",
              "  padding: 4px 8px 4px 8px;\n",
              "  background: white;\n",
              "  border: 1px solid #bbbbbb;\n",
              "  box-shadow: 4px 4px 2px rgba(0,0,0,0.05);\n",
              "}\n",
              ".tfx-object, .tfx-object * {\n",
              "  font-size: 11pt;\n",
              "}\n",
              ".tfx-object > .title {\n",
              "  cursor: pointer;\n",
              "}\n",
              ".tfx-object .expansion-marker {\n",
              "  color: #999999;\n",
              "}\n",
              ".tfx-object.expanded > .title > .expansion-marker:before {\n",
              "  content: '▼';\n",
              "}\n",
              ".tfx-object.collapsed > .title > .expansion-marker:before {\n",
              "  content: '▶';\n",
              "}\n",
              ".tfx-object .class-name {\n",
              "  font-weight: bold;\n",
              "}\n",
              ".tfx-object .deemphasize {\n",
              "  opacity: 0.5;\n",
              "}\n",
              ".tfx-object.collapsed > table.attr-table {\n",
              "  display: none;\n",
              "}\n",
              ".tfx-object.expanded > table.attr-table {\n",
              "  display: block;\n",
              "}\n",
              ".tfx-object table.attr-table {\n",
              "  border: 2px solid white;\n",
              "  margin-top: 5px;\n",
              "}\n",
              ".tfx-object table.attr-table td.attr-name {\n",
              "  vertical-align: top;\n",
              "  font-weight: bold;\n",
              "}\n",
              ".tfx-object table.attr-table td.attrvalue {\n",
              "  text-align: left;\n",
              "}\n",
              "</style>\n",
              "<script>\n",
              "function toggleTfxObject(element) {\n",
              "  var objElement = element.parentElement;\n",
              "  if (objElement.classList.contains('collapsed')) {\n",
              "    objElement.classList.remove('collapsed');\n",
              "    objElement.classList.add('expanded');\n",
              "  } else {\n",
              "    objElement.classList.add('collapsed');\n",
              "    objElement.classList.remove('expanded');\n",
              "  }\n",
              "}\n",
              "</script>\n",
              "<div class=\"tfx-object collapsed\"><div class = \"title\" onclick=\"toggleTfxObject(this)\"><span class=\"expansion-marker\"></span><span class=\"class-name\">Channel</span> of type <span class=\"class-name\">'ExampleStatistics'</span> (1 artifact)<span class=\"deemphasize\"> at 0x7f1c594ed550</span></div><table class=\"attr-table\"><tr><td class=\"attr-name\">.type_name</td><td class = \"attrvalue\">ExampleStatistics</td></tr><tr><td class=\"attr-name\">._artifacts</td><td class = \"attrvalue\"><table class=\"attr-table\"><tr><td class=\"attr-name\">[0]</td><td class = \"attrvalue\"><style>\n",
              ".tfx-object.expanded {\n",
              "  padding: 4px 8px 4px 8px;\n",
              "  background: white;\n",
              "  border: 1px solid #bbbbbb;\n",
              "  box-shadow: 4px 4px 2px rgba(0,0,0,0.05);\n",
              "}\n",
              ".tfx-object, .tfx-object * {\n",
              "  font-size: 11pt;\n",
              "}\n",
              ".tfx-object > .title {\n",
              "  cursor: pointer;\n",
              "}\n",
              ".tfx-object .expansion-marker {\n",
              "  color: #999999;\n",
              "}\n",
              ".tfx-object.expanded > .title > .expansion-marker:before {\n",
              "  content: '▼';\n",
              "}\n",
              ".tfx-object.collapsed > .title > .expansion-marker:before {\n",
              "  content: '▶';\n",
              "}\n",
              ".tfx-object .class-name {\n",
              "  font-weight: bold;\n",
              "}\n",
              ".tfx-object .deemphasize {\n",
              "  opacity: 0.5;\n",
              "}\n",
              ".tfx-object.collapsed > table.attr-table {\n",
              "  display: none;\n",
              "}\n",
              ".tfx-object.expanded > table.attr-table {\n",
              "  display: block;\n",
              "}\n",
              ".tfx-object table.attr-table {\n",
              "  border: 2px solid white;\n",
              "  margin-top: 5px;\n",
              "}\n",
              ".tfx-object table.attr-table td.attr-name {\n",
              "  vertical-align: top;\n",
              "  font-weight: bold;\n",
              "}\n",
              ".tfx-object table.attr-table td.attrvalue {\n",
              "  text-align: left;\n",
              "}\n",
              "</style>\n",
              "<script>\n",
              "function toggleTfxObject(element) {\n",
              "  var objElement = element.parentElement;\n",
              "  if (objElement.classList.contains('collapsed')) {\n",
              "    objElement.classList.remove('collapsed');\n",
              "    objElement.classList.add('expanded');\n",
              "  } else {\n",
              "    objElement.classList.add('collapsed');\n",
              "    objElement.classList.remove('expanded');\n",
              "  }\n",
              "}\n",
              "</script>\n",
              "<div class=\"tfx-object collapsed\"><div class = \"title\" onclick=\"toggleTfxObject(this)\"><span class=\"expansion-marker\"></span><span class=\"class-name\">Artifact</span> of type <span class=\"class-name\">'ExampleStatistics'</span> (uri: /content/tfx/StatisticsGen/statistics/2)<span class=\"deemphasize\"> at 0x7f1c59513d10</span></div><table class=\"attr-table\"><tr><td class=\"attr-name\">.type</td><td class = \"attrvalue\">&lt;class &#x27;tfx.types.standard_artifacts.ExampleStatistics&#x27;&gt;</td></tr><tr><td class=\"attr-name\">.uri</td><td class = \"attrvalue\">/content/tfx/StatisticsGen/statistics/2</td></tr><tr><td class=\"attr-name\">.span</td><td class = \"attrvalue\">0</td></tr><tr><td class=\"attr-name\">.split_names</td><td class = \"attrvalue\">[&quot;train&quot;, &quot;eval&quot;]</td></tr></table></div></td></tr></table></td></tr></table></div></td></tr><tr><td class=\"attr-name\">['schema']</td><td class = \"attrvalue\"><style>\n",
              ".tfx-object.expanded {\n",
              "  padding: 4px 8px 4px 8px;\n",
              "  background: white;\n",
              "  border: 1px solid #bbbbbb;\n",
              "  box-shadow: 4px 4px 2px rgba(0,0,0,0.05);\n",
              "}\n",
              ".tfx-object, .tfx-object * {\n",
              "  font-size: 11pt;\n",
              "}\n",
              ".tfx-object > .title {\n",
              "  cursor: pointer;\n",
              "}\n",
              ".tfx-object .expansion-marker {\n",
              "  color: #999999;\n",
              "}\n",
              ".tfx-object.expanded > .title > .expansion-marker:before {\n",
              "  content: '▼';\n",
              "}\n",
              ".tfx-object.collapsed > .title > .expansion-marker:before {\n",
              "  content: '▶';\n",
              "}\n",
              ".tfx-object .class-name {\n",
              "  font-weight: bold;\n",
              "}\n",
              ".tfx-object .deemphasize {\n",
              "  opacity: 0.5;\n",
              "}\n",
              ".tfx-object.collapsed > table.attr-table {\n",
              "  display: none;\n",
              "}\n",
              ".tfx-object.expanded > table.attr-table {\n",
              "  display: block;\n",
              "}\n",
              ".tfx-object table.attr-table {\n",
              "  border: 2px solid white;\n",
              "  margin-top: 5px;\n",
              "}\n",
              ".tfx-object table.attr-table td.attr-name {\n",
              "  vertical-align: top;\n",
              "  font-weight: bold;\n",
              "}\n",
              ".tfx-object table.attr-table td.attrvalue {\n",
              "  text-align: left;\n",
              "}\n",
              "</style>\n",
              "<script>\n",
              "function toggleTfxObject(element) {\n",
              "  var objElement = element.parentElement;\n",
              "  if (objElement.classList.contains('collapsed')) {\n",
              "    objElement.classList.remove('collapsed');\n",
              "    objElement.classList.add('expanded');\n",
              "  } else {\n",
              "    objElement.classList.add('collapsed');\n",
              "    objElement.classList.remove('expanded');\n",
              "  }\n",
              "}\n",
              "</script>\n",
              "<div class=\"tfx-object collapsed\"><div class = \"title\" onclick=\"toggleTfxObject(this)\"><span class=\"expansion-marker\"></span><span class=\"class-name\">Channel</span> of type <span class=\"class-name\">'Schema'</span> (1 artifact)<span class=\"deemphasize\"> at 0x7f1c57ba7490</span></div><table class=\"attr-table\"><tr><td class=\"attr-name\">.type_name</td><td class = \"attrvalue\">Schema</td></tr><tr><td class=\"attr-name\">._artifacts</td><td class = \"attrvalue\"><table class=\"attr-table\"><tr><td class=\"attr-name\">[0]</td><td class = \"attrvalue\"><style>\n",
              ".tfx-object.expanded {\n",
              "  padding: 4px 8px 4px 8px;\n",
              "  background: white;\n",
              "  border: 1px solid #bbbbbb;\n",
              "  box-shadow: 4px 4px 2px rgba(0,0,0,0.05);\n",
              "}\n",
              ".tfx-object, .tfx-object * {\n",
              "  font-size: 11pt;\n",
              "}\n",
              ".tfx-object > .title {\n",
              "  cursor: pointer;\n",
              "}\n",
              ".tfx-object .expansion-marker {\n",
              "  color: #999999;\n",
              "}\n",
              ".tfx-object.expanded > .title > .expansion-marker:before {\n",
              "  content: '▼';\n",
              "}\n",
              ".tfx-object.collapsed > .title > .expansion-marker:before {\n",
              "  content: '▶';\n",
              "}\n",
              ".tfx-object .class-name {\n",
              "  font-weight: bold;\n",
              "}\n",
              ".tfx-object .deemphasize {\n",
              "  opacity: 0.5;\n",
              "}\n",
              ".tfx-object.collapsed > table.attr-table {\n",
              "  display: none;\n",
              "}\n",
              ".tfx-object.expanded > table.attr-table {\n",
              "  display: block;\n",
              "}\n",
              ".tfx-object table.attr-table {\n",
              "  border: 2px solid white;\n",
              "  margin-top: 5px;\n",
              "}\n",
              ".tfx-object table.attr-table td.attr-name {\n",
              "  vertical-align: top;\n",
              "  font-weight: bold;\n",
              "}\n",
              ".tfx-object table.attr-table td.attrvalue {\n",
              "  text-align: left;\n",
              "}\n",
              "</style>\n",
              "<script>\n",
              "function toggleTfxObject(element) {\n",
              "  var objElement = element.parentElement;\n",
              "  if (objElement.classList.contains('collapsed')) {\n",
              "    objElement.classList.remove('collapsed');\n",
              "    objElement.classList.add('expanded');\n",
              "  } else {\n",
              "    objElement.classList.add('collapsed');\n",
              "    objElement.classList.remove('expanded');\n",
              "  }\n",
              "}\n",
              "</script>\n",
              "<div class=\"tfx-object collapsed\"><div class = \"title\" onclick=\"toggleTfxObject(this)\"><span class=\"expansion-marker\"></span><span class=\"class-name\">Artifact</span> of type <span class=\"class-name\">'Schema'</span> (uri: /content/tfx/SchemaGen/schema/3)<span class=\"deemphasize\"> at 0x7f1c580e8090</span></div><table class=\"attr-table\"><tr><td class=\"attr-name\">.type</td><td class = \"attrvalue\">&lt;class &#x27;tfx.types.standard_artifacts.Schema&#x27;&gt;</td></tr><tr><td class=\"attr-name\">.uri</td><td class = \"attrvalue\">/content/tfx/SchemaGen/schema/3</td></tr></table></div></td></tr></table></td></tr></table></div></td></tr></table></td></tr><tr><td class=\"attr-name\">.outputs</td><td class = \"attrvalue\"><table class=\"attr-table\"><tr><td class=\"attr-name\">['anomalies']</td><td class = \"attrvalue\"><style>\n",
              ".tfx-object.expanded {\n",
              "  padding: 4px 8px 4px 8px;\n",
              "  background: white;\n",
              "  border: 1px solid #bbbbbb;\n",
              "  box-shadow: 4px 4px 2px rgba(0,0,0,0.05);\n",
              "}\n",
              ".tfx-object, .tfx-object * {\n",
              "  font-size: 11pt;\n",
              "}\n",
              ".tfx-object > .title {\n",
              "  cursor: pointer;\n",
              "}\n",
              ".tfx-object .expansion-marker {\n",
              "  color: #999999;\n",
              "}\n",
              ".tfx-object.expanded > .title > .expansion-marker:before {\n",
              "  content: '▼';\n",
              "}\n",
              ".tfx-object.collapsed > .title > .expansion-marker:before {\n",
              "  content: '▶';\n",
              "}\n",
              ".tfx-object .class-name {\n",
              "  font-weight: bold;\n",
              "}\n",
              ".tfx-object .deemphasize {\n",
              "  opacity: 0.5;\n",
              "}\n",
              ".tfx-object.collapsed > table.attr-table {\n",
              "  display: none;\n",
              "}\n",
              ".tfx-object.expanded > table.attr-table {\n",
              "  display: block;\n",
              "}\n",
              ".tfx-object table.attr-table {\n",
              "  border: 2px solid white;\n",
              "  margin-top: 5px;\n",
              "}\n",
              ".tfx-object table.attr-table td.attr-name {\n",
              "  vertical-align: top;\n",
              "  font-weight: bold;\n",
              "}\n",
              ".tfx-object table.attr-table td.attrvalue {\n",
              "  text-align: left;\n",
              "}\n",
              "</style>\n",
              "<script>\n",
              "function toggleTfxObject(element) {\n",
              "  var objElement = element.parentElement;\n",
              "  if (objElement.classList.contains('collapsed')) {\n",
              "    objElement.classList.remove('collapsed');\n",
              "    objElement.classList.add('expanded');\n",
              "  } else {\n",
              "    objElement.classList.add('collapsed');\n",
              "    objElement.classList.remove('expanded');\n",
              "  }\n",
              "}\n",
              "</script>\n",
              "<div class=\"tfx-object collapsed\"><div class = \"title\" onclick=\"toggleTfxObject(this)\"><span class=\"expansion-marker\"></span><span class=\"class-name\">Channel</span> of type <span class=\"class-name\">'ExampleAnomalies'</span> (1 artifact)<span class=\"deemphasize\"> at 0x7f1c530a30d0</span></div><table class=\"attr-table\"><tr><td class=\"attr-name\">.type_name</td><td class = \"attrvalue\">ExampleAnomalies</td></tr><tr><td class=\"attr-name\">._artifacts</td><td class = \"attrvalue\"><table class=\"attr-table\"><tr><td class=\"attr-name\">[0]</td><td class = \"attrvalue\"><style>\n",
              ".tfx-object.expanded {\n",
              "  padding: 4px 8px 4px 8px;\n",
              "  background: white;\n",
              "  border: 1px solid #bbbbbb;\n",
              "  box-shadow: 4px 4px 2px rgba(0,0,0,0.05);\n",
              "}\n",
              ".tfx-object, .tfx-object * {\n",
              "  font-size: 11pt;\n",
              "}\n",
              ".tfx-object > .title {\n",
              "  cursor: pointer;\n",
              "}\n",
              ".tfx-object .expansion-marker {\n",
              "  color: #999999;\n",
              "}\n",
              ".tfx-object.expanded > .title > .expansion-marker:before {\n",
              "  content: '▼';\n",
              "}\n",
              ".tfx-object.collapsed > .title > .expansion-marker:before {\n",
              "  content: '▶';\n",
              "}\n",
              ".tfx-object .class-name {\n",
              "  font-weight: bold;\n",
              "}\n",
              ".tfx-object .deemphasize {\n",
              "  opacity: 0.5;\n",
              "}\n",
              ".tfx-object.collapsed > table.attr-table {\n",
              "  display: none;\n",
              "}\n",
              ".tfx-object.expanded > table.attr-table {\n",
              "  display: block;\n",
              "}\n",
              ".tfx-object table.attr-table {\n",
              "  border: 2px solid white;\n",
              "  margin-top: 5px;\n",
              "}\n",
              ".tfx-object table.attr-table td.attr-name {\n",
              "  vertical-align: top;\n",
              "  font-weight: bold;\n",
              "}\n",
              ".tfx-object table.attr-table td.attrvalue {\n",
              "  text-align: left;\n",
              "}\n",
              "</style>\n",
              "<script>\n",
              "function toggleTfxObject(element) {\n",
              "  var objElement = element.parentElement;\n",
              "  if (objElement.classList.contains('collapsed')) {\n",
              "    objElement.classList.remove('collapsed');\n",
              "    objElement.classList.add('expanded');\n",
              "  } else {\n",
              "    objElement.classList.add('collapsed');\n",
              "    objElement.classList.remove('expanded');\n",
              "  }\n",
              "}\n",
              "</script>\n",
              "<div class=\"tfx-object collapsed\"><div class = \"title\" onclick=\"toggleTfxObject(this)\"><span class=\"expansion-marker\"></span><span class=\"class-name\">Artifact</span> of type <span class=\"class-name\">'ExampleAnomalies'</span> (uri: /content/tfx/ExampleValidator/anomalies/4)<span class=\"deemphasize\"> at 0x7f1c53110b10</span></div><table class=\"attr-table\"><tr><td class=\"attr-name\">.type</td><td class = \"attrvalue\">&lt;class &#x27;tfx.types.standard_artifacts.ExampleAnomalies&#x27;&gt;</td></tr><tr><td class=\"attr-name\">.uri</td><td class = \"attrvalue\">/content/tfx/ExampleValidator/anomalies/4</td></tr><tr><td class=\"attr-name\">.span</td><td class = \"attrvalue\">0</td></tr><tr><td class=\"attr-name\">.split_names</td><td class = \"attrvalue\">[&quot;train&quot;, &quot;eval&quot;]</td></tr></table></div></td></tr></table></td></tr></table></div></td></tr></table></td></tr><tr><td class=\"attr-name\">.exec_properties</td><td class = \"attrvalue\"><table class=\"attr-table\"><tr><td class=\"attr-name\">['exclude_splits']</td><td class = \"attrvalue\">[]</td></tr></table></td></tr></table></div></td></tr><tr><td class=\"attr-name\">.component.inputs</td><td class = \"attrvalue\"><table class=\"attr-table\"><tr><td class=\"attr-name\">['statistics']</td><td class = \"attrvalue\"><style>\n",
              ".tfx-object.expanded {\n",
              "  padding: 4px 8px 4px 8px;\n",
              "  background: white;\n",
              "  border: 1px solid #bbbbbb;\n",
              "  box-shadow: 4px 4px 2px rgba(0,0,0,0.05);\n",
              "}\n",
              ".tfx-object, .tfx-object * {\n",
              "  font-size: 11pt;\n",
              "}\n",
              ".tfx-object > .title {\n",
              "  cursor: pointer;\n",
              "}\n",
              ".tfx-object .expansion-marker {\n",
              "  color: #999999;\n",
              "}\n",
              ".tfx-object.expanded > .title > .expansion-marker:before {\n",
              "  content: '▼';\n",
              "}\n",
              ".tfx-object.collapsed > .title > .expansion-marker:before {\n",
              "  content: '▶';\n",
              "}\n",
              ".tfx-object .class-name {\n",
              "  font-weight: bold;\n",
              "}\n",
              ".tfx-object .deemphasize {\n",
              "  opacity: 0.5;\n",
              "}\n",
              ".tfx-object.collapsed > table.attr-table {\n",
              "  display: none;\n",
              "}\n",
              ".tfx-object.expanded > table.attr-table {\n",
              "  display: block;\n",
              "}\n",
              ".tfx-object table.attr-table {\n",
              "  border: 2px solid white;\n",
              "  margin-top: 5px;\n",
              "}\n",
              ".tfx-object table.attr-table td.attr-name {\n",
              "  vertical-align: top;\n",
              "  font-weight: bold;\n",
              "}\n",
              ".tfx-object table.attr-table td.attrvalue {\n",
              "  text-align: left;\n",
              "}\n",
              "</style>\n",
              "<script>\n",
              "function toggleTfxObject(element) {\n",
              "  var objElement = element.parentElement;\n",
              "  if (objElement.classList.contains('collapsed')) {\n",
              "    objElement.classList.remove('collapsed');\n",
              "    objElement.classList.add('expanded');\n",
              "  } else {\n",
              "    objElement.classList.add('collapsed');\n",
              "    objElement.classList.remove('expanded');\n",
              "  }\n",
              "}\n",
              "</script>\n",
              "<div class=\"tfx-object collapsed\"><div class = \"title\" onclick=\"toggleTfxObject(this)\"><span class=\"expansion-marker\"></span><span class=\"class-name\">Channel</span> of type <span class=\"class-name\">'ExampleStatistics'</span> (1 artifact)<span class=\"deemphasize\"> at 0x7f1c594ed550</span></div><table class=\"attr-table\"><tr><td class=\"attr-name\">.type_name</td><td class = \"attrvalue\">ExampleStatistics</td></tr><tr><td class=\"attr-name\">._artifacts</td><td class = \"attrvalue\"><table class=\"attr-table\"><tr><td class=\"attr-name\">[0]</td><td class = \"attrvalue\"><style>\n",
              ".tfx-object.expanded {\n",
              "  padding: 4px 8px 4px 8px;\n",
              "  background: white;\n",
              "  border: 1px solid #bbbbbb;\n",
              "  box-shadow: 4px 4px 2px rgba(0,0,0,0.05);\n",
              "}\n",
              ".tfx-object, .tfx-object * {\n",
              "  font-size: 11pt;\n",
              "}\n",
              ".tfx-object > .title {\n",
              "  cursor: pointer;\n",
              "}\n",
              ".tfx-object .expansion-marker {\n",
              "  color: #999999;\n",
              "}\n",
              ".tfx-object.expanded > .title > .expansion-marker:before {\n",
              "  content: '▼';\n",
              "}\n",
              ".tfx-object.collapsed > .title > .expansion-marker:before {\n",
              "  content: '▶';\n",
              "}\n",
              ".tfx-object .class-name {\n",
              "  font-weight: bold;\n",
              "}\n",
              ".tfx-object .deemphasize {\n",
              "  opacity: 0.5;\n",
              "}\n",
              ".tfx-object.collapsed > table.attr-table {\n",
              "  display: none;\n",
              "}\n",
              ".tfx-object.expanded > table.attr-table {\n",
              "  display: block;\n",
              "}\n",
              ".tfx-object table.attr-table {\n",
              "  border: 2px solid white;\n",
              "  margin-top: 5px;\n",
              "}\n",
              ".tfx-object table.attr-table td.attr-name {\n",
              "  vertical-align: top;\n",
              "  font-weight: bold;\n",
              "}\n",
              ".tfx-object table.attr-table td.attrvalue {\n",
              "  text-align: left;\n",
              "}\n",
              "</style>\n",
              "<script>\n",
              "function toggleTfxObject(element) {\n",
              "  var objElement = element.parentElement;\n",
              "  if (objElement.classList.contains('collapsed')) {\n",
              "    objElement.classList.remove('collapsed');\n",
              "    objElement.classList.add('expanded');\n",
              "  } else {\n",
              "    objElement.classList.add('collapsed');\n",
              "    objElement.classList.remove('expanded');\n",
              "  }\n",
              "}\n",
              "</script>\n",
              "<div class=\"tfx-object collapsed\"><div class = \"title\" onclick=\"toggleTfxObject(this)\"><span class=\"expansion-marker\"></span><span class=\"class-name\">Artifact</span> of type <span class=\"class-name\">'ExampleStatistics'</span> (uri: /content/tfx/StatisticsGen/statistics/2)<span class=\"deemphasize\"> at 0x7f1c59513d10</span></div><table class=\"attr-table\"><tr><td class=\"attr-name\">.type</td><td class = \"attrvalue\">&lt;class &#x27;tfx.types.standard_artifacts.ExampleStatistics&#x27;&gt;</td></tr><tr><td class=\"attr-name\">.uri</td><td class = \"attrvalue\">/content/tfx/StatisticsGen/statistics/2</td></tr><tr><td class=\"attr-name\">.span</td><td class = \"attrvalue\">0</td></tr><tr><td class=\"attr-name\">.split_names</td><td class = \"attrvalue\">[&quot;train&quot;, &quot;eval&quot;]</td></tr></table></div></td></tr></table></td></tr></table></div></td></tr><tr><td class=\"attr-name\">['schema']</td><td class = \"attrvalue\"><style>\n",
              ".tfx-object.expanded {\n",
              "  padding: 4px 8px 4px 8px;\n",
              "  background: white;\n",
              "  border: 1px solid #bbbbbb;\n",
              "  box-shadow: 4px 4px 2px rgba(0,0,0,0.05);\n",
              "}\n",
              ".tfx-object, .tfx-object * {\n",
              "  font-size: 11pt;\n",
              "}\n",
              ".tfx-object > .title {\n",
              "  cursor: pointer;\n",
              "}\n",
              ".tfx-object .expansion-marker {\n",
              "  color: #999999;\n",
              "}\n",
              ".tfx-object.expanded > .title > .expansion-marker:before {\n",
              "  content: '▼';\n",
              "}\n",
              ".tfx-object.collapsed > .title > .expansion-marker:before {\n",
              "  content: '▶';\n",
              "}\n",
              ".tfx-object .class-name {\n",
              "  font-weight: bold;\n",
              "}\n",
              ".tfx-object .deemphasize {\n",
              "  opacity: 0.5;\n",
              "}\n",
              ".tfx-object.collapsed > table.attr-table {\n",
              "  display: none;\n",
              "}\n",
              ".tfx-object.expanded > table.attr-table {\n",
              "  display: block;\n",
              "}\n",
              ".tfx-object table.attr-table {\n",
              "  border: 2px solid white;\n",
              "  margin-top: 5px;\n",
              "}\n",
              ".tfx-object table.attr-table td.attr-name {\n",
              "  vertical-align: top;\n",
              "  font-weight: bold;\n",
              "}\n",
              ".tfx-object table.attr-table td.attrvalue {\n",
              "  text-align: left;\n",
              "}\n",
              "</style>\n",
              "<script>\n",
              "function toggleTfxObject(element) {\n",
              "  var objElement = element.parentElement;\n",
              "  if (objElement.classList.contains('collapsed')) {\n",
              "    objElement.classList.remove('collapsed');\n",
              "    objElement.classList.add('expanded');\n",
              "  } else {\n",
              "    objElement.classList.add('collapsed');\n",
              "    objElement.classList.remove('expanded');\n",
              "  }\n",
              "}\n",
              "</script>\n",
              "<div class=\"tfx-object collapsed\"><div class = \"title\" onclick=\"toggleTfxObject(this)\"><span class=\"expansion-marker\"></span><span class=\"class-name\">Channel</span> of type <span class=\"class-name\">'Schema'</span> (1 artifact)<span class=\"deemphasize\"> at 0x7f1c57ba7490</span></div><table class=\"attr-table\"><tr><td class=\"attr-name\">.type_name</td><td class = \"attrvalue\">Schema</td></tr><tr><td class=\"attr-name\">._artifacts</td><td class = \"attrvalue\"><table class=\"attr-table\"><tr><td class=\"attr-name\">[0]</td><td class = \"attrvalue\"><style>\n",
              ".tfx-object.expanded {\n",
              "  padding: 4px 8px 4px 8px;\n",
              "  background: white;\n",
              "  border: 1px solid #bbbbbb;\n",
              "  box-shadow: 4px 4px 2px rgba(0,0,0,0.05);\n",
              "}\n",
              ".tfx-object, .tfx-object * {\n",
              "  font-size: 11pt;\n",
              "}\n",
              ".tfx-object > .title {\n",
              "  cursor: pointer;\n",
              "}\n",
              ".tfx-object .expansion-marker {\n",
              "  color: #999999;\n",
              "}\n",
              ".tfx-object.expanded > .title > .expansion-marker:before {\n",
              "  content: '▼';\n",
              "}\n",
              ".tfx-object.collapsed > .title > .expansion-marker:before {\n",
              "  content: '▶';\n",
              "}\n",
              ".tfx-object .class-name {\n",
              "  font-weight: bold;\n",
              "}\n",
              ".tfx-object .deemphasize {\n",
              "  opacity: 0.5;\n",
              "}\n",
              ".tfx-object.collapsed > table.attr-table {\n",
              "  display: none;\n",
              "}\n",
              ".tfx-object.expanded > table.attr-table {\n",
              "  display: block;\n",
              "}\n",
              ".tfx-object table.attr-table {\n",
              "  border: 2px solid white;\n",
              "  margin-top: 5px;\n",
              "}\n",
              ".tfx-object table.attr-table td.attr-name {\n",
              "  vertical-align: top;\n",
              "  font-weight: bold;\n",
              "}\n",
              ".tfx-object table.attr-table td.attrvalue {\n",
              "  text-align: left;\n",
              "}\n",
              "</style>\n",
              "<script>\n",
              "function toggleTfxObject(element) {\n",
              "  var objElement = element.parentElement;\n",
              "  if (objElement.classList.contains('collapsed')) {\n",
              "    objElement.classList.remove('collapsed');\n",
              "    objElement.classList.add('expanded');\n",
              "  } else {\n",
              "    objElement.classList.add('collapsed');\n",
              "    objElement.classList.remove('expanded');\n",
              "  }\n",
              "}\n",
              "</script>\n",
              "<div class=\"tfx-object collapsed\"><div class = \"title\" onclick=\"toggleTfxObject(this)\"><span class=\"expansion-marker\"></span><span class=\"class-name\">Artifact</span> of type <span class=\"class-name\">'Schema'</span> (uri: /content/tfx/SchemaGen/schema/3)<span class=\"deemphasize\"> at 0x7f1c580e8090</span></div><table class=\"attr-table\"><tr><td class=\"attr-name\">.type</td><td class = \"attrvalue\">&lt;class &#x27;tfx.types.standard_artifacts.Schema&#x27;&gt;</td></tr><tr><td class=\"attr-name\">.uri</td><td class = \"attrvalue\">/content/tfx/SchemaGen/schema/3</td></tr></table></div></td></tr></table></td></tr></table></div></td></tr></table></td></tr><tr><td class=\"attr-name\">.component.outputs</td><td class = \"attrvalue\"><table class=\"attr-table\"><tr><td class=\"attr-name\">['anomalies']</td><td class = \"attrvalue\"><style>\n",
              ".tfx-object.expanded {\n",
              "  padding: 4px 8px 4px 8px;\n",
              "  background: white;\n",
              "  border: 1px solid #bbbbbb;\n",
              "  box-shadow: 4px 4px 2px rgba(0,0,0,0.05);\n",
              "}\n",
              ".tfx-object, .tfx-object * {\n",
              "  font-size: 11pt;\n",
              "}\n",
              ".tfx-object > .title {\n",
              "  cursor: pointer;\n",
              "}\n",
              ".tfx-object .expansion-marker {\n",
              "  color: #999999;\n",
              "}\n",
              ".tfx-object.expanded > .title > .expansion-marker:before {\n",
              "  content: '▼';\n",
              "}\n",
              ".tfx-object.collapsed > .title > .expansion-marker:before {\n",
              "  content: '▶';\n",
              "}\n",
              ".tfx-object .class-name {\n",
              "  font-weight: bold;\n",
              "}\n",
              ".tfx-object .deemphasize {\n",
              "  opacity: 0.5;\n",
              "}\n",
              ".tfx-object.collapsed > table.attr-table {\n",
              "  display: none;\n",
              "}\n",
              ".tfx-object.expanded > table.attr-table {\n",
              "  display: block;\n",
              "}\n",
              ".tfx-object table.attr-table {\n",
              "  border: 2px solid white;\n",
              "  margin-top: 5px;\n",
              "}\n",
              ".tfx-object table.attr-table td.attr-name {\n",
              "  vertical-align: top;\n",
              "  font-weight: bold;\n",
              "}\n",
              ".tfx-object table.attr-table td.attrvalue {\n",
              "  text-align: left;\n",
              "}\n",
              "</style>\n",
              "<script>\n",
              "function toggleTfxObject(element) {\n",
              "  var objElement = element.parentElement;\n",
              "  if (objElement.classList.contains('collapsed')) {\n",
              "    objElement.classList.remove('collapsed');\n",
              "    objElement.classList.add('expanded');\n",
              "  } else {\n",
              "    objElement.classList.add('collapsed');\n",
              "    objElement.classList.remove('expanded');\n",
              "  }\n",
              "}\n",
              "</script>\n",
              "<div class=\"tfx-object collapsed\"><div class = \"title\" onclick=\"toggleTfxObject(this)\"><span class=\"expansion-marker\"></span><span class=\"class-name\">Channel</span> of type <span class=\"class-name\">'ExampleAnomalies'</span> (1 artifact)<span class=\"deemphasize\"> at 0x7f1c530a30d0</span></div><table class=\"attr-table\"><tr><td class=\"attr-name\">.type_name</td><td class = \"attrvalue\">ExampleAnomalies</td></tr><tr><td class=\"attr-name\">._artifacts</td><td class = \"attrvalue\"><table class=\"attr-table\"><tr><td class=\"attr-name\">[0]</td><td class = \"attrvalue\"><style>\n",
              ".tfx-object.expanded {\n",
              "  padding: 4px 8px 4px 8px;\n",
              "  background: white;\n",
              "  border: 1px solid #bbbbbb;\n",
              "  box-shadow: 4px 4px 2px rgba(0,0,0,0.05);\n",
              "}\n",
              ".tfx-object, .tfx-object * {\n",
              "  font-size: 11pt;\n",
              "}\n",
              ".tfx-object > .title {\n",
              "  cursor: pointer;\n",
              "}\n",
              ".tfx-object .expansion-marker {\n",
              "  color: #999999;\n",
              "}\n",
              ".tfx-object.expanded > .title > .expansion-marker:before {\n",
              "  content: '▼';\n",
              "}\n",
              ".tfx-object.collapsed > .title > .expansion-marker:before {\n",
              "  content: '▶';\n",
              "}\n",
              ".tfx-object .class-name {\n",
              "  font-weight: bold;\n",
              "}\n",
              ".tfx-object .deemphasize {\n",
              "  opacity: 0.5;\n",
              "}\n",
              ".tfx-object.collapsed > table.attr-table {\n",
              "  display: none;\n",
              "}\n",
              ".tfx-object.expanded > table.attr-table {\n",
              "  display: block;\n",
              "}\n",
              ".tfx-object table.attr-table {\n",
              "  border: 2px solid white;\n",
              "  margin-top: 5px;\n",
              "}\n",
              ".tfx-object table.attr-table td.attr-name {\n",
              "  vertical-align: top;\n",
              "  font-weight: bold;\n",
              "}\n",
              ".tfx-object table.attr-table td.attrvalue {\n",
              "  text-align: left;\n",
              "}\n",
              "</style>\n",
              "<script>\n",
              "function toggleTfxObject(element) {\n",
              "  var objElement = element.parentElement;\n",
              "  if (objElement.classList.contains('collapsed')) {\n",
              "    objElement.classList.remove('collapsed');\n",
              "    objElement.classList.add('expanded');\n",
              "  } else {\n",
              "    objElement.classList.add('collapsed');\n",
              "    objElement.classList.remove('expanded');\n",
              "  }\n",
              "}\n",
              "</script>\n",
              "<div class=\"tfx-object collapsed\"><div class = \"title\" onclick=\"toggleTfxObject(this)\"><span class=\"expansion-marker\"></span><span class=\"class-name\">Artifact</span> of type <span class=\"class-name\">'ExampleAnomalies'</span> (uri: /content/tfx/ExampleValidator/anomalies/4)<span class=\"deemphasize\"> at 0x7f1c53110b10</span></div><table class=\"attr-table\"><tr><td class=\"attr-name\">.type</td><td class = \"attrvalue\">&lt;class &#x27;tfx.types.standard_artifacts.ExampleAnomalies&#x27;&gt;</td></tr><tr><td class=\"attr-name\">.uri</td><td class = \"attrvalue\">/content/tfx/ExampleValidator/anomalies/4</td></tr><tr><td class=\"attr-name\">.span</td><td class = \"attrvalue\">0</td></tr><tr><td class=\"attr-name\">.split_names</td><td class = \"attrvalue\">[&quot;train&quot;, &quot;eval&quot;]</td></tr></table></div></td></tr></table></td></tr></table></div></td></tr></table></td></tr></table></div>"
            ],
            "text/plain": [
              "ExecutionResult(\n",
              "    component_id: ExampleValidator\n",
              "    execution_id: 4\n",
              "    outputs:\n",
              "        anomalies: Channel(\n",
              "            type_name: ExampleAnomalies\n",
              "            artifacts: [Artifact(artifact: id: 4\n",
              "        type_id: 11\n",
              "        uri: \"/content/tfx/ExampleValidator/anomalies/4\"\n",
              "        properties {\n",
              "          key: \"split_names\"\n",
              "          value {\n",
              "            string_value: \"[\\\"train\\\", \\\"eval\\\"]\"\n",
              "          }\n",
              "        }\n",
              "        custom_properties {\n",
              "          key: \"name\"\n",
              "          value {\n",
              "            string_value: \"anomalies\"\n",
              "          }\n",
              "        }\n",
              "        custom_properties {\n",
              "          key: \"producer_component\"\n",
              "          value {\n",
              "            string_value: \"ExampleValidator\"\n",
              "          }\n",
              "        }\n",
              "        custom_properties {\n",
              "          key: \"state\"\n",
              "          value {\n",
              "            string_value: \"published\"\n",
              "          }\n",
              "        }\n",
              "        state: LIVE\n",
              "        , artifact_type: id: 11\n",
              "        name: \"ExampleAnomalies\"\n",
              "        properties {\n",
              "          key: \"span\"\n",
              "          value: INT\n",
              "        }\n",
              "        properties {\n",
              "          key: \"split_names\"\n",
              "          value: STRING\n",
              "        }\n",
              "        )]\n",
              "            additional_properties: {}\n",
              "            additional_custom_properties: {}\n",
              "        ))"
            ]
          },
          "metadata": {
            "tags": []
          },
          "execution_count": 31
        }
      ]
    },
    {
      "cell_type": "markdown",
      "metadata": {
        "id": "A1LhNB229FcY"
      },
      "source": [
        "The inputs to the `ExampleValidator` are the statistics and schema and the output is the anomalies found by the data. \n",
        "\n",
        "Visualizing the anomalies as a table:"
      ]
    },
    {
      "cell_type": "code",
      "metadata": {
        "colab": {
          "base_uri": "https://localhost:8080/",
          "height": 252
        },
        "id": "doWG5xKO9SxH",
        "outputId": "4be7335e-0652-4ce1-e1d1-465c171a4560"
      },
      "source": [
        "context.show(example_validator.outputs['anomalies'])"
      ],
      "execution_count": 32,
      "outputs": [
        {
          "output_type": "display_data",
          "data": {
            "text/html": [
              "<b>Artifact at /content/tfx/ExampleValidator/anomalies/4</b><br/><br/>"
            ],
            "text/plain": [
              "<IPython.core.display.HTML object>"
            ]
          },
          "metadata": {
            "tags": []
          }
        },
        {
          "output_type": "display_data",
          "data": {
            "text/html": [
              "<div><b>'train' split:</b></div><br/>"
            ],
            "text/plain": [
              "<IPython.core.display.HTML object>"
            ]
          },
          "metadata": {
            "tags": []
          }
        },
        {
          "output_type": "stream",
          "text": [
            "/usr/local/lib/python3.7/dist-packages/tensorflow_data_validation/utils/display_util.py:188: FutureWarning: Passing a negative integer is deprecated in version 1.0 and will not be supported in future version. Instead, use None to not limit the column width.\n",
            "  pd.set_option('max_colwidth', -1)\n"
          ],
          "name": "stderr"
        },
        {
          "output_type": "display_data",
          "data": {
            "text/html": [
              "<h4 style=\"color:green;\">No anomalies found.</h4>"
            ],
            "text/plain": [
              "<IPython.core.display.HTML object>"
            ]
          },
          "metadata": {
            "tags": []
          }
        },
        {
          "output_type": "display_data",
          "data": {
            "text/html": [
              "<div><b>'eval' split:</b></div><br/>"
            ],
            "text/plain": [
              "<IPython.core.display.HTML object>"
            ]
          },
          "metadata": {
            "tags": []
          }
        },
        {
          "output_type": "display_data",
          "data": {
            "text/html": [
              "<h4 style=\"color:green;\">No anomalies found.</h4>"
            ],
            "text/plain": [
              "<IPython.core.display.HTML object>"
            ]
          },
          "metadata": {
            "tags": []
          }
        }
      ]
    },
    {
      "cell_type": "markdown",
      "metadata": {
        "id": "iuxiUW009cCm"
      },
      "source": [
        "No anomalies are found, which is expected as the schema of the eval dataset is tailored to the train dataset. This schema can be used to\n",
        "1. Detect anomalies \n",
        "2. Debug model performance\n",
        "3. Understand how the data evolves over time"
      ]
    },
    {
      "cell_type": "markdown",
      "metadata": {
        "id": "diq8MDGA93Ue"
      },
      "source": [
        "### Transform\n",
        "\n",
        "Instead of using Apache Beam and Tensorflow Transform, constants are calculated using Pandas/Numpy. The pickup and drop pff latitude are binned using `qcut` function in pandas which chooses the bins such that the same number of records are present in each bin. "
      ]
    },
    {
      "cell_type": "code",
      "metadata": {
        "id": "R70aWNP--VeK"
      },
      "source": [
        "bins_lat = pd.qcut(list(data['dropoff_latitude'].values) + list(data['pickup_latitude'].values), q=20, duplicates='drop', retbins=True)[1]\n",
        "bins_lon = pd.qcut(list(data['dropoff_longitude'].values) + list(data['pickup_longitude'].values), q=20, duplicates='drop', retbins=True)[1]"
      ],
      "execution_count": 35,
      "outputs": []
    },
    {
      "cell_type": "code",
      "metadata": {
        "id": "YfQJk9Aw-XWh"
      },
      "source": [
        "code = '''\n",
        "bins_lat = {bins_lat}\n",
        "bins_lon = {bins_lon}\n",
        "'''\n",
        "\n",
        "code = code.replace('{bins_lat}', str(list(bins_lat)))\n",
        "code = code.replace('{bins_lon}', str(list(bins_lon)))\n",
        "\n",
        "with open(_constants_module_file, 'w') as writefile:\n",
        "    writefile.write(code)"
      ],
      "execution_count": 36,
      "outputs": []
    },
    {
      "cell_type": "markdown",
      "metadata": {
        "id": "hGHoADsn-fKp"
      },
      "source": [
        "### Trainer\n",
        "This component trains a model defined in Ternsorflow. The `Trainer` component uses the schema from `SchemaGen` and the transformed data and graph from `Transform`. It also taked the training parameters and a model that contains the user-defined code for the model"
      ]
    },
    {
      "cell_type": "code",
      "metadata": {
        "colab": {
          "base_uri": "https://localhost:8080/"
        },
        "id": "R0kTyFLBCMNI",
        "outputId": "c68b7ae6-d882-480b-96a2-908a72701260"
      },
      "source": [
        "%%writefile {_input_fn_module_file}\n",
        "\n",
        "import os\n",
        "import tensorflow as tf\n",
        "\n",
        "###############################\n",
        "##Feature engineering functions\n",
        "def feature_engg_features(features):\n",
        "  #Add new features\n",
        "  features['distance'] = ((features['pickup_latitude'] - features['dropoff_latitude'])**2 +  (features['pickup_longitude'] - features['dropoff_longitude'])**2)**0.5\n",
        "  features['trip_start_month'] = tf.strings.as_string(features['trip_start_month'])\n",
        "  features['trip_start_hour'] = tf.strings.as_string(features['trip_start_hour'])\n",
        "  features['trip_start_day'] = tf.strings.as_string(features['trip_start_day'])\n",
        "\n",
        "  return(features)\n",
        "\n",
        "#To be called from TF\n",
        "def feature_engg(features, label):\n",
        "  #Add new features\n",
        "  features = feature_engg_features(features)\n",
        "\n",
        "  return(features, label)\n",
        "\n",
        "def make_input_fn(dir_uri, mode, vnum_epochs = None, batch_size = 512):\n",
        "    def decode_tfr(serialized_example):\n",
        "      # 1. define a parser\n",
        "      features = tf.io.parse_example(\n",
        "        serialized_example,\n",
        "        # Defaults are not specified since both keys are required.\n",
        "        features={\n",
        "            'dropoff_latitude': tf.io.FixedLenFeature([], tf.float32),\n",
        "            'dropoff_longitude': tf.io.FixedLenFeature([], tf.float32),\n",
        "            'fare': tf.io.FixedLenFeature([], tf.float32),\n",
        "            'pickup_latitude': tf.io.FixedLenFeature([], tf.float32, default_value = 0.0),\n",
        "            'pickup_longitude': tf.io.FixedLenFeature([], tf.float32, default_value = 0.0),\n",
        "            'trip_start_day': tf.io.FixedLenFeature([], tf.int64),\n",
        "            'trip_start_hour': tf.io.FixedLenFeature([], tf.int64),\n",
        "            'trip_start_month': tf.io.FixedLenFeature([], tf.int64)\n",
        "        })\n",
        "\n",
        "      return features, features['fare']\n",
        "\n",
        "    def _input_fn(v_test=False):\n",
        "      # Get the list of files in this directory (all compressed TFRecord files)\n",
        "      tfrecord_filenames = tf.io.gfile.glob(dir_uri)\n",
        "\n",
        "      # Create a `TFRecordDataset` to read these files\n",
        "      dataset = tf.data.TFRecordDataset(tfrecord_filenames, compression_type=\"GZIP\")\n",
        "\n",
        "      if mode == tf.estimator.ModeKeys.TRAIN:\n",
        "        num_epochs = vnum_epochs # indefinitely\n",
        "      else:\n",
        "        num_epochs = 1 # end-of-input after this\n",
        "\n",
        "      dataset = dataset.batch(batch_size)\n",
        "      dataset = dataset.prefetch(buffer_size = batch_size)\n",
        "\n",
        "      #Convert TFRecord data to dict\n",
        "      dataset = dataset.map(decode_tfr)\n",
        "\n",
        "      #Feature engineering\n",
        "      dataset = dataset.map(feature_engg)\n",
        "\n",
        "      if mode == tf.estimator.ModeKeys.TRAIN:\n",
        "          num_epochs = vnum_epochs # indefinitely\n",
        "          dataset = dataset.shuffle(buffer_size = batch_size)\n",
        "      else:\n",
        "          num_epochs = 1 # end-of-input after this\n",
        "\n",
        "      dataset = dataset.repeat(num_epochs)       \n",
        "      \n",
        "      #Begins - Uncomment for testing only -----------------------------------------------------<\n",
        "      if v_test == True:\n",
        "        print(next(dataset.__iter__()))\n",
        "        \n",
        "      #End - Uncomment for testing only -----------------------------------------------------<\n",
        "      return dataset\n",
        "    return _input_fn"
      ],
      "execution_count": 38,
      "outputs": [
        {
          "output_type": "stream",
          "text": [
            "Overwriting inputfn_trainer.py\n"
          ],
          "name": "stdout"
        }
      ]
    },
    {
      "cell_type": "code",
      "metadata": {
        "colab": {
          "base_uri": "https://localhost:8080/"
        },
        "id": "pUxZcAbrXHFz",
        "outputId": "6df65cdc-2179-46ef-9240-591c3ec6187f"
      },
      "source": [
        "##Test the input function\n",
        "import inputfn_trainer as ift\n",
        "\n",
        "#Test dataset read + Feat Engg function's - output's CSV + Feature engg columns\n",
        "eval_file = os.path.join(example_gen.outputs['examples'].get()[0].uri, 'eval/*')\n",
        "fn_d = ift.make_input_fn(dir_uri = eval_file,\n",
        "                    mode = tf.estimator.ModeKeys.EVAL,\n",
        "                    # vnum_epochs = 1,\n",
        "                    batch_size = 10)\n",
        "\n",
        "fn_d(v_test=True)"
      ],
      "execution_count": 39,
      "outputs": [
        {
          "output_type": "stream",
          "text": [
            "({'dropoff_latitude': <tf.Tensor: shape=(10,), dtype=float32, numpy=\n",
            "array([41.920452, 41.920452, 41.849247, 42.00157 , 42.00157 , 42.00157 ,\n",
            "       42.00157 , 42.00157 , 41.97244 , 41.89251 ], dtype=float32)>, 'dropoff_longitude': <tf.Tensor: shape=(10,), dtype=float32, numpy=\n",
            "array([-87.679955, -87.679955, -87.62414 , -87.695015, -87.695015,\n",
            "       -87.695015, -87.695015, -87.695015, -87.67111 , -87.62621 ],\n",
            "      dtype=float32)>, 'fare': <tf.Tensor: shape=(10,), dtype=float32, numpy=\n",
            "array([12.25,  6.05,  7.85,  7.45,  3.45,  9.85,  9.45,  3.25, 12.25,\n",
            "        6.45], dtype=float32)>, 'pickup_latitude': <tf.Tensor: shape=(10,), dtype=float32, numpy=\n",
            "array([41.952824, 41.906025, 41.871017, 41.97517 , 42.00157 , 41.968067,\n",
            "       41.97517 , 42.00157 , 41.90838 , 41.89266 ], dtype=float32)>, 'pickup_longitude': <tf.Tensor: shape=(10,), dtype=float32, numpy=\n",
            "array([-87.653244, -87.67531 , -87.63141 , -87.687515, -87.695015,\n",
            "       -87.72156 , -87.687515, -87.695015, -87.670944, -87.652534],\n",
            "      dtype=float32)>, 'trip_start_day': <tf.Tensor: shape=(10,), dtype=string, numpy=\n",
            "array([b'1', b'5', b'2', b'1', b'5', b'3', b'5', b'4', b'1', b'4'],\n",
            "      dtype=object)>, 'trip_start_hour': <tf.Tensor: shape=(10,), dtype=string, numpy=\n",
            "array([b'1', b'23', b'11', b'12', b'18', b'18', b'22', b'17', b'2', b'22'],\n",
            "      dtype=object)>, 'trip_start_month': <tf.Tensor: shape=(10,), dtype=string, numpy=\n",
            "array([b'10', b'8', b'11', b'3', b'7', b'6', b'3', b'5', b'1', b'4'],\n",
            "      dtype=object)>, 'distance': <tf.Tensor: shape=(10,), dtype=float32, numpy=\n",
            "array([0.04196864, 0.0151569 , 0.02295252, 0.02744605, 0.        ,\n",
            "       0.04274416, 0.02744605, 0.        , 0.06406043, 0.02632183],\n",
            "      dtype=float32)>}, <tf.Tensor: shape=(10,), dtype=float32, numpy=\n",
            "array([12.25,  6.05,  7.85,  7.45,  3.45,  9.85,  9.45,  3.25, 12.25,\n",
            "        6.45], dtype=float32)>)\n"
          ],
          "name": "stdout"
        },
        {
          "output_type": "execute_result",
          "data": {
            "text/plain": [
              "<RepeatDataset shapes: ({dropoff_latitude: (None,), dropoff_longitude: (None,), fare: (None,), pickup_latitude: (None,), pickup_longitude: (None,), trip_start_day: (None,), trip_start_hour: (None,), trip_start_month: (None,), distance: (None,)}, (None,)), types: ({dropoff_latitude: tf.float32, dropoff_longitude: tf.float32, fare: tf.float32, pickup_latitude: tf.float32, pickup_longitude: tf.float32, trip_start_day: tf.string, trip_start_hour: tf.string, trip_start_month: tf.string, distance: tf.float32}, tf.float32)>"
            ]
          },
          "metadata": {
            "tags": []
          },
          "execution_count": 39
        }
      ]
    },
    {
      "cell_type": "code",
      "metadata": {
        "colab": {
          "base_uri": "https://localhost:8080/"
        },
        "id": "TZD3GJDtXKtl",
        "outputId": "2e34b6bb-2257-475c-f3da-eae7ef422a48"
      },
      "source": [
        "%%writefile {_model_trainer_module_file}\n",
        "\n",
        "import tensorflow as tf\n",
        "import tensorflow.keras as keras\n",
        "import inputfn_trainer as ift\n",
        "import constants_trainer as ct\n",
        "\n",
        "from tfx.components.trainer.fn_args_utils import FnArgs\n",
        "print(tf.__version__)\n",
        "\n",
        "device = \"gpu\"\n",
        "\n",
        "if device == \"tpu\":\n",
        "  resolver = tf.distribute.cluster_resolver.TPUClusterResolver(tpu='grpc://' + os.environ['COLAB_TPU_ADDR'])\n",
        "  tf.config.experimental_connect_to_cluster(resolver)\n",
        "  # This is the TPU initialization code that has to be at the beginning.\n",
        "  tf.tpu.experimental.initialize_tpu_system(resolver)\n",
        "  strategy = tf.distribute.experimental.TPUStrategy(resolver)\n",
        "else:\n",
        "  strategy = tf.distribute.MultiWorkerMirroredStrategy()\n",
        "\n",
        "#Create model\n",
        "params_default = {\n",
        "    'lr' : 0.001,\n",
        "    'beta_1' : 0.99,\n",
        "    'beta_2' : 0.999,\n",
        "    'epsilon' : 1e-08,\n",
        "    'decay' : 0.01,\n",
        "    'hidden_layers' : 1\n",
        "}\n",
        "\n",
        "# Define feature columns(Including feature engineered ones )\n",
        "# These are the features which come from the TF Data pipeline\n",
        "def create_feature_cols():\n",
        "    #Keras format features\n",
        "    k_month = tf.keras.Input(name='trip_start_month', shape=(1,), dtype=tf.string)\n",
        "    k_hour  = tf.keras.Input(name='trip_start_hour', shape=(1,), dtype=tf.string)\n",
        "    k_day  = tf.keras.Input(name='trip_start_day', shape=(1,), dtype=tf.string)\n",
        "    k_picklat  = tf.keras.Input(name='pickup_latitude', shape=(1,), dtype=tf.float32)\n",
        "    k_picklon  = tf.keras.Input(name='pickup_longitude', shape=(1,), dtype=tf.float32)\n",
        "    k_droplat  = tf.keras.Input(name='dropoff_latitude', shape=(1,), dtype=tf.float32)\n",
        "    k_droplon  = tf.keras.Input(name='dropoff_longitude', shape=(1,), dtype=tf.float32)\n",
        "    k_distance  = tf.keras.Input(name='distance', shape=(1,), dtype=tf.float32)\n",
        "    keras_dict_input = {'trip_start_month': k_month, 'trip_start_hour': k_hour, 'trip_start_day' : k_day,\n",
        "                        'pickup_latitude': k_picklat, 'pickup_longitude': k_picklon,\n",
        "                        'dropoff_latitude': k_droplat, 'dropoff_longitude': k_droplon, 'distance' : k_distance\n",
        "                        }\n",
        "\n",
        "    return({'K' : keras_dict_input})\n",
        "\n",
        "def create_keras_model(feature_cols, bins_lat, bins_lon,  params = params_default):\n",
        "    METRICS = [\n",
        "            keras.metrics.RootMeanSquaredError(name='rmse')\n",
        "    ]\n",
        "\n",
        "    #Input layers\n",
        "    input_feats = []\n",
        "    for inp in feature_cols['K'].keys():\n",
        "      input_feats.append(feature_cols['K'][inp])\n",
        "\n",
        "    ##Input processing\n",
        "    ##https://keras.io/examples/structured_data/structured_data_classification_from_scratch/\n",
        "    ##https://github.com/tensorflow/community/blob/master/rfcs/20191212-keras-categorical-inputs.md\n",
        "\n",
        "    ##Handle categorical attributes( One-hot encoding )\n",
        "    cat_day = tf.keras.layers.experimental.preprocessing.StringLookup(vocabulary=['1','2','3','4','5','6','7'], mask_token=None)(feature_cols['K']['trip_start_day'])\n",
        "    cat_day = tf.keras.layers.experimental.preprocessing.CategoryEncoding(max_tokens=7)(cat_day)\n",
        "\n",
        "    cat_hour = tf.keras.layers.experimental.preprocessing.StringLookup(vocabulary=['1','2','3','4','5','6','7','8'\n",
        "                                                                                      '9','10','11','12','13','14','15','16',\n",
        "                                                                                      '17','18','19','20','21','22','23','0'\n",
        "                                                                                      ], mask_token=None)(feature_cols['K']['trip_start_hour'])\n",
        "    cat_hour = tf.keras.layers.experimental.preprocessing.CategoryEncoding(max_tokens=24)(cat_hour)\n",
        "\n",
        "    cat_month = tf.keras.layers.experimental.preprocessing.StringLookup(vocabulary=['1','2','3','4','5','6','7','8'\n",
        "                                                                                      '9','10','11','12'], mask_token=None)(feature_cols['K']['trip_start_month'])\n",
        "    cat_month = tf.keras.layers.experimental.preprocessing.CategoryEncoding(max_tokens=12)(cat_month)\n",
        "\n",
        "    # cat_company = tf.keras.layers.experimental.preprocessing.StringLookup(vocabulary=df['company'].unique(), mask_token=None)(feature_cols['K']['company'])\n",
        "    # cat_company = tf.keras.layers.experimental.preprocessing.CategoryEncoding(max_tokens=len(df['company'].unique()))(cat_company)\n",
        "\n",
        "    ##Binning\n",
        "    bins_pickup_lat = tf.keras.layers.experimental.preprocessing.Discretization(bins = bins_lat)(feature_cols['K']['pickup_latitude'])\n",
        "    cat_pickup_lat = tf.keras.layers.experimental.preprocessing.CategoryEncoding(len(bins_lat)+1)(bins_pickup_lat)\n",
        "\n",
        "    bins_pickup_lon = tf.keras.layers.experimental.preprocessing.Discretization(bins = bins_lon)(feature_cols['K']['pickup_longitude'])\n",
        "    cat_pickup_lon = tf.keras.layers.experimental.preprocessing.CategoryEncoding(len(bins_lon)+1)(bins_pickup_lon)\n",
        "\n",
        "    bins_drop_lat = tf.keras.layers.experimental.preprocessing.Discretization(bins = bins_lat)(feature_cols['K']['dropoff_latitude'])\n",
        "    cat_drop_lat = tf.keras.layers.experimental.preprocessing.CategoryEncoding(len(bins_lat)+1)(bins_drop_lat)\n",
        "\n",
        "    bins_drop_lon = tf.keras.layers.experimental.preprocessing.Discretization(bins = bins_lon)(feature_cols['K']['dropoff_longitude'])\n",
        "    cat_drop_lon = tf.keras.layers.experimental.preprocessing.CategoryEncoding(len(bins_lon)+1)(bins_drop_lon)\n",
        "\n",
        "    ##Categorical cross\n",
        "    cross_day_hour = tf.keras.layers.experimental.preprocessing.CategoryCrossing()([cat_day, cat_hour])\n",
        "    hash_cross_day_hour = tf.keras.layers.experimental.preprocessing.Hashing(num_bins=24 * 7)(cross_day_hour)\n",
        "    cat_cross_day_hour = tf.keras.layers.experimental.preprocessing.CategoryEncoding(max_tokens = 24* 7)(hash_cross_day_hour)\n",
        "\n",
        "    cross_pick_lon_lat = tf.keras.layers.experimental.preprocessing.CategoryCrossing()([cat_pickup_lat, cat_pickup_lon])\n",
        "    hash_cross_pick_lon_lat = tf.keras.layers.experimental.preprocessing.Hashing(num_bins=(len(bins_lat) + 1) ** 2)(cross_pick_lon_lat)\n",
        "\n",
        "    cross_drop_lon_lat = tf.keras.layers.experimental.preprocessing.CategoryCrossing()([cat_drop_lat, cat_drop_lon])\n",
        "    hash_cross_drop_lon_lat = tf.keras.layers.experimental.preprocessing.Hashing(num_bins=(len(bins_lat) + 1) ** 2)(cross_drop_lon_lat)\n",
        "\n",
        "    # Cross to embedding\n",
        "    embed_cross_pick_lon_lat = tf.keras.layers.Embedding(((len(bins_lat) + 1) ** 2), 4)(hash_cross_pick_lon_lat)\n",
        "    embed_cross_pick_lon_lat = tf.reduce_sum(embed_cross_pick_lon_lat, axis=-2)\n",
        "\n",
        "    embed_cross_drop_lon_lat = tf.keras.layers.Embedding(((len(bins_lat) + 1) ** 2), 4)(hash_cross_drop_lon_lat)\n",
        "    embed_cross_drop_lon_lat = tf.reduce_sum(embed_cross_drop_lon_lat, axis=-2)\n",
        "\n",
        "    # Also pass time attributes as Deep signal( Cast to integer )\n",
        "    int_trip_start_day = tf.strings.to_number(feature_cols['K']['trip_start_day'], tf.float32)\n",
        "    int_trip_start_hour = tf.strings.to_number(feature_cols['K']['trip_start_hour'], tf.float32)\n",
        "    int_trip_start_month = tf.strings.to_number(feature_cols['K']['trip_start_month'], tf.float32)\n",
        "\n",
        "    #Add feature engineered columns - LAMBDA layer\n",
        "\n",
        "    ###Create MODEL\n",
        "    ####Concatenate all features( Numerical input )\n",
        "    x_input_numeric = tf.keras.layers.concatenate([\n",
        "                    feature_cols['K']['pickup_latitude'], feature_cols['K']['pickup_longitude'],\n",
        "                    feature_cols['K']['dropoff_latitude'], feature_cols['K']['dropoff_longitude'],\n",
        "                    feature_cols['K']['distance'], embed_cross_pick_lon_lat, embed_cross_drop_lon_lat,\n",
        "                    int_trip_start_day, int_trip_start_hour, int_trip_start_month\n",
        "                    ])\n",
        "\n",
        "    #DEEP - This Dense layer connects to input layer - Numeric Data\n",
        "    x_numeric = tf.keras.layers.Dense(32, activation='relu', kernel_initializer=\"he_uniform\")(x_input_numeric)\n",
        "    x_numeric = tf.keras.layers.BatchNormalization()(x_numeric)\n",
        "\n",
        "    ####Concatenate all Categorical features( Categorical converted )\n",
        "    x_input_categ = tf.keras.layers.concatenate([\n",
        "                    cat_month, cat_cross_day_hour, cat_pickup_lat, cat_pickup_lon,\n",
        "                    cat_drop_lat, cat_drop_lon\n",
        "                    ])\n",
        "    \n",
        "    #WIDE - This Dense layer connects to input layer - Categorical Data\n",
        "    x_categ = tf.keras.layers.Dense(32, activation='relu', kernel_initializer=\"he_uniform\")(x_input_categ)\n",
        "\n",
        "    ####Concatenate both Wide and Deep layers\n",
        "    x = tf.keras.layers.concatenate([x_categ, x_numeric])\n",
        "\n",
        "    for l_ in range(params['hidden_layers']):\n",
        "        x = tf.keras.layers.Dense(32, activation='relu', kernel_initializer=\"he_uniform\",\n",
        "                                  activity_regularizer=tf.keras.regularizers.l2(0.00001))(x)\n",
        "        x = tf.keras.layers.BatchNormalization()(x)\n",
        "\n",
        "    #Final Layer\n",
        "    out = tf.keras.layers.Dense(1, activation='relu')(x)\n",
        "    model = tf.keras.Model(input_feats, out)\n",
        "\n",
        "    #Set optimizer\n",
        "    opt = tf.keras.optimizers.Adam(lr= params['lr'], beta_1=params['beta_1'], \n",
        "                                        beta_2=params['beta_2'], epsilon=params['epsilon'])\n",
        "\n",
        "    #Compile model\n",
        "    model.compile(loss='mean_squared_error',  optimizer=opt, metrics = METRICS)\n",
        "\n",
        "    #Print Summary\n",
        "    print(model.summary())\n",
        "    return model\n",
        "\n",
        "def keras_train_and_evaluate(model, train_dataset, validation_dataset, epochs=100):\n",
        "  #Add callbacks\n",
        "  reduce_lr = keras.callbacks.ReduceLROnPlateau(monitor='val_loss', factor=0.2,\n",
        "                                patience=5, min_lr=0.00001, verbose = 1)\n",
        "  \n",
        "  tensorboard_callback = tf.keras.callbacks.TensorBoard(log_dir=\"./logs\")\n",
        "\n",
        "  #Train and Evaluate\n",
        "  out = model.fit(train_dataset, \n",
        "                  validation_data = validation_dataset,\n",
        "                  epochs=epochs,\n",
        "                  # validation_steps = 3,   ###Keep this none for running evaluation on full EVAL data every epoch\n",
        "                  steps_per_epoch = 100,   ###Has to be passed - Cant help it :) [ Number of batches per epoch ]\n",
        "                  callbacks=[reduce_lr, #modelsave_callback, #tensorboard_callback, \n",
        "                             keras.callbacks.EarlyStopping(patience=20, restore_best_weights=True, verbose=True)]\n",
        "                  )\n",
        "\n",
        "  return model\n",
        "\n",
        "def save_model(model, model_save_path):\n",
        "  @tf.function\n",
        "  def serving(dropoff_latitude, dropoff_longitude, pickup_latitude, pickup_longitude, trip_start_day, trip_start_hour, trip_start_month):\n",
        "      ##Feature engineering( calculate distance )\n",
        "      distance = tf.cast( tf.sqrt((tf.abs(dropoff_latitude - pickup_latitude))**2 + (tf.abs(dropoff_longitude - pickup_longitude))**2), tf.float32)\n",
        "\n",
        "      payload = {\n",
        "          'dropoff_latitude': dropoff_latitude,\n",
        "          'dropoff_longitude': dropoff_longitude,\n",
        "          'pickup_latitude': pickup_latitude,\n",
        "          'pickup_longitude': pickup_longitude,\n",
        "          'trip_start_day': trip_start_day,\n",
        "          'trip_start_hour': trip_start_hour,\n",
        "          'trip_start_month': trip_start_month,\n",
        "          'distance': distance\n",
        "      }\n",
        "      \n",
        "      ## Predict\n",
        "      ##IF THERE IS AN ERROR IN NUMBER OF PARAMS PASSED HERE OR DATA TYPE THEN IT GIVES ERROR, \"COULDN'T COMPUTE OUTPUT TENSOR\"\n",
        "      predictions = model(payload)\n",
        "      return predictions\n",
        "\n",
        "  serving = serving.get_concrete_function(trip_start_day=tf.TensorSpec([None,], dtype= tf.string, name='trip_start_day'), \n",
        "                                          trip_start_hour=tf.TensorSpec([None,], dtype= tf.string, name='trip_start_hour'),\n",
        "                                          trip_start_month=tf.TensorSpec([None], dtype= tf.string, name='trip_start_month'), \n",
        "                                          dropoff_latitude=tf.TensorSpec([None,], dtype= tf.float32, name='dropoff_latitude'),\n",
        "                                          dropoff_longitude=tf.TensorSpec([None,], dtype= tf.float32, name='dropoff_longitude'), \n",
        "                                          pickup_latitude=tf.TensorSpec([None,], dtype= tf.float32, name='pickup_latitude'),\n",
        "                                          pickup_longitude=tf.TensorSpec([None,], dtype= tf.float32, name='pickup_longitude')\n",
        "                                          )\n",
        "\n",
        "  # version = \"1\"  #{'serving_default': call_output}\n",
        "  tf.saved_model.save(\n",
        "      model,\n",
        "      model_save_path + \"/\",\n",
        "      signatures=serving\n",
        "  )\n",
        "\n",
        "##Main function called by TFX\n",
        "def run_fn(fn_args: FnArgs):\n",
        "  #Create dataset input functions\n",
        "  train_dataset = ift.make_input_fn(dir_uri = fn_args.train_files,\n",
        "                      mode = tf.estimator.ModeKeys.TRAIN,\n",
        "                      batch_size = 128)()\n",
        "\n",
        "  validation_dataset = ift.make_input_fn(dir_uri = fn_args.eval_files,\n",
        "                      mode = tf.estimator.ModeKeys.EVAL,\n",
        "                      batch_size = 512)()\n",
        "\n",
        "  #Create model\n",
        "  m_ = create_keras_model(params = params_default, feature_cols = create_feature_cols(),\n",
        "                          bins_lat = ct.bins_lat,\n",
        "                          bins_lon = ct.bins_lon)\n",
        "  tf.keras.utils.plot_model(m_, show_shapes=True, rankdir=\"LR\")\n",
        "\n",
        "  #Train model\n",
        "  m_ = keras_train_and_evaluate(m_, train_dataset, validation_dataset, fn_args.custom_config['epochs'])\n",
        "\n",
        "  #Save model with custom signature\n",
        "  save_model(m_, fn_args.serving_model_dir)"
      ],
      "execution_count": 52,
      "outputs": [
        {
          "output_type": "stream",
          "text": [
            "Overwriting model_trainer.py\n"
          ],
          "name": "stdout"
        }
      ]
    },
    {
      "cell_type": "code",
      "metadata": {
        "colab": {
          "base_uri": "https://localhost:8080/",
          "height": 1000
        },
        "id": "ZfEdyV_IZVM2",
        "outputId": "733e1ae3-6b6d-4245-8acf-092779e34f54"
      },
      "source": [
        "trainer = Trainer(\n",
        "    module_file=os.path.abspath(_model_trainer_module_file),\n",
        "    custom_executor_spec=executor_spec.ExecutorClassSpec(GenericExecutor),\n",
        "    examples=example_gen.outputs['examples'],\n",
        "    train_args=trainer_pb2.TrainArgs(),\n",
        "    eval_args=trainer_pb2.EvalArgs(),\n",
        "    custom_config=({'epochs':1})\n",
        ")\n",
        "context.run(trainer)"
      ],
      "execution_count": 53,
      "outputs": [
        {
          "output_type": "stream",
          "text": [
            "2.4.1\n",
            "WARNING:tensorflow:Collective ops is not configured at program startup. Some performance features may not be enabled.\n"
          ],
          "name": "stdout"
        },
        {
          "output_type": "stream",
          "text": [
            "WARNING:tensorflow:Collective ops is not configured at program startup. Some performance features may not be enabled.\n"
          ],
          "name": "stderr"
        },
        {
          "output_type": "stream",
          "text": [
            "INFO:tensorflow:Using MirroredStrategy with devices ('/device:CPU:0',)\n"
          ],
          "name": "stdout"
        },
        {
          "output_type": "stream",
          "text": [
            "INFO:tensorflow:Using MirroredStrategy with devices ('/device:CPU:0',)\n"
          ],
          "name": "stderr"
        },
        {
          "output_type": "stream",
          "text": [
            "INFO:tensorflow:Single-worker MultiWorkerMirroredStrategy with local_devices = ('/device:CPU:0',), communication = CommunicationImplementation.AUTO\n"
          ],
          "name": "stdout"
        },
        {
          "output_type": "stream",
          "text": [
            "INFO:tensorflow:Single-worker MultiWorkerMirroredStrategy with local_devices = ('/device:CPU:0',), communication = CommunicationImplementation.AUTO\n"
          ],
          "name": "stderr"
        },
        {
          "output_type": "stream",
          "text": [
            "WARNING:tensorflow:Using a while_loop for converting BoostedTreesBucketize\n"
          ],
          "name": "stdout"
        },
        {
          "output_type": "stream",
          "text": [
            "WARNING:tensorflow:Using a while_loop for converting BoostedTreesBucketize\n"
          ],
          "name": "stderr"
        },
        {
          "output_type": "stream",
          "text": [
            "WARNING:tensorflow:Using a while_loop for converting BoostedTreesBucketize\n"
          ],
          "name": "stdout"
        },
        {
          "output_type": "stream",
          "text": [
            "WARNING:tensorflow:Using a while_loop for converting BoostedTreesBucketize\n"
          ],
          "name": "stderr"
        },
        {
          "output_type": "stream",
          "text": [
            "WARNING:tensorflow:Using a while_loop for converting BoostedTreesBucketize\n"
          ],
          "name": "stdout"
        },
        {
          "output_type": "stream",
          "text": [
            "WARNING:tensorflow:Using a while_loop for converting BoostedTreesBucketize\n"
          ],
          "name": "stderr"
        },
        {
          "output_type": "stream",
          "text": [
            "WARNING:tensorflow:Using a while_loop for converting BoostedTreesBucketize\n"
          ],
          "name": "stdout"
        },
        {
          "output_type": "stream",
          "text": [
            "WARNING:tensorflow:Using a while_loop for converting BoostedTreesBucketize\n"
          ],
          "name": "stderr"
        },
        {
          "output_type": "stream",
          "text": [
            "Model: \"model\"\n",
            "__________________________________________________________________________________________________\n",
            "Layer (type)                    Output Shape         Param #     Connected to                     \n",
            "==================================================================================================\n",
            "pickup_latitude (InputLayer)    [(None, 1)]          0                                            \n",
            "__________________________________________________________________________________________________\n",
            "pickup_longitude (InputLayer)   [(None, 1)]          0                                            \n",
            "__________________________________________________________________________________________________\n",
            "dropoff_latitude (InputLayer)   [(None, 1)]          0                                            \n",
            "__________________________________________________________________________________________________\n",
            "dropoff_longitude (InputLayer)  [(None, 1)]          0                                            \n",
            "__________________________________________________________________________________________________\n",
            "discretization (Discretization) (None, 1)            0           pickup_latitude[0][0]            \n",
            "__________________________________________________________________________________________________\n",
            "discretization_1 (Discretizatio (None, 1)            0           pickup_longitude[0][0]           \n",
            "__________________________________________________________________________________________________\n",
            "discretization_2 (Discretizatio (None, 1)            0           dropoff_latitude[0][0]           \n",
            "__________________________________________________________________________________________________\n",
            "discretization_3 (Discretizatio (None, 1)            0           dropoff_longitude[0][0]          \n",
            "__________________________________________________________________________________________________\n",
            "trip_start_day (InputLayer)     [(None, 1)]          0                                            \n",
            "__________________________________________________________________________________________________\n",
            "trip_start_hour (InputLayer)    [(None, 1)]          0                                            \n",
            "__________________________________________________________________________________________________\n",
            "category_encoding_3 (CategoryEn (None, 21)           0           discretization[0][0]             \n",
            "__________________________________________________________________________________________________\n",
            "category_encoding_4 (CategoryEn (None, 21)           0           discretization_1[0][0]           \n",
            "__________________________________________________________________________________________________\n",
            "category_encoding_5 (CategoryEn (None, 21)           0           discretization_2[0][0]           \n",
            "__________________________________________________________________________________________________\n",
            "category_encoding_6 (CategoryEn (None, 21)           0           discretization_3[0][0]           \n",
            "__________________________________________________________________________________________________\n",
            "string_lookup (StringLookup)    (None, 1)            0           trip_start_day[0][0]             \n",
            "__________________________________________________________________________________________________\n",
            "string_lookup_1 (StringLookup)  (None, 1)            0           trip_start_hour[0][0]            \n",
            "__________________________________________________________________________________________________\n",
            "category_crossing_1 (CategoryCr (None, None)         0           category_encoding_3[0][0]        \n",
            "                                                                 category_encoding_4[0][0]        \n",
            "__________________________________________________________________________________________________\n",
            "category_crossing_2 (CategoryCr (None, None)         0           category_encoding_5[0][0]        \n",
            "                                                                 category_encoding_6[0][0]        \n",
            "__________________________________________________________________________________________________\n",
            "category_encoding (CategoryEnco (None, 7)            0           string_lookup[0][0]              \n",
            "__________________________________________________________________________________________________\n",
            "category_encoding_1 (CategoryEn (None, 24)           0           string_lookup_1[0][0]            \n",
            "__________________________________________________________________________________________________\n",
            "hashing_1 (Hashing)             (None, None)         0           category_crossing_1[0][0]        \n",
            "__________________________________________________________________________________________________\n",
            "hashing_2 (Hashing)             (None, None)         0           category_crossing_2[0][0]        \n",
            "__________________________________________________________________________________________________\n",
            "trip_start_month (InputLayer)   [(None, 1)]          0                                            \n",
            "__________________________________________________________________________________________________\n",
            "category_crossing (CategoryCros (None, None)         0           category_encoding[0][0]          \n",
            "                                                                 category_encoding_1[0][0]        \n",
            "__________________________________________________________________________________________________\n",
            "embedding (Embedding)           (None, None, 4)      1764        hashing_1[0][0]                  \n",
            "__________________________________________________________________________________________________\n",
            "embedding_1 (Embedding)         (None, None, 4)      1764        hashing_2[0][0]                  \n",
            "__________________________________________________________________________________________________\n",
            "string_lookup_2 (StringLookup)  (None, 1)            0           trip_start_month[0][0]           \n",
            "__________________________________________________________________________________________________\n",
            "hashing (Hashing)               (None, None)         0           category_crossing[0][0]          \n",
            "__________________________________________________________________________________________________\n",
            "distance (InputLayer)           [(None, 1)]          0                                            \n",
            "__________________________________________________________________________________________________\n",
            "tf.math.reduce_sum (TFOpLambda) (None, 4)            0           embedding[0][0]                  \n",
            "__________________________________________________________________________________________________\n",
            "tf.math.reduce_sum_1 (TFOpLambd (None, 4)            0           embedding_1[0][0]                \n",
            "__________________________________________________________________________________________________\n",
            "tf.strings.to_number (TFOpLambd (None, 1)            0           trip_start_day[0][0]             \n",
            "__________________________________________________________________________________________________\n",
            "tf.strings.to_number_1 (TFOpLam (None, 1)            0           trip_start_hour[0][0]            \n",
            "__________________________________________________________________________________________________\n",
            "tf.strings.to_number_2 (TFOpLam (None, 1)            0           trip_start_month[0][0]           \n",
            "__________________________________________________________________________________________________\n",
            "category_encoding_2 (CategoryEn (None, 12)           0           string_lookup_2[0][0]            \n",
            "__________________________________________________________________________________________________\n",
            "category_encoding_7 (CategoryEn (None, 168)          0           hashing[0][0]                    \n",
            "__________________________________________________________________________________________________\n",
            "concatenate (Concatenate)       (None, 16)           0           pickup_latitude[0][0]            \n",
            "                                                                 pickup_longitude[0][0]           \n",
            "                                                                 dropoff_latitude[0][0]           \n",
            "                                                                 dropoff_longitude[0][0]          \n",
            "                                                                 distance[0][0]                   \n",
            "                                                                 tf.math.reduce_sum[0][0]         \n",
            "                                                                 tf.math.reduce_sum_1[0][0]       \n",
            "                                                                 tf.strings.to_number[0][0]       \n",
            "                                                                 tf.strings.to_number_1[0][0]     \n",
            "                                                                 tf.strings.to_number_2[0][0]     \n",
            "__________________________________________________________________________________________________\n",
            "concatenate_1 (Concatenate)     (None, 264)          0           category_encoding_2[0][0]        \n",
            "                                                                 category_encoding_7[0][0]        \n",
            "                                                                 category_encoding_3[0][0]        \n",
            "                                                                 category_encoding_4[0][0]        \n",
            "                                                                 category_encoding_5[0][0]        \n",
            "                                                                 category_encoding_6[0][0]        \n",
            "__________________________________________________________________________________________________\n",
            "dense (Dense)                   (None, 32)           544         concatenate[0][0]                \n",
            "__________________________________________________________________________________________________\n",
            "dense_1 (Dense)                 (None, 32)           8480        concatenate_1[0][0]              \n",
            "__________________________________________________________________________________________________\n",
            "batch_normalization (BatchNorma (None, 32)           128         dense[0][0]                      \n",
            "__________________________________________________________________________________________________\n",
            "concatenate_2 (Concatenate)     (None, 64)           0           dense_1[0][0]                    \n",
            "                                                                 batch_normalization[0][0]        \n",
            "__________________________________________________________________________________________________\n",
            "dense_2 (Dense)                 (None, 32)           2080        concatenate_2[0][0]              \n",
            "__________________________________________________________________________________________________\n",
            "batch_normalization_1 (BatchNor (None, 32)           128         dense_2[0][0]                    \n",
            "__________________________________________________________________________________________________\n",
            "dense_3 (Dense)                 (None, 1)            33          batch_normalization_1[0][0]      \n",
            "==================================================================================================\n",
            "Total params: 14,921\n",
            "Trainable params: 14,793\n",
            "Non-trainable params: 128\n",
            "__________________________________________________________________________________________________\n",
            "None\n"
          ],
          "name": "stdout"
        },
        {
          "output_type": "stream",
          "text": [
            "/usr/local/lib/python3.7/dist-packages/tensorflow/python/keras/engine/functional.py:595: UserWarning: Input dict contained keys ['fare'] which did not match any model input. They will be ignored by the model.\n",
            "  [n for n in tensors.keys() if n not in ref_input_names])\n"
          ],
          "name": "stderr"
        },
        {
          "output_type": "stream",
          "text": [
            "WARNING:tensorflow:Using a while_loop for converting BoostedTreesBucketize\n"
          ],
          "name": "stdout"
        },
        {
          "output_type": "stream",
          "text": [
            "WARNING:tensorflow:Using a while_loop for converting BoostedTreesBucketize\n"
          ],
          "name": "stderr"
        },
        {
          "output_type": "stream",
          "text": [
            "WARNING:tensorflow:Using a while_loop for converting BoostedTreesBucketize\n"
          ],
          "name": "stdout"
        },
        {
          "output_type": "stream",
          "text": [
            "WARNING:tensorflow:Using a while_loop for converting BoostedTreesBucketize\n"
          ],
          "name": "stderr"
        },
        {
          "output_type": "stream",
          "text": [
            "WARNING:tensorflow:Using a while_loop for converting BoostedTreesBucketize\n"
          ],
          "name": "stdout"
        },
        {
          "output_type": "stream",
          "text": [
            "WARNING:tensorflow:Using a while_loop for converting BoostedTreesBucketize\n"
          ],
          "name": "stderr"
        },
        {
          "output_type": "stream",
          "text": [
            "WARNING:tensorflow:Using a while_loop for converting BoostedTreesBucketize\n"
          ],
          "name": "stdout"
        },
        {
          "output_type": "stream",
          "text": [
            "WARNING:tensorflow:Using a while_loop for converting BoostedTreesBucketize\n"
          ],
          "name": "stderr"
        },
        {
          "output_type": "stream",
          "text": [
            "WARNING:tensorflow:Using a while_loop for converting BoostedTreesBucketize\n"
          ],
          "name": "stdout"
        },
        {
          "output_type": "stream",
          "text": [
            "WARNING:tensorflow:Using a while_loop for converting BoostedTreesBucketize\n"
          ],
          "name": "stderr"
        },
        {
          "output_type": "stream",
          "text": [
            "WARNING:tensorflow:Using a while_loop for converting BoostedTreesBucketize\n"
          ],
          "name": "stdout"
        },
        {
          "output_type": "stream",
          "text": [
            "WARNING:tensorflow:Using a while_loop for converting BoostedTreesBucketize\n"
          ],
          "name": "stderr"
        },
        {
          "output_type": "stream",
          "text": [
            "WARNING:tensorflow:Using a while_loop for converting BoostedTreesBucketize\n"
          ],
          "name": "stdout"
        },
        {
          "output_type": "stream",
          "text": [
            "WARNING:tensorflow:Using a while_loop for converting BoostedTreesBucketize\n"
          ],
          "name": "stderr"
        },
        {
          "output_type": "stream",
          "text": [
            "WARNING:tensorflow:Using a while_loop for converting BoostedTreesBucketize\n"
          ],
          "name": "stdout"
        },
        {
          "output_type": "stream",
          "text": [
            "WARNING:tensorflow:Using a while_loop for converting BoostedTreesBucketize\n"
          ],
          "name": "stderr"
        },
        {
          "output_type": "stream",
          "text": [
            "100/100 [==============================] - ETA: 0s - loss: 231.3719 - rmse: 15.1552WARNING:tensorflow:Using a while_loop for converting BoostedTreesBucketize\n"
          ],
          "name": "stdout"
        },
        {
          "output_type": "stream",
          "text": [
            "WARNING:tensorflow:Using a while_loop for converting BoostedTreesBucketize\n"
          ],
          "name": "stderr"
        },
        {
          "output_type": "stream",
          "text": [
            "WARNING:tensorflow:Using a while_loop for converting BoostedTreesBucketize\n"
          ],
          "name": "stdout"
        },
        {
          "output_type": "stream",
          "text": [
            "WARNING:tensorflow:Using a while_loop for converting BoostedTreesBucketize\n"
          ],
          "name": "stderr"
        },
        {
          "output_type": "stream",
          "text": [
            "WARNING:tensorflow:Using a while_loop for converting BoostedTreesBucketize\n"
          ],
          "name": "stdout"
        },
        {
          "output_type": "stream",
          "text": [
            "WARNING:tensorflow:Using a while_loop for converting BoostedTreesBucketize\n"
          ],
          "name": "stderr"
        },
        {
          "output_type": "stream",
          "text": [
            "WARNING:tensorflow:Using a while_loop for converting BoostedTreesBucketize\n"
          ],
          "name": "stdout"
        },
        {
          "output_type": "stream",
          "text": [
            "WARNING:tensorflow:Using a while_loop for converting BoostedTreesBucketize\n"
          ],
          "name": "stderr"
        },
        {
          "output_type": "stream",
          "text": [
            "100/100 [==============================] - 20s 173ms/step - loss: 231.4957 - rmse: 15.1598 - val_loss: 108.3223 - val_rmse: 10.4075\n",
            "WARNING:tensorflow:Using a while_loop for converting BoostedTreesBucketize\n"
          ],
          "name": "stdout"
        },
        {
          "output_type": "stream",
          "text": [
            "WARNING:tensorflow:Using a while_loop for converting BoostedTreesBucketize\n"
          ],
          "name": "stderr"
        },
        {
          "output_type": "stream",
          "text": [
            "WARNING:tensorflow:Using a while_loop for converting BoostedTreesBucketize\n"
          ],
          "name": "stdout"
        },
        {
          "output_type": "stream",
          "text": [
            "WARNING:tensorflow:Using a while_loop for converting BoostedTreesBucketize\n"
          ],
          "name": "stderr"
        },
        {
          "output_type": "stream",
          "text": [
            "WARNING:tensorflow:Using a while_loop for converting BoostedTreesBucketize\n"
          ],
          "name": "stdout"
        },
        {
          "output_type": "stream",
          "text": [
            "WARNING:tensorflow:Using a while_loop for converting BoostedTreesBucketize\n"
          ],
          "name": "stderr"
        },
        {
          "output_type": "stream",
          "text": [
            "WARNING:tensorflow:Using a while_loop for converting BoostedTreesBucketize\n"
          ],
          "name": "stdout"
        },
        {
          "output_type": "stream",
          "text": [
            "WARNING:tensorflow:Using a while_loop for converting BoostedTreesBucketize\n"
          ],
          "name": "stderr"
        },
        {
          "output_type": "stream",
          "text": [
            "WARNING:tensorflow:Using a while_loop for converting BoostedTreesBucketize\n"
          ],
          "name": "stdout"
        },
        {
          "output_type": "stream",
          "text": [
            "WARNING:tensorflow:Using a while_loop for converting BoostedTreesBucketize\n"
          ],
          "name": "stderr"
        },
        {
          "output_type": "stream",
          "text": [
            "WARNING:tensorflow:Using a while_loop for converting BoostedTreesBucketize\n"
          ],
          "name": "stdout"
        },
        {
          "output_type": "stream",
          "text": [
            "WARNING:tensorflow:Using a while_loop for converting BoostedTreesBucketize\n"
          ],
          "name": "stderr"
        },
        {
          "output_type": "stream",
          "text": [
            "WARNING:tensorflow:Using a while_loop for converting BoostedTreesBucketize\n"
          ],
          "name": "stdout"
        },
        {
          "output_type": "stream",
          "text": [
            "WARNING:tensorflow:Using a while_loop for converting BoostedTreesBucketize\n"
          ],
          "name": "stderr"
        },
        {
          "output_type": "stream",
          "text": [
            "WARNING:tensorflow:Using a while_loop for converting BoostedTreesBucketize\n"
          ],
          "name": "stdout"
        },
        {
          "output_type": "stream",
          "text": [
            "WARNING:tensorflow:Using a while_loop for converting BoostedTreesBucketize\n"
          ],
          "name": "stderr"
        },
        {
          "output_type": "stream",
          "text": [
            "WARNING:tensorflow:Using a while_loop for converting BoostedTreesBucketize\n"
          ],
          "name": "stdout"
        },
        {
          "output_type": "stream",
          "text": [
            "WARNING:tensorflow:Using a while_loop for converting BoostedTreesBucketize\n"
          ],
          "name": "stderr"
        },
        {
          "output_type": "stream",
          "text": [
            "WARNING:tensorflow:Using a while_loop for converting BoostedTreesBucketize\n"
          ],
          "name": "stdout"
        },
        {
          "output_type": "stream",
          "text": [
            "WARNING:tensorflow:Using a while_loop for converting BoostedTreesBucketize\n"
          ],
          "name": "stderr"
        },
        {
          "output_type": "stream",
          "text": [
            "WARNING:tensorflow:Using a while_loop for converting BoostedTreesBucketize\n"
          ],
          "name": "stdout"
        },
        {
          "output_type": "stream",
          "text": [
            "WARNING:tensorflow:Using a while_loop for converting BoostedTreesBucketize\n"
          ],
          "name": "stderr"
        },
        {
          "output_type": "stream",
          "text": [
            "WARNING:tensorflow:Using a while_loop for converting BoostedTreesBucketize\n"
          ],
          "name": "stdout"
        },
        {
          "output_type": "stream",
          "text": [
            "WARNING:tensorflow:Using a while_loop for converting BoostedTreesBucketize\n"
          ],
          "name": "stderr"
        },
        {
          "output_type": "stream",
          "text": [
            "WARNING:tensorflow:Using a while_loop for converting BoostedTreesBucketize\n"
          ],
          "name": "stdout"
        },
        {
          "output_type": "stream",
          "text": [
            "WARNING:tensorflow:Using a while_loop for converting BoostedTreesBucketize\n"
          ],
          "name": "stderr"
        },
        {
          "output_type": "stream",
          "text": [
            "WARNING:tensorflow:Using a while_loop for converting BoostedTreesBucketize\n"
          ],
          "name": "stdout"
        },
        {
          "output_type": "stream",
          "text": [
            "WARNING:tensorflow:Using a while_loop for converting BoostedTreesBucketize\n"
          ],
          "name": "stderr"
        },
        {
          "output_type": "stream",
          "text": [
            "WARNING:tensorflow:Using a while_loop for converting BoostedTreesBucketize\n"
          ],
          "name": "stdout"
        },
        {
          "output_type": "stream",
          "text": [
            "WARNING:tensorflow:Using a while_loop for converting BoostedTreesBucketize\n"
          ],
          "name": "stderr"
        },
        {
          "output_type": "stream",
          "text": [
            "WARNING:tensorflow:Using a while_loop for converting BoostedTreesBucketize\n"
          ],
          "name": "stdout"
        },
        {
          "output_type": "stream",
          "text": [
            "WARNING:tensorflow:Using a while_loop for converting BoostedTreesBucketize\n"
          ],
          "name": "stderr"
        },
        {
          "output_type": "stream",
          "text": [
            "WARNING:tensorflow:Using a while_loop for converting BoostedTreesBucketize\n"
          ],
          "name": "stdout"
        },
        {
          "output_type": "stream",
          "text": [
            "WARNING:tensorflow:Using a while_loop for converting BoostedTreesBucketize\n"
          ],
          "name": "stderr"
        },
        {
          "output_type": "stream",
          "text": [
            "WARNING:tensorflow:Using a while_loop for converting BoostedTreesBucketize\n"
          ],
          "name": "stdout"
        },
        {
          "output_type": "stream",
          "text": [
            "WARNING:tensorflow:Using a while_loop for converting BoostedTreesBucketize\n"
          ],
          "name": "stderr"
        },
        {
          "output_type": "stream",
          "text": [
            "WARNING:tensorflow:Using a while_loop for converting BoostedTreesBucketize\n"
          ],
          "name": "stdout"
        },
        {
          "output_type": "stream",
          "text": [
            "WARNING:tensorflow:Using a while_loop for converting BoostedTreesBucketize\n"
          ],
          "name": "stderr"
        },
        {
          "output_type": "stream",
          "text": [
            "WARNING:tensorflow:Using a while_loop for converting BoostedTreesBucketize\n"
          ],
          "name": "stdout"
        },
        {
          "output_type": "stream",
          "text": [
            "WARNING:tensorflow:Using a while_loop for converting BoostedTreesBucketize\n"
          ],
          "name": "stderr"
        },
        {
          "output_type": "stream",
          "text": [
            "WARNING:tensorflow:Using a while_loop for converting BoostedTreesBucketize\n"
          ],
          "name": "stdout"
        },
        {
          "output_type": "stream",
          "text": [
            "WARNING:tensorflow:Using a while_loop for converting BoostedTreesBucketize\n"
          ],
          "name": "stderr"
        },
        {
          "output_type": "stream",
          "text": [
            "WARNING:tensorflow:Using a while_loop for converting BoostedTreesBucketize\n"
          ],
          "name": "stdout"
        },
        {
          "output_type": "stream",
          "text": [
            "WARNING:tensorflow:Using a while_loop for converting BoostedTreesBucketize\n"
          ],
          "name": "stderr"
        },
        {
          "output_type": "stream",
          "text": [
            "WARNING:tensorflow:Using a while_loop for converting BoostedTreesBucketize\n"
          ],
          "name": "stdout"
        },
        {
          "output_type": "stream",
          "text": [
            "WARNING:tensorflow:Using a while_loop for converting BoostedTreesBucketize\n"
          ],
          "name": "stderr"
        },
        {
          "output_type": "stream",
          "text": [
            "WARNING:tensorflow:Using a while_loop for converting BoostedTreesBucketize\n"
          ],
          "name": "stdout"
        },
        {
          "output_type": "stream",
          "text": [
            "WARNING:tensorflow:Using a while_loop for converting BoostedTreesBucketize\n"
          ],
          "name": "stderr"
        },
        {
          "output_type": "stream",
          "text": [
            "WARNING:tensorflow:Using a while_loop for converting BoostedTreesBucketize\n"
          ],
          "name": "stdout"
        },
        {
          "output_type": "stream",
          "text": [
            "WARNING:tensorflow:Using a while_loop for converting BoostedTreesBucketize\n"
          ],
          "name": "stderr"
        },
        {
          "output_type": "stream",
          "text": [
            "WARNING:tensorflow:Using a while_loop for converting BoostedTreesBucketize\n"
          ],
          "name": "stdout"
        },
        {
          "output_type": "stream",
          "text": [
            "WARNING:tensorflow:Using a while_loop for converting BoostedTreesBucketize\n"
          ],
          "name": "stderr"
        },
        {
          "output_type": "stream",
          "text": [
            "WARNING:tensorflow:Using a while_loop for converting BoostedTreesBucketize\n"
          ],
          "name": "stdout"
        },
        {
          "output_type": "stream",
          "text": [
            "WARNING:tensorflow:Using a while_loop for converting BoostedTreesBucketize\n"
          ],
          "name": "stderr"
        },
        {
          "output_type": "stream",
          "text": [
            "WARNING:tensorflow:Using a while_loop for converting BoostedTreesBucketize\n"
          ],
          "name": "stdout"
        },
        {
          "output_type": "stream",
          "text": [
            "WARNING:tensorflow:Using a while_loop for converting BoostedTreesBucketize\n"
          ],
          "name": "stderr"
        },
        {
          "output_type": "stream",
          "text": [
            "WARNING:tensorflow:Using a while_loop for converting BoostedTreesBucketize\n"
          ],
          "name": "stdout"
        },
        {
          "output_type": "stream",
          "text": [
            "WARNING:tensorflow:Using a while_loop for converting BoostedTreesBucketize\n"
          ],
          "name": "stderr"
        },
        {
          "output_type": "stream",
          "text": [
            "WARNING:tensorflow:Using a while_loop for converting BoostedTreesBucketize\n"
          ],
          "name": "stdout"
        },
        {
          "output_type": "stream",
          "text": [
            "WARNING:tensorflow:Using a while_loop for converting BoostedTreesBucketize\n"
          ],
          "name": "stderr"
        },
        {
          "output_type": "stream",
          "text": [
            "WARNING:tensorflow:Using a while_loop for converting BoostedTreesBucketize\n"
          ],
          "name": "stdout"
        },
        {
          "output_type": "stream",
          "text": [
            "WARNING:tensorflow:Using a while_loop for converting BoostedTreesBucketize\n"
          ],
          "name": "stderr"
        },
        {
          "output_type": "stream",
          "text": [
            "WARNING:tensorflow:Using a while_loop for converting BoostedTreesBucketize\n"
          ],
          "name": "stdout"
        },
        {
          "output_type": "stream",
          "text": [
            "WARNING:tensorflow:Using a while_loop for converting BoostedTreesBucketize\n"
          ],
          "name": "stderr"
        },
        {
          "output_type": "stream",
          "text": [
            "INFO:tensorflow:Assets written to: /content/tfx/Trainer/model/10/serving_model_dir/assets\n"
          ],
          "name": "stdout"
        },
        {
          "output_type": "stream",
          "text": [
            "INFO:tensorflow:Assets written to: /content/tfx/Trainer/model/10/serving_model_dir/assets\n"
          ],
          "name": "stderr"
        },
        {
          "output_type": "execute_result",
          "data": {
            "text/html": [
              "<style>\n",
              ".tfx-object.expanded {\n",
              "  padding: 4px 8px 4px 8px;\n",
              "  background: white;\n",
              "  border: 1px solid #bbbbbb;\n",
              "  box-shadow: 4px 4px 2px rgba(0,0,0,0.05);\n",
              "}\n",
              ".tfx-object, .tfx-object * {\n",
              "  font-size: 11pt;\n",
              "}\n",
              ".tfx-object > .title {\n",
              "  cursor: pointer;\n",
              "}\n",
              ".tfx-object .expansion-marker {\n",
              "  color: #999999;\n",
              "}\n",
              ".tfx-object.expanded > .title > .expansion-marker:before {\n",
              "  content: '▼';\n",
              "}\n",
              ".tfx-object.collapsed > .title > .expansion-marker:before {\n",
              "  content: '▶';\n",
              "}\n",
              ".tfx-object .class-name {\n",
              "  font-weight: bold;\n",
              "}\n",
              ".tfx-object .deemphasize {\n",
              "  opacity: 0.5;\n",
              "}\n",
              ".tfx-object.collapsed > table.attr-table {\n",
              "  display: none;\n",
              "}\n",
              ".tfx-object.expanded > table.attr-table {\n",
              "  display: block;\n",
              "}\n",
              ".tfx-object table.attr-table {\n",
              "  border: 2px solid white;\n",
              "  margin-top: 5px;\n",
              "}\n",
              ".tfx-object table.attr-table td.attr-name {\n",
              "  vertical-align: top;\n",
              "  font-weight: bold;\n",
              "}\n",
              ".tfx-object table.attr-table td.attrvalue {\n",
              "  text-align: left;\n",
              "}\n",
              "</style>\n",
              "<script>\n",
              "function toggleTfxObject(element) {\n",
              "  var objElement = element.parentElement;\n",
              "  if (objElement.classList.contains('collapsed')) {\n",
              "    objElement.classList.remove('collapsed');\n",
              "    objElement.classList.add('expanded');\n",
              "  } else {\n",
              "    objElement.classList.add('collapsed');\n",
              "    objElement.classList.remove('expanded');\n",
              "  }\n",
              "}\n",
              "</script>\n",
              "<div class=\"tfx-object expanded\"><div class = \"title\" onclick=\"toggleTfxObject(this)\"><span class=\"expansion-marker\"></span><span class=\"class-name\">ExecutionResult</span><span class=\"deemphasize\"> at 0x7f1c4e3adc90</span></div><table class=\"attr-table\"><tr><td class=\"attr-name\">.execution_id</td><td class = \"attrvalue\">10</td></tr><tr><td class=\"attr-name\">.component</td><td class = \"attrvalue\"><style>\n",
              ".tfx-object.expanded {\n",
              "  padding: 4px 8px 4px 8px;\n",
              "  background: white;\n",
              "  border: 1px solid #bbbbbb;\n",
              "  box-shadow: 4px 4px 2px rgba(0,0,0,0.05);\n",
              "}\n",
              ".tfx-object, .tfx-object * {\n",
              "  font-size: 11pt;\n",
              "}\n",
              ".tfx-object > .title {\n",
              "  cursor: pointer;\n",
              "}\n",
              ".tfx-object .expansion-marker {\n",
              "  color: #999999;\n",
              "}\n",
              ".tfx-object.expanded > .title > .expansion-marker:before {\n",
              "  content: '▼';\n",
              "}\n",
              ".tfx-object.collapsed > .title > .expansion-marker:before {\n",
              "  content: '▶';\n",
              "}\n",
              ".tfx-object .class-name {\n",
              "  font-weight: bold;\n",
              "}\n",
              ".tfx-object .deemphasize {\n",
              "  opacity: 0.5;\n",
              "}\n",
              ".tfx-object.collapsed > table.attr-table {\n",
              "  display: none;\n",
              "}\n",
              ".tfx-object.expanded > table.attr-table {\n",
              "  display: block;\n",
              "}\n",
              ".tfx-object table.attr-table {\n",
              "  border: 2px solid white;\n",
              "  margin-top: 5px;\n",
              "}\n",
              ".tfx-object table.attr-table td.attr-name {\n",
              "  vertical-align: top;\n",
              "  font-weight: bold;\n",
              "}\n",
              ".tfx-object table.attr-table td.attrvalue {\n",
              "  text-align: left;\n",
              "}\n",
              "</style>\n",
              "<script>\n",
              "function toggleTfxObject(element) {\n",
              "  var objElement = element.parentElement;\n",
              "  if (objElement.classList.contains('collapsed')) {\n",
              "    objElement.classList.remove('collapsed');\n",
              "    objElement.classList.add('expanded');\n",
              "  } else {\n",
              "    objElement.classList.add('collapsed');\n",
              "    objElement.classList.remove('expanded');\n",
              "  }\n",
              "}\n",
              "</script>\n",
              "<div class=\"tfx-object collapsed\"><div class = \"title\" onclick=\"toggleTfxObject(this)\"><span class=\"expansion-marker\"></span><span class=\"class-name\">Trainer</span><span class=\"deemphasize\"> at 0x7f1c4d547650</span></div><table class=\"attr-table\"><tr><td class=\"attr-name\">.inputs</td><td class = \"attrvalue\"><table class=\"attr-table\"><tr><td class=\"attr-name\">['examples']</td><td class = \"attrvalue\"><style>\n",
              ".tfx-object.expanded {\n",
              "  padding: 4px 8px 4px 8px;\n",
              "  background: white;\n",
              "  border: 1px solid #bbbbbb;\n",
              "  box-shadow: 4px 4px 2px rgba(0,0,0,0.05);\n",
              "}\n",
              ".tfx-object, .tfx-object * {\n",
              "  font-size: 11pt;\n",
              "}\n",
              ".tfx-object > .title {\n",
              "  cursor: pointer;\n",
              "}\n",
              ".tfx-object .expansion-marker {\n",
              "  color: #999999;\n",
              "}\n",
              ".tfx-object.expanded > .title > .expansion-marker:before {\n",
              "  content: '▼';\n",
              "}\n",
              ".tfx-object.collapsed > .title > .expansion-marker:before {\n",
              "  content: '▶';\n",
              "}\n",
              ".tfx-object .class-name {\n",
              "  font-weight: bold;\n",
              "}\n",
              ".tfx-object .deemphasize {\n",
              "  opacity: 0.5;\n",
              "}\n",
              ".tfx-object.collapsed > table.attr-table {\n",
              "  display: none;\n",
              "}\n",
              ".tfx-object.expanded > table.attr-table {\n",
              "  display: block;\n",
              "}\n",
              ".tfx-object table.attr-table {\n",
              "  border: 2px solid white;\n",
              "  margin-top: 5px;\n",
              "}\n",
              ".tfx-object table.attr-table td.attr-name {\n",
              "  vertical-align: top;\n",
              "  font-weight: bold;\n",
              "}\n",
              ".tfx-object table.attr-table td.attrvalue {\n",
              "  text-align: left;\n",
              "}\n",
              "</style>\n",
              "<script>\n",
              "function toggleTfxObject(element) {\n",
              "  var objElement = element.parentElement;\n",
              "  if (objElement.classList.contains('collapsed')) {\n",
              "    objElement.classList.remove('collapsed');\n",
              "    objElement.classList.add('expanded');\n",
              "  } else {\n",
              "    objElement.classList.add('collapsed');\n",
              "    objElement.classList.remove('expanded');\n",
              "  }\n",
              "}\n",
              "</script>\n",
              "<div class=\"tfx-object collapsed\"><div class = \"title\" onclick=\"toggleTfxObject(this)\"><span class=\"expansion-marker\"></span><span class=\"class-name\">Channel</span> of type <span class=\"class-name\">'Examples'</span> (1 artifact)<span class=\"deemphasize\"> at 0x7f1c5af262d0</span></div><table class=\"attr-table\"><tr><td class=\"attr-name\">.type_name</td><td class = \"attrvalue\">Examples</td></tr><tr><td class=\"attr-name\">._artifacts</td><td class = \"attrvalue\"><table class=\"attr-table\"><tr><td class=\"attr-name\">[0]</td><td class = \"attrvalue\"><style>\n",
              ".tfx-object.expanded {\n",
              "  padding: 4px 8px 4px 8px;\n",
              "  background: white;\n",
              "  border: 1px solid #bbbbbb;\n",
              "  box-shadow: 4px 4px 2px rgba(0,0,0,0.05);\n",
              "}\n",
              ".tfx-object, .tfx-object * {\n",
              "  font-size: 11pt;\n",
              "}\n",
              ".tfx-object > .title {\n",
              "  cursor: pointer;\n",
              "}\n",
              ".tfx-object .expansion-marker {\n",
              "  color: #999999;\n",
              "}\n",
              ".tfx-object.expanded > .title > .expansion-marker:before {\n",
              "  content: '▼';\n",
              "}\n",
              ".tfx-object.collapsed > .title > .expansion-marker:before {\n",
              "  content: '▶';\n",
              "}\n",
              ".tfx-object .class-name {\n",
              "  font-weight: bold;\n",
              "}\n",
              ".tfx-object .deemphasize {\n",
              "  opacity: 0.5;\n",
              "}\n",
              ".tfx-object.collapsed > table.attr-table {\n",
              "  display: none;\n",
              "}\n",
              ".tfx-object.expanded > table.attr-table {\n",
              "  display: block;\n",
              "}\n",
              ".tfx-object table.attr-table {\n",
              "  border: 2px solid white;\n",
              "  margin-top: 5px;\n",
              "}\n",
              ".tfx-object table.attr-table td.attr-name {\n",
              "  vertical-align: top;\n",
              "  font-weight: bold;\n",
              "}\n",
              ".tfx-object table.attr-table td.attrvalue {\n",
              "  text-align: left;\n",
              "}\n",
              "</style>\n",
              "<script>\n",
              "function toggleTfxObject(element) {\n",
              "  var objElement = element.parentElement;\n",
              "  if (objElement.classList.contains('collapsed')) {\n",
              "    objElement.classList.remove('collapsed');\n",
              "    objElement.classList.add('expanded');\n",
              "  } else {\n",
              "    objElement.classList.add('collapsed');\n",
              "    objElement.classList.remove('expanded');\n",
              "  }\n",
              "}\n",
              "</script>\n",
              "<div class=\"tfx-object collapsed\"><div class = \"title\" onclick=\"toggleTfxObject(this)\"><span class=\"expansion-marker\"></span><span class=\"class-name\">Artifact</span> of type <span class=\"class-name\">'Examples'</span> (uri: /content/tfx/CsvExampleGen/examples/1)<span class=\"deemphasize\"> at 0x7f1c5af51950</span></div><table class=\"attr-table\"><tr><td class=\"attr-name\">.type</td><td class = \"attrvalue\">&lt;class &#x27;tfx.types.standard_artifacts.Examples&#x27;&gt;</td></tr><tr><td class=\"attr-name\">.uri</td><td class = \"attrvalue\">/content/tfx/CsvExampleGen/examples/1</td></tr><tr><td class=\"attr-name\">.span</td><td class = \"attrvalue\">0</td></tr><tr><td class=\"attr-name\">.split_names</td><td class = \"attrvalue\">[&quot;train&quot;, &quot;eval&quot;]</td></tr><tr><td class=\"attr-name\">.version</td><td class = \"attrvalue\">0</td></tr></table></div></td></tr></table></td></tr></table></div></td></tr></table></td></tr><tr><td class=\"attr-name\">.outputs</td><td class = \"attrvalue\"><table class=\"attr-table\"><tr><td class=\"attr-name\">['model']</td><td class = \"attrvalue\"><style>\n",
              ".tfx-object.expanded {\n",
              "  padding: 4px 8px 4px 8px;\n",
              "  background: white;\n",
              "  border: 1px solid #bbbbbb;\n",
              "  box-shadow: 4px 4px 2px rgba(0,0,0,0.05);\n",
              "}\n",
              ".tfx-object, .tfx-object * {\n",
              "  font-size: 11pt;\n",
              "}\n",
              ".tfx-object > .title {\n",
              "  cursor: pointer;\n",
              "}\n",
              ".tfx-object .expansion-marker {\n",
              "  color: #999999;\n",
              "}\n",
              ".tfx-object.expanded > .title > .expansion-marker:before {\n",
              "  content: '▼';\n",
              "}\n",
              ".tfx-object.collapsed > .title > .expansion-marker:before {\n",
              "  content: '▶';\n",
              "}\n",
              ".tfx-object .class-name {\n",
              "  font-weight: bold;\n",
              "}\n",
              ".tfx-object .deemphasize {\n",
              "  opacity: 0.5;\n",
              "}\n",
              ".tfx-object.collapsed > table.attr-table {\n",
              "  display: none;\n",
              "}\n",
              ".tfx-object.expanded > table.attr-table {\n",
              "  display: block;\n",
              "}\n",
              ".tfx-object table.attr-table {\n",
              "  border: 2px solid white;\n",
              "  margin-top: 5px;\n",
              "}\n",
              ".tfx-object table.attr-table td.attr-name {\n",
              "  vertical-align: top;\n",
              "  font-weight: bold;\n",
              "}\n",
              ".tfx-object table.attr-table td.attrvalue {\n",
              "  text-align: left;\n",
              "}\n",
              "</style>\n",
              "<script>\n",
              "function toggleTfxObject(element) {\n",
              "  var objElement = element.parentElement;\n",
              "  if (objElement.classList.contains('collapsed')) {\n",
              "    objElement.classList.remove('collapsed');\n",
              "    objElement.classList.add('expanded');\n",
              "  } else {\n",
              "    objElement.classList.add('collapsed');\n",
              "    objElement.classList.remove('expanded');\n",
              "  }\n",
              "}\n",
              "</script>\n",
              "<div class=\"tfx-object collapsed\"><div class = \"title\" onclick=\"toggleTfxObject(this)\"><span class=\"expansion-marker\"></span><span class=\"class-name\">Channel</span> of type <span class=\"class-name\">'Model'</span> (1 artifact)<span class=\"deemphasize\"> at 0x7f1c4d5475d0</span></div><table class=\"attr-table\"><tr><td class=\"attr-name\">.type_name</td><td class = \"attrvalue\">Model</td></tr><tr><td class=\"attr-name\">._artifacts</td><td class = \"attrvalue\"><table class=\"attr-table\"><tr><td class=\"attr-name\">[0]</td><td class = \"attrvalue\"><style>\n",
              ".tfx-object.expanded {\n",
              "  padding: 4px 8px 4px 8px;\n",
              "  background: white;\n",
              "  border: 1px solid #bbbbbb;\n",
              "  box-shadow: 4px 4px 2px rgba(0,0,0,0.05);\n",
              "}\n",
              ".tfx-object, .tfx-object * {\n",
              "  font-size: 11pt;\n",
              "}\n",
              ".tfx-object > .title {\n",
              "  cursor: pointer;\n",
              "}\n",
              ".tfx-object .expansion-marker {\n",
              "  color: #999999;\n",
              "}\n",
              ".tfx-object.expanded > .title > .expansion-marker:before {\n",
              "  content: '▼';\n",
              "}\n",
              ".tfx-object.collapsed > .title > .expansion-marker:before {\n",
              "  content: '▶';\n",
              "}\n",
              ".tfx-object .class-name {\n",
              "  font-weight: bold;\n",
              "}\n",
              ".tfx-object .deemphasize {\n",
              "  opacity: 0.5;\n",
              "}\n",
              ".tfx-object.collapsed > table.attr-table {\n",
              "  display: none;\n",
              "}\n",
              ".tfx-object.expanded > table.attr-table {\n",
              "  display: block;\n",
              "}\n",
              ".tfx-object table.attr-table {\n",
              "  border: 2px solid white;\n",
              "  margin-top: 5px;\n",
              "}\n",
              ".tfx-object table.attr-table td.attr-name {\n",
              "  vertical-align: top;\n",
              "  font-weight: bold;\n",
              "}\n",
              ".tfx-object table.attr-table td.attrvalue {\n",
              "  text-align: left;\n",
              "}\n",
              "</style>\n",
              "<script>\n",
              "function toggleTfxObject(element) {\n",
              "  var objElement = element.parentElement;\n",
              "  if (objElement.classList.contains('collapsed')) {\n",
              "    objElement.classList.remove('collapsed');\n",
              "    objElement.classList.add('expanded');\n",
              "  } else {\n",
              "    objElement.classList.add('collapsed');\n",
              "    objElement.classList.remove('expanded');\n",
              "  }\n",
              "}\n",
              "</script>\n",
              "<div class=\"tfx-object collapsed\"><div class = \"title\" onclick=\"toggleTfxObject(this)\"><span class=\"expansion-marker\"></span><span class=\"class-name\">Artifact</span> of type <span class=\"class-name\">'Model'</span> (uri: /content/tfx/Trainer/model/10)<span class=\"deemphasize\"> at 0x7f1c4e717490</span></div><table class=\"attr-table\"><tr><td class=\"attr-name\">.type</td><td class = \"attrvalue\">&lt;class &#x27;tfx.types.standard_artifacts.Model&#x27;&gt;</td></tr><tr><td class=\"attr-name\">.uri</td><td class = \"attrvalue\">/content/tfx/Trainer/model/10</td></tr></table></div></td></tr></table></td></tr></table></div></td></tr><tr><td class=\"attr-name\">['model_run']</td><td class = \"attrvalue\"><style>\n",
              ".tfx-object.expanded {\n",
              "  padding: 4px 8px 4px 8px;\n",
              "  background: white;\n",
              "  border: 1px solid #bbbbbb;\n",
              "  box-shadow: 4px 4px 2px rgba(0,0,0,0.05);\n",
              "}\n",
              ".tfx-object, .tfx-object * {\n",
              "  font-size: 11pt;\n",
              "}\n",
              ".tfx-object > .title {\n",
              "  cursor: pointer;\n",
              "}\n",
              ".tfx-object .expansion-marker {\n",
              "  color: #999999;\n",
              "}\n",
              ".tfx-object.expanded > .title > .expansion-marker:before {\n",
              "  content: '▼';\n",
              "}\n",
              ".tfx-object.collapsed > .title > .expansion-marker:before {\n",
              "  content: '▶';\n",
              "}\n",
              ".tfx-object .class-name {\n",
              "  font-weight: bold;\n",
              "}\n",
              ".tfx-object .deemphasize {\n",
              "  opacity: 0.5;\n",
              "}\n",
              ".tfx-object.collapsed > table.attr-table {\n",
              "  display: none;\n",
              "}\n",
              ".tfx-object.expanded > table.attr-table {\n",
              "  display: block;\n",
              "}\n",
              ".tfx-object table.attr-table {\n",
              "  border: 2px solid white;\n",
              "  margin-top: 5px;\n",
              "}\n",
              ".tfx-object table.attr-table td.attr-name {\n",
              "  vertical-align: top;\n",
              "  font-weight: bold;\n",
              "}\n",
              ".tfx-object table.attr-table td.attrvalue {\n",
              "  text-align: left;\n",
              "}\n",
              "</style>\n",
              "<script>\n",
              "function toggleTfxObject(element) {\n",
              "  var objElement = element.parentElement;\n",
              "  if (objElement.classList.contains('collapsed')) {\n",
              "    objElement.classList.remove('collapsed');\n",
              "    objElement.classList.add('expanded');\n",
              "  } else {\n",
              "    objElement.classList.add('collapsed');\n",
              "    objElement.classList.remove('expanded');\n",
              "  }\n",
              "}\n",
              "</script>\n",
              "<div class=\"tfx-object collapsed\"><div class = \"title\" onclick=\"toggleTfxObject(this)\"><span class=\"expansion-marker\"></span><span class=\"class-name\">Channel</span> of type <span class=\"class-name\">'ModelRun'</span> (1 artifact)<span class=\"deemphasize\"> at 0x7f1c4d5474d0</span></div><table class=\"attr-table\"><tr><td class=\"attr-name\">.type_name</td><td class = \"attrvalue\">ModelRun</td></tr><tr><td class=\"attr-name\">._artifacts</td><td class = \"attrvalue\"><table class=\"attr-table\"><tr><td class=\"attr-name\">[0]</td><td class = \"attrvalue\"><style>\n",
              ".tfx-object.expanded {\n",
              "  padding: 4px 8px 4px 8px;\n",
              "  background: white;\n",
              "  border: 1px solid #bbbbbb;\n",
              "  box-shadow: 4px 4px 2px rgba(0,0,0,0.05);\n",
              "}\n",
              ".tfx-object, .tfx-object * {\n",
              "  font-size: 11pt;\n",
              "}\n",
              ".tfx-object > .title {\n",
              "  cursor: pointer;\n",
              "}\n",
              ".tfx-object .expansion-marker {\n",
              "  color: #999999;\n",
              "}\n",
              ".tfx-object.expanded > .title > .expansion-marker:before {\n",
              "  content: '▼';\n",
              "}\n",
              ".tfx-object.collapsed > .title > .expansion-marker:before {\n",
              "  content: '▶';\n",
              "}\n",
              ".tfx-object .class-name {\n",
              "  font-weight: bold;\n",
              "}\n",
              ".tfx-object .deemphasize {\n",
              "  opacity: 0.5;\n",
              "}\n",
              ".tfx-object.collapsed > table.attr-table {\n",
              "  display: none;\n",
              "}\n",
              ".tfx-object.expanded > table.attr-table {\n",
              "  display: block;\n",
              "}\n",
              ".tfx-object table.attr-table {\n",
              "  border: 2px solid white;\n",
              "  margin-top: 5px;\n",
              "}\n",
              ".tfx-object table.attr-table td.attr-name {\n",
              "  vertical-align: top;\n",
              "  font-weight: bold;\n",
              "}\n",
              ".tfx-object table.attr-table td.attrvalue {\n",
              "  text-align: left;\n",
              "}\n",
              "</style>\n",
              "<script>\n",
              "function toggleTfxObject(element) {\n",
              "  var objElement = element.parentElement;\n",
              "  if (objElement.classList.contains('collapsed')) {\n",
              "    objElement.classList.remove('collapsed');\n",
              "    objElement.classList.add('expanded');\n",
              "  } else {\n",
              "    objElement.classList.add('collapsed');\n",
              "    objElement.classList.remove('expanded');\n",
              "  }\n",
              "}\n",
              "</script>\n",
              "<div class=\"tfx-object collapsed\"><div class = \"title\" onclick=\"toggleTfxObject(this)\"><span class=\"expansion-marker\"></span><span class=\"class-name\">Artifact</span> of type <span class=\"class-name\">'ModelRun'</span> (uri: /content/tfx/Trainer/model_run/10)<span class=\"deemphasize\"> at 0x7f1c4d547a50</span></div><table class=\"attr-table\"><tr><td class=\"attr-name\">.type</td><td class = \"attrvalue\">&lt;class &#x27;tfx.types.standard_artifacts.ModelRun&#x27;&gt;</td></tr><tr><td class=\"attr-name\">.uri</td><td class = \"attrvalue\">/content/tfx/Trainer/model_run/10</td></tr></table></div></td></tr></table></td></tr></table></div></td></tr></table></td></tr><tr><td class=\"attr-name\">.exec_properties</td><td class = \"attrvalue\"><table class=\"attr-table\"><tr><td class=\"attr-name\">['train_args']</td><td class = \"attrvalue\">{}</td></tr><tr><td class=\"attr-name\">['eval_args']</td><td class = \"attrvalue\">{}</td></tr><tr><td class=\"attr-name\">['module_file']</td><td class = \"attrvalue\">/content/model_trainer.py</td></tr><tr><td class=\"attr-name\">['run_fn']</td><td class = \"attrvalue\">None</td></tr><tr><td class=\"attr-name\">['trainer_fn']</td><td class = \"attrvalue\">None</td></tr><tr><td class=\"attr-name\">['custom_config']</td><td class = \"attrvalue\">{&quot;epochs&quot;: 1}</td></tr></table></td></tr></table></div></td></tr><tr><td class=\"attr-name\">.component.inputs</td><td class = \"attrvalue\"><table class=\"attr-table\"><tr><td class=\"attr-name\">['examples']</td><td class = \"attrvalue\"><style>\n",
              ".tfx-object.expanded {\n",
              "  padding: 4px 8px 4px 8px;\n",
              "  background: white;\n",
              "  border: 1px solid #bbbbbb;\n",
              "  box-shadow: 4px 4px 2px rgba(0,0,0,0.05);\n",
              "}\n",
              ".tfx-object, .tfx-object * {\n",
              "  font-size: 11pt;\n",
              "}\n",
              ".tfx-object > .title {\n",
              "  cursor: pointer;\n",
              "}\n",
              ".tfx-object .expansion-marker {\n",
              "  color: #999999;\n",
              "}\n",
              ".tfx-object.expanded > .title > .expansion-marker:before {\n",
              "  content: '▼';\n",
              "}\n",
              ".tfx-object.collapsed > .title > .expansion-marker:before {\n",
              "  content: '▶';\n",
              "}\n",
              ".tfx-object .class-name {\n",
              "  font-weight: bold;\n",
              "}\n",
              ".tfx-object .deemphasize {\n",
              "  opacity: 0.5;\n",
              "}\n",
              ".tfx-object.collapsed > table.attr-table {\n",
              "  display: none;\n",
              "}\n",
              ".tfx-object.expanded > table.attr-table {\n",
              "  display: block;\n",
              "}\n",
              ".tfx-object table.attr-table {\n",
              "  border: 2px solid white;\n",
              "  margin-top: 5px;\n",
              "}\n",
              ".tfx-object table.attr-table td.attr-name {\n",
              "  vertical-align: top;\n",
              "  font-weight: bold;\n",
              "}\n",
              ".tfx-object table.attr-table td.attrvalue {\n",
              "  text-align: left;\n",
              "}\n",
              "</style>\n",
              "<script>\n",
              "function toggleTfxObject(element) {\n",
              "  var objElement = element.parentElement;\n",
              "  if (objElement.classList.contains('collapsed')) {\n",
              "    objElement.classList.remove('collapsed');\n",
              "    objElement.classList.add('expanded');\n",
              "  } else {\n",
              "    objElement.classList.add('collapsed');\n",
              "    objElement.classList.remove('expanded');\n",
              "  }\n",
              "}\n",
              "</script>\n",
              "<div class=\"tfx-object collapsed\"><div class = \"title\" onclick=\"toggleTfxObject(this)\"><span class=\"expansion-marker\"></span><span class=\"class-name\">Channel</span> of type <span class=\"class-name\">'Examples'</span> (1 artifact)<span class=\"deemphasize\"> at 0x7f1c5af262d0</span></div><table class=\"attr-table\"><tr><td class=\"attr-name\">.type_name</td><td class = \"attrvalue\">Examples</td></tr><tr><td class=\"attr-name\">._artifacts</td><td class = \"attrvalue\"><table class=\"attr-table\"><tr><td class=\"attr-name\">[0]</td><td class = \"attrvalue\"><style>\n",
              ".tfx-object.expanded {\n",
              "  padding: 4px 8px 4px 8px;\n",
              "  background: white;\n",
              "  border: 1px solid #bbbbbb;\n",
              "  box-shadow: 4px 4px 2px rgba(0,0,0,0.05);\n",
              "}\n",
              ".tfx-object, .tfx-object * {\n",
              "  font-size: 11pt;\n",
              "}\n",
              ".tfx-object > .title {\n",
              "  cursor: pointer;\n",
              "}\n",
              ".tfx-object .expansion-marker {\n",
              "  color: #999999;\n",
              "}\n",
              ".tfx-object.expanded > .title > .expansion-marker:before {\n",
              "  content: '▼';\n",
              "}\n",
              ".tfx-object.collapsed > .title > .expansion-marker:before {\n",
              "  content: '▶';\n",
              "}\n",
              ".tfx-object .class-name {\n",
              "  font-weight: bold;\n",
              "}\n",
              ".tfx-object .deemphasize {\n",
              "  opacity: 0.5;\n",
              "}\n",
              ".tfx-object.collapsed > table.attr-table {\n",
              "  display: none;\n",
              "}\n",
              ".tfx-object.expanded > table.attr-table {\n",
              "  display: block;\n",
              "}\n",
              ".tfx-object table.attr-table {\n",
              "  border: 2px solid white;\n",
              "  margin-top: 5px;\n",
              "}\n",
              ".tfx-object table.attr-table td.attr-name {\n",
              "  vertical-align: top;\n",
              "  font-weight: bold;\n",
              "}\n",
              ".tfx-object table.attr-table td.attrvalue {\n",
              "  text-align: left;\n",
              "}\n",
              "</style>\n",
              "<script>\n",
              "function toggleTfxObject(element) {\n",
              "  var objElement = element.parentElement;\n",
              "  if (objElement.classList.contains('collapsed')) {\n",
              "    objElement.classList.remove('collapsed');\n",
              "    objElement.classList.add('expanded');\n",
              "  } else {\n",
              "    objElement.classList.add('collapsed');\n",
              "    objElement.classList.remove('expanded');\n",
              "  }\n",
              "}\n",
              "</script>\n",
              "<div class=\"tfx-object collapsed\"><div class = \"title\" onclick=\"toggleTfxObject(this)\"><span class=\"expansion-marker\"></span><span class=\"class-name\">Artifact</span> of type <span class=\"class-name\">'Examples'</span> (uri: /content/tfx/CsvExampleGen/examples/1)<span class=\"deemphasize\"> at 0x7f1c5af51950</span></div><table class=\"attr-table\"><tr><td class=\"attr-name\">.type</td><td class = \"attrvalue\">&lt;class &#x27;tfx.types.standard_artifacts.Examples&#x27;&gt;</td></tr><tr><td class=\"attr-name\">.uri</td><td class = \"attrvalue\">/content/tfx/CsvExampleGen/examples/1</td></tr><tr><td class=\"attr-name\">.span</td><td class = \"attrvalue\">0</td></tr><tr><td class=\"attr-name\">.split_names</td><td class = \"attrvalue\">[&quot;train&quot;, &quot;eval&quot;]</td></tr><tr><td class=\"attr-name\">.version</td><td class = \"attrvalue\">0</td></tr></table></div></td></tr></table></td></tr></table></div></td></tr></table></td></tr><tr><td class=\"attr-name\">.component.outputs</td><td class = \"attrvalue\"><table class=\"attr-table\"><tr><td class=\"attr-name\">['model']</td><td class = \"attrvalue\"><style>\n",
              ".tfx-object.expanded {\n",
              "  padding: 4px 8px 4px 8px;\n",
              "  background: white;\n",
              "  border: 1px solid #bbbbbb;\n",
              "  box-shadow: 4px 4px 2px rgba(0,0,0,0.05);\n",
              "}\n",
              ".tfx-object, .tfx-object * {\n",
              "  font-size: 11pt;\n",
              "}\n",
              ".tfx-object > .title {\n",
              "  cursor: pointer;\n",
              "}\n",
              ".tfx-object .expansion-marker {\n",
              "  color: #999999;\n",
              "}\n",
              ".tfx-object.expanded > .title > .expansion-marker:before {\n",
              "  content: '▼';\n",
              "}\n",
              ".tfx-object.collapsed > .title > .expansion-marker:before {\n",
              "  content: '▶';\n",
              "}\n",
              ".tfx-object .class-name {\n",
              "  font-weight: bold;\n",
              "}\n",
              ".tfx-object .deemphasize {\n",
              "  opacity: 0.5;\n",
              "}\n",
              ".tfx-object.collapsed > table.attr-table {\n",
              "  display: none;\n",
              "}\n",
              ".tfx-object.expanded > table.attr-table {\n",
              "  display: block;\n",
              "}\n",
              ".tfx-object table.attr-table {\n",
              "  border: 2px solid white;\n",
              "  margin-top: 5px;\n",
              "}\n",
              ".tfx-object table.attr-table td.attr-name {\n",
              "  vertical-align: top;\n",
              "  font-weight: bold;\n",
              "}\n",
              ".tfx-object table.attr-table td.attrvalue {\n",
              "  text-align: left;\n",
              "}\n",
              "</style>\n",
              "<script>\n",
              "function toggleTfxObject(element) {\n",
              "  var objElement = element.parentElement;\n",
              "  if (objElement.classList.contains('collapsed')) {\n",
              "    objElement.classList.remove('collapsed');\n",
              "    objElement.classList.add('expanded');\n",
              "  } else {\n",
              "    objElement.classList.add('collapsed');\n",
              "    objElement.classList.remove('expanded');\n",
              "  }\n",
              "}\n",
              "</script>\n",
              "<div class=\"tfx-object collapsed\"><div class = \"title\" onclick=\"toggleTfxObject(this)\"><span class=\"expansion-marker\"></span><span class=\"class-name\">Channel</span> of type <span class=\"class-name\">'Model'</span> (1 artifact)<span class=\"deemphasize\"> at 0x7f1c4d5475d0</span></div><table class=\"attr-table\"><tr><td class=\"attr-name\">.type_name</td><td class = \"attrvalue\">Model</td></tr><tr><td class=\"attr-name\">._artifacts</td><td class = \"attrvalue\"><table class=\"attr-table\"><tr><td class=\"attr-name\">[0]</td><td class = \"attrvalue\"><style>\n",
              ".tfx-object.expanded {\n",
              "  padding: 4px 8px 4px 8px;\n",
              "  background: white;\n",
              "  border: 1px solid #bbbbbb;\n",
              "  box-shadow: 4px 4px 2px rgba(0,0,0,0.05);\n",
              "}\n",
              ".tfx-object, .tfx-object * {\n",
              "  font-size: 11pt;\n",
              "}\n",
              ".tfx-object > .title {\n",
              "  cursor: pointer;\n",
              "}\n",
              ".tfx-object .expansion-marker {\n",
              "  color: #999999;\n",
              "}\n",
              ".tfx-object.expanded > .title > .expansion-marker:before {\n",
              "  content: '▼';\n",
              "}\n",
              ".tfx-object.collapsed > .title > .expansion-marker:before {\n",
              "  content: '▶';\n",
              "}\n",
              ".tfx-object .class-name {\n",
              "  font-weight: bold;\n",
              "}\n",
              ".tfx-object .deemphasize {\n",
              "  opacity: 0.5;\n",
              "}\n",
              ".tfx-object.collapsed > table.attr-table {\n",
              "  display: none;\n",
              "}\n",
              ".tfx-object.expanded > table.attr-table {\n",
              "  display: block;\n",
              "}\n",
              ".tfx-object table.attr-table {\n",
              "  border: 2px solid white;\n",
              "  margin-top: 5px;\n",
              "}\n",
              ".tfx-object table.attr-table td.attr-name {\n",
              "  vertical-align: top;\n",
              "  font-weight: bold;\n",
              "}\n",
              ".tfx-object table.attr-table td.attrvalue {\n",
              "  text-align: left;\n",
              "}\n",
              "</style>\n",
              "<script>\n",
              "function toggleTfxObject(element) {\n",
              "  var objElement = element.parentElement;\n",
              "  if (objElement.classList.contains('collapsed')) {\n",
              "    objElement.classList.remove('collapsed');\n",
              "    objElement.classList.add('expanded');\n",
              "  } else {\n",
              "    objElement.classList.add('collapsed');\n",
              "    objElement.classList.remove('expanded');\n",
              "  }\n",
              "}\n",
              "</script>\n",
              "<div class=\"tfx-object collapsed\"><div class = \"title\" onclick=\"toggleTfxObject(this)\"><span class=\"expansion-marker\"></span><span class=\"class-name\">Artifact</span> of type <span class=\"class-name\">'Model'</span> (uri: /content/tfx/Trainer/model/10)<span class=\"deemphasize\"> at 0x7f1c4e717490</span></div><table class=\"attr-table\"><tr><td class=\"attr-name\">.type</td><td class = \"attrvalue\">&lt;class &#x27;tfx.types.standard_artifacts.Model&#x27;&gt;</td></tr><tr><td class=\"attr-name\">.uri</td><td class = \"attrvalue\">/content/tfx/Trainer/model/10</td></tr></table></div></td></tr></table></td></tr></table></div></td></tr><tr><td class=\"attr-name\">['model_run']</td><td class = \"attrvalue\"><style>\n",
              ".tfx-object.expanded {\n",
              "  padding: 4px 8px 4px 8px;\n",
              "  background: white;\n",
              "  border: 1px solid #bbbbbb;\n",
              "  box-shadow: 4px 4px 2px rgba(0,0,0,0.05);\n",
              "}\n",
              ".tfx-object, .tfx-object * {\n",
              "  font-size: 11pt;\n",
              "}\n",
              ".tfx-object > .title {\n",
              "  cursor: pointer;\n",
              "}\n",
              ".tfx-object .expansion-marker {\n",
              "  color: #999999;\n",
              "}\n",
              ".tfx-object.expanded > .title > .expansion-marker:before {\n",
              "  content: '▼';\n",
              "}\n",
              ".tfx-object.collapsed > .title > .expansion-marker:before {\n",
              "  content: '▶';\n",
              "}\n",
              ".tfx-object .class-name {\n",
              "  font-weight: bold;\n",
              "}\n",
              ".tfx-object .deemphasize {\n",
              "  opacity: 0.5;\n",
              "}\n",
              ".tfx-object.collapsed > table.attr-table {\n",
              "  display: none;\n",
              "}\n",
              ".tfx-object.expanded > table.attr-table {\n",
              "  display: block;\n",
              "}\n",
              ".tfx-object table.attr-table {\n",
              "  border: 2px solid white;\n",
              "  margin-top: 5px;\n",
              "}\n",
              ".tfx-object table.attr-table td.attr-name {\n",
              "  vertical-align: top;\n",
              "  font-weight: bold;\n",
              "}\n",
              ".tfx-object table.attr-table td.attrvalue {\n",
              "  text-align: left;\n",
              "}\n",
              "</style>\n",
              "<script>\n",
              "function toggleTfxObject(element) {\n",
              "  var objElement = element.parentElement;\n",
              "  if (objElement.classList.contains('collapsed')) {\n",
              "    objElement.classList.remove('collapsed');\n",
              "    objElement.classList.add('expanded');\n",
              "  } else {\n",
              "    objElement.classList.add('collapsed');\n",
              "    objElement.classList.remove('expanded');\n",
              "  }\n",
              "}\n",
              "</script>\n",
              "<div class=\"tfx-object collapsed\"><div class = \"title\" onclick=\"toggleTfxObject(this)\"><span class=\"expansion-marker\"></span><span class=\"class-name\">Channel</span> of type <span class=\"class-name\">'ModelRun'</span> (1 artifact)<span class=\"deemphasize\"> at 0x7f1c4d5474d0</span></div><table class=\"attr-table\"><tr><td class=\"attr-name\">.type_name</td><td class = \"attrvalue\">ModelRun</td></tr><tr><td class=\"attr-name\">._artifacts</td><td class = \"attrvalue\"><table class=\"attr-table\"><tr><td class=\"attr-name\">[0]</td><td class = \"attrvalue\"><style>\n",
              ".tfx-object.expanded {\n",
              "  padding: 4px 8px 4px 8px;\n",
              "  background: white;\n",
              "  border: 1px solid #bbbbbb;\n",
              "  box-shadow: 4px 4px 2px rgba(0,0,0,0.05);\n",
              "}\n",
              ".tfx-object, .tfx-object * {\n",
              "  font-size: 11pt;\n",
              "}\n",
              ".tfx-object > .title {\n",
              "  cursor: pointer;\n",
              "}\n",
              ".tfx-object .expansion-marker {\n",
              "  color: #999999;\n",
              "}\n",
              ".tfx-object.expanded > .title > .expansion-marker:before {\n",
              "  content: '▼';\n",
              "}\n",
              ".tfx-object.collapsed > .title > .expansion-marker:before {\n",
              "  content: '▶';\n",
              "}\n",
              ".tfx-object .class-name {\n",
              "  font-weight: bold;\n",
              "}\n",
              ".tfx-object .deemphasize {\n",
              "  opacity: 0.5;\n",
              "}\n",
              ".tfx-object.collapsed > table.attr-table {\n",
              "  display: none;\n",
              "}\n",
              ".tfx-object.expanded > table.attr-table {\n",
              "  display: block;\n",
              "}\n",
              ".tfx-object table.attr-table {\n",
              "  border: 2px solid white;\n",
              "  margin-top: 5px;\n",
              "}\n",
              ".tfx-object table.attr-table td.attr-name {\n",
              "  vertical-align: top;\n",
              "  font-weight: bold;\n",
              "}\n",
              ".tfx-object table.attr-table td.attrvalue {\n",
              "  text-align: left;\n",
              "}\n",
              "</style>\n",
              "<script>\n",
              "function toggleTfxObject(element) {\n",
              "  var objElement = element.parentElement;\n",
              "  if (objElement.classList.contains('collapsed')) {\n",
              "    objElement.classList.remove('collapsed');\n",
              "    objElement.classList.add('expanded');\n",
              "  } else {\n",
              "    objElement.classList.add('collapsed');\n",
              "    objElement.classList.remove('expanded');\n",
              "  }\n",
              "}\n",
              "</script>\n",
              "<div class=\"tfx-object collapsed\"><div class = \"title\" onclick=\"toggleTfxObject(this)\"><span class=\"expansion-marker\"></span><span class=\"class-name\">Artifact</span> of type <span class=\"class-name\">'ModelRun'</span> (uri: /content/tfx/Trainer/model_run/10)<span class=\"deemphasize\"> at 0x7f1c4d547a50</span></div><table class=\"attr-table\"><tr><td class=\"attr-name\">.type</td><td class = \"attrvalue\">&lt;class &#x27;tfx.types.standard_artifacts.ModelRun&#x27;&gt;</td></tr><tr><td class=\"attr-name\">.uri</td><td class = \"attrvalue\">/content/tfx/Trainer/model_run/10</td></tr></table></div></td></tr></table></td></tr></table></div></td></tr></table></td></tr></table></div>"
            ],
            "text/plain": [
              "ExecutionResult(\n",
              "    component_id: Trainer\n",
              "    execution_id: 10\n",
              "    outputs:\n",
              "        model: Channel(\n",
              "            type_name: Model\n",
              "            artifacts: [Artifact(artifact: id: 15\n",
              "        type_id: 13\n",
              "        uri: \"/content/tfx/Trainer/model/10\"\n",
              "        custom_properties {\n",
              "          key: \"name\"\n",
              "          value {\n",
              "            string_value: \"model\"\n",
              "          }\n",
              "        }\n",
              "        custom_properties {\n",
              "          key: \"producer_component\"\n",
              "          value {\n",
              "            string_value: \"Trainer\"\n",
              "          }\n",
              "        }\n",
              "        custom_properties {\n",
              "          key: \"state\"\n",
              "          value {\n",
              "            string_value: \"published\"\n",
              "          }\n",
              "        }\n",
              "        state: LIVE\n",
              "        , artifact_type: id: 13\n",
              "        name: \"Model\"\n",
              "        )]\n",
              "            additional_properties: {}\n",
              "            additional_custom_properties: {}\n",
              "        )\n",
              "        model_run: Channel(\n",
              "            type_name: ModelRun\n",
              "            artifacts: [Artifact(artifact: id: 16\n",
              "        type_id: 14\n",
              "        uri: \"/content/tfx/Trainer/model_run/10\"\n",
              "        custom_properties {\n",
              "          key: \"name\"\n",
              "          value {\n",
              "            string_value: \"model_run\"\n",
              "          }\n",
              "        }\n",
              "        custom_properties {\n",
              "          key: \"producer_component\"\n",
              "          value {\n",
              "            string_value: \"Trainer\"\n",
              "          }\n",
              "        }\n",
              "        custom_properties {\n",
              "          key: \"state\"\n",
              "          value {\n",
              "            string_value: \"published\"\n",
              "          }\n",
              "        }\n",
              "        state: LIVE\n",
              "        , artifact_type: id: 14\n",
              "        name: \"ModelRun\"\n",
              "        )]\n",
              "            additional_properties: {}\n",
              "            additional_custom_properties: {}\n",
              "        ))"
            ]
          },
          "metadata": {
            "tags": []
          },
          "execution_count": 53
        }
      ]
    },
    {
      "cell_type": "markdown",
      "metadata": {
        "id": "t1LlNW8eaKgU"
      },
      "source": [
        "### Analyze Training with TensorBoard\n",
        "\n",
        "The trainer artifact points to a directory that contains the model subdirectories. "
      ]
    },
    {
      "cell_type": "code",
      "metadata": {
        "colab": {
          "base_uri": "https://localhost:8080/"
        },
        "id": "14j6DYYMbNEO",
        "outputId": "9e452c9d-213d-4fef-f2b5-c4ee922016a8"
      },
      "source": [
        "\n",
        "model_artifact_dir = trainer.outputs['model'].get()[0].uri\n",
        "pp.pprint(os.listdir(model_artifact_dir))\n",
        "model_dir = os.path.join(model_artifact_dir, 'serving_model_dir')\n",
        "pp.pprint(os.listdir(model_dir))"
      ],
      "execution_count": 57,
      "outputs": [
        {
          "output_type": "stream",
          "text": [
            "['serving_model_dir']\n",
            "['variables', 'saved_model.pb', 'assets']\n"
          ],
          "name": "stdout"
        }
      ]
    },
    {
      "cell_type": "markdown",
      "metadata": {
        "id": "FhqxNv8abfqY"
      },
      "source": [
        "### Pusher\n",
        "\n",
        "The `Pusher` component checks if a model has passed validation and if yes, exports the model to `_serving_model_dir`. "
      ]
    },
    {
      "cell_type": "code",
      "metadata": {
        "colab": {
          "base_uri": "https://localhost:8080/",
          "height": 615
        },
        "id": "b3FxepB_b-iK",
        "outputId": "6d65499d-74f1-4d49-df21-ef4aa41adc43"
      },
      "source": [
        "pusher = Pusher(\n",
        "    model=trainer.outputs['model'],\n",
        "    push_destination=pusher_pb2.PushDestination(\n",
        "        filesystem=pusher_pb2.PushDestination.Filesystem(\n",
        "            base_directory=_serving_model_dir)))\n",
        "\n",
        "context.run(pusher)"
      ],
      "execution_count": 60,
      "outputs": [
        {
          "output_type": "stream",
          "text": [
            "WARNING:absl:Pusher is going to push the model without validation. Consider using Evaluator or InfraValidator in your pipeline.\n"
          ],
          "name": "stderr"
        },
        {
          "output_type": "execute_result",
          "data": {
            "text/html": [
              "<style>\n",
              ".tfx-object.expanded {\n",
              "  padding: 4px 8px 4px 8px;\n",
              "  background: white;\n",
              "  border: 1px solid #bbbbbb;\n",
              "  box-shadow: 4px 4px 2px rgba(0,0,0,0.05);\n",
              "}\n",
              ".tfx-object, .tfx-object * {\n",
              "  font-size: 11pt;\n",
              "}\n",
              ".tfx-object > .title {\n",
              "  cursor: pointer;\n",
              "}\n",
              ".tfx-object .expansion-marker {\n",
              "  color: #999999;\n",
              "}\n",
              ".tfx-object.expanded > .title > .expansion-marker:before {\n",
              "  content: '▼';\n",
              "}\n",
              ".tfx-object.collapsed > .title > .expansion-marker:before {\n",
              "  content: '▶';\n",
              "}\n",
              ".tfx-object .class-name {\n",
              "  font-weight: bold;\n",
              "}\n",
              ".tfx-object .deemphasize {\n",
              "  opacity: 0.5;\n",
              "}\n",
              ".tfx-object.collapsed > table.attr-table {\n",
              "  display: none;\n",
              "}\n",
              ".tfx-object.expanded > table.attr-table {\n",
              "  display: block;\n",
              "}\n",
              ".tfx-object table.attr-table {\n",
              "  border: 2px solid white;\n",
              "  margin-top: 5px;\n",
              "}\n",
              ".tfx-object table.attr-table td.attr-name {\n",
              "  vertical-align: top;\n",
              "  font-weight: bold;\n",
              "}\n",
              ".tfx-object table.attr-table td.attrvalue {\n",
              "  text-align: left;\n",
              "}\n",
              "</style>\n",
              "<script>\n",
              "function toggleTfxObject(element) {\n",
              "  var objElement = element.parentElement;\n",
              "  if (objElement.classList.contains('collapsed')) {\n",
              "    objElement.classList.remove('collapsed');\n",
              "    objElement.classList.add('expanded');\n",
              "  } else {\n",
              "    objElement.classList.add('collapsed');\n",
              "    objElement.classList.remove('expanded');\n",
              "  }\n",
              "}\n",
              "</script>\n",
              "<div class=\"tfx-object expanded\"><div class = \"title\" onclick=\"toggleTfxObject(this)\"><span class=\"expansion-marker\"></span><span class=\"class-name\">ExecutionResult</span><span class=\"deemphasize\"> at 0x7f1c47f59910</span></div><table class=\"attr-table\"><tr><td class=\"attr-name\">.execution_id</td><td class = \"attrvalue\">11</td></tr><tr><td class=\"attr-name\">.component</td><td class = \"attrvalue\"><style>\n",
              ".tfx-object.expanded {\n",
              "  padding: 4px 8px 4px 8px;\n",
              "  background: white;\n",
              "  border: 1px solid #bbbbbb;\n",
              "  box-shadow: 4px 4px 2px rgba(0,0,0,0.05);\n",
              "}\n",
              ".tfx-object, .tfx-object * {\n",
              "  font-size: 11pt;\n",
              "}\n",
              ".tfx-object > .title {\n",
              "  cursor: pointer;\n",
              "}\n",
              ".tfx-object .expansion-marker {\n",
              "  color: #999999;\n",
              "}\n",
              ".tfx-object.expanded > .title > .expansion-marker:before {\n",
              "  content: '▼';\n",
              "}\n",
              ".tfx-object.collapsed > .title > .expansion-marker:before {\n",
              "  content: '▶';\n",
              "}\n",
              ".tfx-object .class-name {\n",
              "  font-weight: bold;\n",
              "}\n",
              ".tfx-object .deemphasize {\n",
              "  opacity: 0.5;\n",
              "}\n",
              ".tfx-object.collapsed > table.attr-table {\n",
              "  display: none;\n",
              "}\n",
              ".tfx-object.expanded > table.attr-table {\n",
              "  display: block;\n",
              "}\n",
              ".tfx-object table.attr-table {\n",
              "  border: 2px solid white;\n",
              "  margin-top: 5px;\n",
              "}\n",
              ".tfx-object table.attr-table td.attr-name {\n",
              "  vertical-align: top;\n",
              "  font-weight: bold;\n",
              "}\n",
              ".tfx-object table.attr-table td.attrvalue {\n",
              "  text-align: left;\n",
              "}\n",
              "</style>\n",
              "<script>\n",
              "function toggleTfxObject(element) {\n",
              "  var objElement = element.parentElement;\n",
              "  if (objElement.classList.contains('collapsed')) {\n",
              "    objElement.classList.remove('collapsed');\n",
              "    objElement.classList.add('expanded');\n",
              "  } else {\n",
              "    objElement.classList.add('collapsed');\n",
              "    objElement.classList.remove('expanded');\n",
              "  }\n",
              "}\n",
              "</script>\n",
              "<div class=\"tfx-object collapsed\"><div class = \"title\" onclick=\"toggleTfxObject(this)\"><span class=\"expansion-marker\"></span><span class=\"class-name\">Pusher</span><span class=\"deemphasize\"> at 0x7f1c47ee3d10</span></div><table class=\"attr-table\"><tr><td class=\"attr-name\">.inputs</td><td class = \"attrvalue\"><table class=\"attr-table\"><tr><td class=\"attr-name\">['model']</td><td class = \"attrvalue\"><style>\n",
              ".tfx-object.expanded {\n",
              "  padding: 4px 8px 4px 8px;\n",
              "  background: white;\n",
              "  border: 1px solid #bbbbbb;\n",
              "  box-shadow: 4px 4px 2px rgba(0,0,0,0.05);\n",
              "}\n",
              ".tfx-object, .tfx-object * {\n",
              "  font-size: 11pt;\n",
              "}\n",
              ".tfx-object > .title {\n",
              "  cursor: pointer;\n",
              "}\n",
              ".tfx-object .expansion-marker {\n",
              "  color: #999999;\n",
              "}\n",
              ".tfx-object.expanded > .title > .expansion-marker:before {\n",
              "  content: '▼';\n",
              "}\n",
              ".tfx-object.collapsed > .title > .expansion-marker:before {\n",
              "  content: '▶';\n",
              "}\n",
              ".tfx-object .class-name {\n",
              "  font-weight: bold;\n",
              "}\n",
              ".tfx-object .deemphasize {\n",
              "  opacity: 0.5;\n",
              "}\n",
              ".tfx-object.collapsed > table.attr-table {\n",
              "  display: none;\n",
              "}\n",
              ".tfx-object.expanded > table.attr-table {\n",
              "  display: block;\n",
              "}\n",
              ".tfx-object table.attr-table {\n",
              "  border: 2px solid white;\n",
              "  margin-top: 5px;\n",
              "}\n",
              ".tfx-object table.attr-table td.attr-name {\n",
              "  vertical-align: top;\n",
              "  font-weight: bold;\n",
              "}\n",
              ".tfx-object table.attr-table td.attrvalue {\n",
              "  text-align: left;\n",
              "}\n",
              "</style>\n",
              "<script>\n",
              "function toggleTfxObject(element) {\n",
              "  var objElement = element.parentElement;\n",
              "  if (objElement.classList.contains('collapsed')) {\n",
              "    objElement.classList.remove('collapsed');\n",
              "    objElement.classList.add('expanded');\n",
              "  } else {\n",
              "    objElement.classList.add('collapsed');\n",
              "    objElement.classList.remove('expanded');\n",
              "  }\n",
              "}\n",
              "</script>\n",
              "<div class=\"tfx-object collapsed\"><div class = \"title\" onclick=\"toggleTfxObject(this)\"><span class=\"expansion-marker\"></span><span class=\"class-name\">Channel</span> of type <span class=\"class-name\">'Model'</span> (1 artifact)<span class=\"deemphasize\"> at 0x7f1c4d5475d0</span></div><table class=\"attr-table\"><tr><td class=\"attr-name\">.type_name</td><td class = \"attrvalue\">Model</td></tr><tr><td class=\"attr-name\">._artifacts</td><td class = \"attrvalue\"><table class=\"attr-table\"><tr><td class=\"attr-name\">[0]</td><td class = \"attrvalue\"><style>\n",
              ".tfx-object.expanded {\n",
              "  padding: 4px 8px 4px 8px;\n",
              "  background: white;\n",
              "  border: 1px solid #bbbbbb;\n",
              "  box-shadow: 4px 4px 2px rgba(0,0,0,0.05);\n",
              "}\n",
              ".tfx-object, .tfx-object * {\n",
              "  font-size: 11pt;\n",
              "}\n",
              ".tfx-object > .title {\n",
              "  cursor: pointer;\n",
              "}\n",
              ".tfx-object .expansion-marker {\n",
              "  color: #999999;\n",
              "}\n",
              ".tfx-object.expanded > .title > .expansion-marker:before {\n",
              "  content: '▼';\n",
              "}\n",
              ".tfx-object.collapsed > .title > .expansion-marker:before {\n",
              "  content: '▶';\n",
              "}\n",
              ".tfx-object .class-name {\n",
              "  font-weight: bold;\n",
              "}\n",
              ".tfx-object .deemphasize {\n",
              "  opacity: 0.5;\n",
              "}\n",
              ".tfx-object.collapsed > table.attr-table {\n",
              "  display: none;\n",
              "}\n",
              ".tfx-object.expanded > table.attr-table {\n",
              "  display: block;\n",
              "}\n",
              ".tfx-object table.attr-table {\n",
              "  border: 2px solid white;\n",
              "  margin-top: 5px;\n",
              "}\n",
              ".tfx-object table.attr-table td.attr-name {\n",
              "  vertical-align: top;\n",
              "  font-weight: bold;\n",
              "}\n",
              ".tfx-object table.attr-table td.attrvalue {\n",
              "  text-align: left;\n",
              "}\n",
              "</style>\n",
              "<script>\n",
              "function toggleTfxObject(element) {\n",
              "  var objElement = element.parentElement;\n",
              "  if (objElement.classList.contains('collapsed')) {\n",
              "    objElement.classList.remove('collapsed');\n",
              "    objElement.classList.add('expanded');\n",
              "  } else {\n",
              "    objElement.classList.add('collapsed');\n",
              "    objElement.classList.remove('expanded');\n",
              "  }\n",
              "}\n",
              "</script>\n",
              "<div class=\"tfx-object collapsed\"><div class = \"title\" onclick=\"toggleTfxObject(this)\"><span class=\"expansion-marker\"></span><span class=\"class-name\">Artifact</span> of type <span class=\"class-name\">'Model'</span> (uri: /content/tfx/Trainer/model/10)<span class=\"deemphasize\"> at 0x7f1c4e717490</span></div><table class=\"attr-table\"><tr><td class=\"attr-name\">.type</td><td class = \"attrvalue\">&lt;class &#x27;tfx.types.standard_artifacts.Model&#x27;&gt;</td></tr><tr><td class=\"attr-name\">.uri</td><td class = \"attrvalue\">/content/tfx/Trainer/model/10</td></tr></table></div></td></tr></table></td></tr></table></div></td></tr></table></td></tr><tr><td class=\"attr-name\">.outputs</td><td class = \"attrvalue\"><table class=\"attr-table\"><tr><td class=\"attr-name\">['pushed_model']</td><td class = \"attrvalue\"><style>\n",
              ".tfx-object.expanded {\n",
              "  padding: 4px 8px 4px 8px;\n",
              "  background: white;\n",
              "  border: 1px solid #bbbbbb;\n",
              "  box-shadow: 4px 4px 2px rgba(0,0,0,0.05);\n",
              "}\n",
              ".tfx-object, .tfx-object * {\n",
              "  font-size: 11pt;\n",
              "}\n",
              ".tfx-object > .title {\n",
              "  cursor: pointer;\n",
              "}\n",
              ".tfx-object .expansion-marker {\n",
              "  color: #999999;\n",
              "}\n",
              ".tfx-object.expanded > .title > .expansion-marker:before {\n",
              "  content: '▼';\n",
              "}\n",
              ".tfx-object.collapsed > .title > .expansion-marker:before {\n",
              "  content: '▶';\n",
              "}\n",
              ".tfx-object .class-name {\n",
              "  font-weight: bold;\n",
              "}\n",
              ".tfx-object .deemphasize {\n",
              "  opacity: 0.5;\n",
              "}\n",
              ".tfx-object.collapsed > table.attr-table {\n",
              "  display: none;\n",
              "}\n",
              ".tfx-object.expanded > table.attr-table {\n",
              "  display: block;\n",
              "}\n",
              ".tfx-object table.attr-table {\n",
              "  border: 2px solid white;\n",
              "  margin-top: 5px;\n",
              "}\n",
              ".tfx-object table.attr-table td.attr-name {\n",
              "  vertical-align: top;\n",
              "  font-weight: bold;\n",
              "}\n",
              ".tfx-object table.attr-table td.attrvalue {\n",
              "  text-align: left;\n",
              "}\n",
              "</style>\n",
              "<script>\n",
              "function toggleTfxObject(element) {\n",
              "  var objElement = element.parentElement;\n",
              "  if (objElement.classList.contains('collapsed')) {\n",
              "    objElement.classList.remove('collapsed');\n",
              "    objElement.classList.add('expanded');\n",
              "  } else {\n",
              "    objElement.classList.add('collapsed');\n",
              "    objElement.classList.remove('expanded');\n",
              "  }\n",
              "}\n",
              "</script>\n",
              "<div class=\"tfx-object collapsed\"><div class = \"title\" onclick=\"toggleTfxObject(this)\"><span class=\"expansion-marker\"></span><span class=\"class-name\">Channel</span> of type <span class=\"class-name\">'PushedModel'</span> (1 artifact)<span class=\"deemphasize\"> at 0x7f1c47ee3e10</span></div><table class=\"attr-table\"><tr><td class=\"attr-name\">.type_name</td><td class = \"attrvalue\">PushedModel</td></tr><tr><td class=\"attr-name\">._artifacts</td><td class = \"attrvalue\"><table class=\"attr-table\"><tr><td class=\"attr-name\">[0]</td><td class = \"attrvalue\"><style>\n",
              ".tfx-object.expanded {\n",
              "  padding: 4px 8px 4px 8px;\n",
              "  background: white;\n",
              "  border: 1px solid #bbbbbb;\n",
              "  box-shadow: 4px 4px 2px rgba(0,0,0,0.05);\n",
              "}\n",
              ".tfx-object, .tfx-object * {\n",
              "  font-size: 11pt;\n",
              "}\n",
              ".tfx-object > .title {\n",
              "  cursor: pointer;\n",
              "}\n",
              ".tfx-object .expansion-marker {\n",
              "  color: #999999;\n",
              "}\n",
              ".tfx-object.expanded > .title > .expansion-marker:before {\n",
              "  content: '▼';\n",
              "}\n",
              ".tfx-object.collapsed > .title > .expansion-marker:before {\n",
              "  content: '▶';\n",
              "}\n",
              ".tfx-object .class-name {\n",
              "  font-weight: bold;\n",
              "}\n",
              ".tfx-object .deemphasize {\n",
              "  opacity: 0.5;\n",
              "}\n",
              ".tfx-object.collapsed > table.attr-table {\n",
              "  display: none;\n",
              "}\n",
              ".tfx-object.expanded > table.attr-table {\n",
              "  display: block;\n",
              "}\n",
              ".tfx-object table.attr-table {\n",
              "  border: 2px solid white;\n",
              "  margin-top: 5px;\n",
              "}\n",
              ".tfx-object table.attr-table td.attr-name {\n",
              "  vertical-align: top;\n",
              "  font-weight: bold;\n",
              "}\n",
              ".tfx-object table.attr-table td.attrvalue {\n",
              "  text-align: left;\n",
              "}\n",
              "</style>\n",
              "<script>\n",
              "function toggleTfxObject(element) {\n",
              "  var objElement = element.parentElement;\n",
              "  if (objElement.classList.contains('collapsed')) {\n",
              "    objElement.classList.remove('collapsed');\n",
              "    objElement.classList.add('expanded');\n",
              "  } else {\n",
              "    objElement.classList.add('collapsed');\n",
              "    objElement.classList.remove('expanded');\n",
              "  }\n",
              "}\n",
              "</script>\n",
              "<div class=\"tfx-object collapsed\"><div class = \"title\" onclick=\"toggleTfxObject(this)\"><span class=\"expansion-marker\"></span><span class=\"class-name\">Artifact</span> of type <span class=\"class-name\">'PushedModel'</span> (uri: /content/tfx/Pusher/pushed_model/11)<span class=\"deemphasize\"> at 0x7f1c47f59d50</span></div><table class=\"attr-table\"><tr><td class=\"attr-name\">.type</td><td class = \"attrvalue\">&lt;class &#x27;tfx.types.standard_artifacts.PushedModel&#x27;&gt;</td></tr><tr><td class=\"attr-name\">.uri</td><td class = \"attrvalue\">/content/tfx/Pusher/pushed_model/11</td></tr></table></div></td></tr></table></td></tr></table></div></td></tr></table></td></tr><tr><td class=\"attr-name\">.exec_properties</td><td class = \"attrvalue\"><table class=\"attr-table\"><tr><td class=\"attr-name\">['push_destination']</td><td class = \"attrvalue\">{\n",
              "  &quot;filesystem&quot;: {\n",
              "    &quot;base_directory&quot;: &quot;/content/tfx/serving_model&quot;\n",
              "  }\n",
              "}</td></tr><tr><td class=\"attr-name\">['custom_config']</td><td class = \"attrvalue\">null</td></tr></table></td></tr></table></div></td></tr><tr><td class=\"attr-name\">.component.inputs</td><td class = \"attrvalue\"><table class=\"attr-table\"><tr><td class=\"attr-name\">['model']</td><td class = \"attrvalue\"><style>\n",
              ".tfx-object.expanded {\n",
              "  padding: 4px 8px 4px 8px;\n",
              "  background: white;\n",
              "  border: 1px solid #bbbbbb;\n",
              "  box-shadow: 4px 4px 2px rgba(0,0,0,0.05);\n",
              "}\n",
              ".tfx-object, .tfx-object * {\n",
              "  font-size: 11pt;\n",
              "}\n",
              ".tfx-object > .title {\n",
              "  cursor: pointer;\n",
              "}\n",
              ".tfx-object .expansion-marker {\n",
              "  color: #999999;\n",
              "}\n",
              ".tfx-object.expanded > .title > .expansion-marker:before {\n",
              "  content: '▼';\n",
              "}\n",
              ".tfx-object.collapsed > .title > .expansion-marker:before {\n",
              "  content: '▶';\n",
              "}\n",
              ".tfx-object .class-name {\n",
              "  font-weight: bold;\n",
              "}\n",
              ".tfx-object .deemphasize {\n",
              "  opacity: 0.5;\n",
              "}\n",
              ".tfx-object.collapsed > table.attr-table {\n",
              "  display: none;\n",
              "}\n",
              ".tfx-object.expanded > table.attr-table {\n",
              "  display: block;\n",
              "}\n",
              ".tfx-object table.attr-table {\n",
              "  border: 2px solid white;\n",
              "  margin-top: 5px;\n",
              "}\n",
              ".tfx-object table.attr-table td.attr-name {\n",
              "  vertical-align: top;\n",
              "  font-weight: bold;\n",
              "}\n",
              ".tfx-object table.attr-table td.attrvalue {\n",
              "  text-align: left;\n",
              "}\n",
              "</style>\n",
              "<script>\n",
              "function toggleTfxObject(element) {\n",
              "  var objElement = element.parentElement;\n",
              "  if (objElement.classList.contains('collapsed')) {\n",
              "    objElement.classList.remove('collapsed');\n",
              "    objElement.classList.add('expanded');\n",
              "  } else {\n",
              "    objElement.classList.add('collapsed');\n",
              "    objElement.classList.remove('expanded');\n",
              "  }\n",
              "}\n",
              "</script>\n",
              "<div class=\"tfx-object collapsed\"><div class = \"title\" onclick=\"toggleTfxObject(this)\"><span class=\"expansion-marker\"></span><span class=\"class-name\">Channel</span> of type <span class=\"class-name\">'Model'</span> (1 artifact)<span class=\"deemphasize\"> at 0x7f1c4d5475d0</span></div><table class=\"attr-table\"><tr><td class=\"attr-name\">.type_name</td><td class = \"attrvalue\">Model</td></tr><tr><td class=\"attr-name\">._artifacts</td><td class = \"attrvalue\"><table class=\"attr-table\"><tr><td class=\"attr-name\">[0]</td><td class = \"attrvalue\"><style>\n",
              ".tfx-object.expanded {\n",
              "  padding: 4px 8px 4px 8px;\n",
              "  background: white;\n",
              "  border: 1px solid #bbbbbb;\n",
              "  box-shadow: 4px 4px 2px rgba(0,0,0,0.05);\n",
              "}\n",
              ".tfx-object, .tfx-object * {\n",
              "  font-size: 11pt;\n",
              "}\n",
              ".tfx-object > .title {\n",
              "  cursor: pointer;\n",
              "}\n",
              ".tfx-object .expansion-marker {\n",
              "  color: #999999;\n",
              "}\n",
              ".tfx-object.expanded > .title > .expansion-marker:before {\n",
              "  content: '▼';\n",
              "}\n",
              ".tfx-object.collapsed > .title > .expansion-marker:before {\n",
              "  content: '▶';\n",
              "}\n",
              ".tfx-object .class-name {\n",
              "  font-weight: bold;\n",
              "}\n",
              ".tfx-object .deemphasize {\n",
              "  opacity: 0.5;\n",
              "}\n",
              ".tfx-object.collapsed > table.attr-table {\n",
              "  display: none;\n",
              "}\n",
              ".tfx-object.expanded > table.attr-table {\n",
              "  display: block;\n",
              "}\n",
              ".tfx-object table.attr-table {\n",
              "  border: 2px solid white;\n",
              "  margin-top: 5px;\n",
              "}\n",
              ".tfx-object table.attr-table td.attr-name {\n",
              "  vertical-align: top;\n",
              "  font-weight: bold;\n",
              "}\n",
              ".tfx-object table.attr-table td.attrvalue {\n",
              "  text-align: left;\n",
              "}\n",
              "</style>\n",
              "<script>\n",
              "function toggleTfxObject(element) {\n",
              "  var objElement = element.parentElement;\n",
              "  if (objElement.classList.contains('collapsed')) {\n",
              "    objElement.classList.remove('collapsed');\n",
              "    objElement.classList.add('expanded');\n",
              "  } else {\n",
              "    objElement.classList.add('collapsed');\n",
              "    objElement.classList.remove('expanded');\n",
              "  }\n",
              "}\n",
              "</script>\n",
              "<div class=\"tfx-object collapsed\"><div class = \"title\" onclick=\"toggleTfxObject(this)\"><span class=\"expansion-marker\"></span><span class=\"class-name\">Artifact</span> of type <span class=\"class-name\">'Model'</span> (uri: /content/tfx/Trainer/model/10)<span class=\"deemphasize\"> at 0x7f1c4e717490</span></div><table class=\"attr-table\"><tr><td class=\"attr-name\">.type</td><td class = \"attrvalue\">&lt;class &#x27;tfx.types.standard_artifacts.Model&#x27;&gt;</td></tr><tr><td class=\"attr-name\">.uri</td><td class = \"attrvalue\">/content/tfx/Trainer/model/10</td></tr></table></div></td></tr></table></td></tr></table></div></td></tr></table></td></tr><tr><td class=\"attr-name\">.component.outputs</td><td class = \"attrvalue\"><table class=\"attr-table\"><tr><td class=\"attr-name\">['pushed_model']</td><td class = \"attrvalue\"><style>\n",
              ".tfx-object.expanded {\n",
              "  padding: 4px 8px 4px 8px;\n",
              "  background: white;\n",
              "  border: 1px solid #bbbbbb;\n",
              "  box-shadow: 4px 4px 2px rgba(0,0,0,0.05);\n",
              "}\n",
              ".tfx-object, .tfx-object * {\n",
              "  font-size: 11pt;\n",
              "}\n",
              ".tfx-object > .title {\n",
              "  cursor: pointer;\n",
              "}\n",
              ".tfx-object .expansion-marker {\n",
              "  color: #999999;\n",
              "}\n",
              ".tfx-object.expanded > .title > .expansion-marker:before {\n",
              "  content: '▼';\n",
              "}\n",
              ".tfx-object.collapsed > .title > .expansion-marker:before {\n",
              "  content: '▶';\n",
              "}\n",
              ".tfx-object .class-name {\n",
              "  font-weight: bold;\n",
              "}\n",
              ".tfx-object .deemphasize {\n",
              "  opacity: 0.5;\n",
              "}\n",
              ".tfx-object.collapsed > table.attr-table {\n",
              "  display: none;\n",
              "}\n",
              ".tfx-object.expanded > table.attr-table {\n",
              "  display: block;\n",
              "}\n",
              ".tfx-object table.attr-table {\n",
              "  border: 2px solid white;\n",
              "  margin-top: 5px;\n",
              "}\n",
              ".tfx-object table.attr-table td.attr-name {\n",
              "  vertical-align: top;\n",
              "  font-weight: bold;\n",
              "}\n",
              ".tfx-object table.attr-table td.attrvalue {\n",
              "  text-align: left;\n",
              "}\n",
              "</style>\n",
              "<script>\n",
              "function toggleTfxObject(element) {\n",
              "  var objElement = element.parentElement;\n",
              "  if (objElement.classList.contains('collapsed')) {\n",
              "    objElement.classList.remove('collapsed');\n",
              "    objElement.classList.add('expanded');\n",
              "  } else {\n",
              "    objElement.classList.add('collapsed');\n",
              "    objElement.classList.remove('expanded');\n",
              "  }\n",
              "}\n",
              "</script>\n",
              "<div class=\"tfx-object collapsed\"><div class = \"title\" onclick=\"toggleTfxObject(this)\"><span class=\"expansion-marker\"></span><span class=\"class-name\">Channel</span> of type <span class=\"class-name\">'PushedModel'</span> (1 artifact)<span class=\"deemphasize\"> at 0x7f1c47ee3e10</span></div><table class=\"attr-table\"><tr><td class=\"attr-name\">.type_name</td><td class = \"attrvalue\">PushedModel</td></tr><tr><td class=\"attr-name\">._artifacts</td><td class = \"attrvalue\"><table class=\"attr-table\"><tr><td class=\"attr-name\">[0]</td><td class = \"attrvalue\"><style>\n",
              ".tfx-object.expanded {\n",
              "  padding: 4px 8px 4px 8px;\n",
              "  background: white;\n",
              "  border: 1px solid #bbbbbb;\n",
              "  box-shadow: 4px 4px 2px rgba(0,0,0,0.05);\n",
              "}\n",
              ".tfx-object, .tfx-object * {\n",
              "  font-size: 11pt;\n",
              "}\n",
              ".tfx-object > .title {\n",
              "  cursor: pointer;\n",
              "}\n",
              ".tfx-object .expansion-marker {\n",
              "  color: #999999;\n",
              "}\n",
              ".tfx-object.expanded > .title > .expansion-marker:before {\n",
              "  content: '▼';\n",
              "}\n",
              ".tfx-object.collapsed > .title > .expansion-marker:before {\n",
              "  content: '▶';\n",
              "}\n",
              ".tfx-object .class-name {\n",
              "  font-weight: bold;\n",
              "}\n",
              ".tfx-object .deemphasize {\n",
              "  opacity: 0.5;\n",
              "}\n",
              ".tfx-object.collapsed > table.attr-table {\n",
              "  display: none;\n",
              "}\n",
              ".tfx-object.expanded > table.attr-table {\n",
              "  display: block;\n",
              "}\n",
              ".tfx-object table.attr-table {\n",
              "  border: 2px solid white;\n",
              "  margin-top: 5px;\n",
              "}\n",
              ".tfx-object table.attr-table td.attr-name {\n",
              "  vertical-align: top;\n",
              "  font-weight: bold;\n",
              "}\n",
              ".tfx-object table.attr-table td.attrvalue {\n",
              "  text-align: left;\n",
              "}\n",
              "</style>\n",
              "<script>\n",
              "function toggleTfxObject(element) {\n",
              "  var objElement = element.parentElement;\n",
              "  if (objElement.classList.contains('collapsed')) {\n",
              "    objElement.classList.remove('collapsed');\n",
              "    objElement.classList.add('expanded');\n",
              "  } else {\n",
              "    objElement.classList.add('collapsed');\n",
              "    objElement.classList.remove('expanded');\n",
              "  }\n",
              "}\n",
              "</script>\n",
              "<div class=\"tfx-object collapsed\"><div class = \"title\" onclick=\"toggleTfxObject(this)\"><span class=\"expansion-marker\"></span><span class=\"class-name\">Artifact</span> of type <span class=\"class-name\">'PushedModel'</span> (uri: /content/tfx/Pusher/pushed_model/11)<span class=\"deemphasize\"> at 0x7f1c47f59d50</span></div><table class=\"attr-table\"><tr><td class=\"attr-name\">.type</td><td class = \"attrvalue\">&lt;class &#x27;tfx.types.standard_artifacts.PushedModel&#x27;&gt;</td></tr><tr><td class=\"attr-name\">.uri</td><td class = \"attrvalue\">/content/tfx/Pusher/pushed_model/11</td></tr></table></div></td></tr></table></td></tr></table></div></td></tr></table></td></tr></table></div>"
            ],
            "text/plain": [
              "ExecutionResult(\n",
              "    component_id: Pusher\n",
              "    execution_id: 11\n",
              "    outputs:\n",
              "        pushed_model: Channel(\n",
              "            type_name: PushedModel\n",
              "            artifacts: [Artifact(artifact: id: 17\n",
              "        type_id: 16\n",
              "        uri: \"/content/tfx/Pusher/pushed_model/11\"\n",
              "        custom_properties {\n",
              "          key: \"name\"\n",
              "          value {\n",
              "            string_value: \"pushed_model\"\n",
              "          }\n",
              "        }\n",
              "        custom_properties {\n",
              "          key: \"producer_component\"\n",
              "          value {\n",
              "            string_value: \"Pusher\"\n",
              "          }\n",
              "        }\n",
              "        custom_properties {\n",
              "          key: \"pushed\"\n",
              "          value {\n",
              "            int_value: 1\n",
              "          }\n",
              "        }\n",
              "        custom_properties {\n",
              "          key: \"pushed_destination\"\n",
              "          value {\n",
              "            string_value: \"/content/tfx/serving_model/1617616277\"\n",
              "          }\n",
              "        }\n",
              "        custom_properties {\n",
              "          key: \"pushed_version\"\n",
              "          value {\n",
              "            string_value: \"1617616277\"\n",
              "          }\n",
              "        }\n",
              "        custom_properties {\n",
              "          key: \"state\"\n",
              "          value {\n",
              "            string_value: \"published\"\n",
              "          }\n",
              "        }\n",
              "        state: LIVE\n",
              "        , artifact_type: id: 16\n",
              "        name: \"PushedModel\"\n",
              "        )]\n",
              "            additional_properties: {}\n",
              "            additional_custom_properties: {}\n",
              "        ))"
            ]
          },
          "metadata": {
            "tags": []
          },
          "execution_count": 60
        }
      ]
    },
    {
      "cell_type": "code",
      "metadata": {
        "colab": {
          "base_uri": "https://localhost:8080/"
        },
        "id": "422YmnSScY4H",
        "outputId": "9a704e19-9894-4175-a538-7dcacb43b2d3"
      },
      "source": [
        "pusher.outputs"
      ],
      "execution_count": 61,
      "outputs": [
        {
          "output_type": "execute_result",
          "data": {
            "text/plain": [
              "{'pushed_model': Channel(\n",
              "    type_name: PushedModel\n",
              "    artifacts: [Artifact(artifact: id: 17\n",
              "type_id: 16\n",
              "uri: \"/content/tfx/Pusher/pushed_model/11\"\n",
              "custom_properties {\n",
              "  key: \"name\"\n",
              "  value {\n",
              "    string_value: \"pushed_model\"\n",
              "  }\n",
              "}\n",
              "custom_properties {\n",
              "  key: \"producer_component\"\n",
              "  value {\n",
              "    string_value: \"Pusher\"\n",
              "  }\n",
              "}\n",
              "custom_properties {\n",
              "  key: \"pushed\"\n",
              "  value {\n",
              "    int_value: 1\n",
              "  }\n",
              "}\n",
              "custom_properties {\n",
              "  key: \"pushed_destination\"\n",
              "  value {\n",
              "    string_value: \"/content/tfx/serving_model/1617616277\"\n",
              "  }\n",
              "}\n",
              "custom_properties {\n",
              "  key: \"pushed_version\"\n",
              "  value {\n",
              "    string_value: \"1617616277\"\n",
              "  }\n",
              "}\n",
              "custom_properties {\n",
              "  key: \"state\"\n",
              "  value {\n",
              "    string_value: \"published\"\n",
              "  }\n",
              "}\n",
              "state: LIVE\n",
              ", artifact_type: id: 16\n",
              "name: \"PushedModel\"\n",
              ")]\n",
              "    additional_properties: {}\n",
              "    additional_custom_properties: {}\n",
              ")}"
            ]
          },
          "metadata": {
            "tags": []
          },
          "execution_count": 61
        }
      ]
    },
    {
      "cell_type": "code",
      "metadata": {
        "colab": {
          "base_uri": "https://localhost:8080/"
        },
        "id": "7izkuiD_cd6i",
        "outputId": "308eba88-ebcd-4d46-f62a-e6cb73d36752"
      },
      "source": [
        "push_uri = pusher.outputs.pushed_model.get()[0].uri\n",
        "model = tf.saved_model.load(push_uri)\n",
        "\n",
        "for item in model.signatures.items():\n",
        "  pp.pprint(item)"
      ],
      "execution_count": 62,
      "outputs": [
        {
          "output_type": "stream",
          "text": [
            "WARNING:tensorflow:5 out of the last 5 calls to <function recreate_function.<locals>.restored_function_body at 0x7f1c47fad710> triggered tf.function retracing. Tracing is expensive and the excessive number of tracings could be due to (1) creating @tf.function repeatedly in a loop, (2) passing tensors with different shapes, (3) passing Python objects instead of tensors. For (1), please define your @tf.function outside of the loop. For (2), @tf.function has experimental_relax_shapes=True option that relaxes argument shapes that can avoid unnecessary retracing. For (3), please refer to https://www.tensorflow.org/guide/function#controlling_retracing and https://www.tensorflow.org/api_docs/python/tf/function for  more details.\n"
          ],
          "name": "stdout"
        },
        {
          "output_type": "stream",
          "text": [
            "WARNING:tensorflow:5 out of the last 5 calls to <function recreate_function.<locals>.restored_function_body at 0x7f1c47fad710> triggered tf.function retracing. Tracing is expensive and the excessive number of tracings could be due to (1) creating @tf.function repeatedly in a loop, (2) passing tensors with different shapes, (3) passing Python objects instead of tensors. For (1), please define your @tf.function outside of the loop. For (2), @tf.function has experimental_relax_shapes=True option that relaxes argument shapes that can avoid unnecessary retracing. For (3), please refer to https://www.tensorflow.org/guide/function#controlling_retracing and https://www.tensorflow.org/api_docs/python/tf/function for  more details.\n"
          ],
          "name": "stderr"
        },
        {
          "output_type": "stream",
          "text": [
            "WARNING:tensorflow:6 out of the last 6 calls to <function recreate_function.<locals>.restored_function_body at 0x7f1c497ac5f0> triggered tf.function retracing. Tracing is expensive and the excessive number of tracings could be due to (1) creating @tf.function repeatedly in a loop, (2) passing tensors with different shapes, (3) passing Python objects instead of tensors. For (1), please define your @tf.function outside of the loop. For (2), @tf.function has experimental_relax_shapes=True option that relaxes argument shapes that can avoid unnecessary retracing. For (3), please refer to https://www.tensorflow.org/guide/function#controlling_retracing and https://www.tensorflow.org/api_docs/python/tf/function for  more details.\n"
          ],
          "name": "stdout"
        },
        {
          "output_type": "stream",
          "text": [
            "WARNING:tensorflow:6 out of the last 6 calls to <function recreate_function.<locals>.restored_function_body at 0x7f1c497ac5f0> triggered tf.function retracing. Tracing is expensive and the excessive number of tracings could be due to (1) creating @tf.function repeatedly in a loop, (2) passing tensors with different shapes, (3) passing Python objects instead of tensors. For (1), please define your @tf.function outside of the loop. For (2), @tf.function has experimental_relax_shapes=True option that relaxes argument shapes that can avoid unnecessary retracing. For (3), please refer to https://www.tensorflow.org/guide/function#controlling_retracing and https://www.tensorflow.org/api_docs/python/tf/function for  more details.\n"
          ],
          "name": "stderr"
        },
        {
          "output_type": "stream",
          "text": [
            "('serving_default',\n",
            " <ConcreteFunction signature_wrapper(*, trip_start_month, trip_start_day, pickup_longitude, trip_start_hour, dropoff_latitude, dropoff_longitude, pickup_latitude) at 0x7F1C477767D0>)\n"
          ],
          "name": "stdout"
        }
      ]
    },
    {
      "cell_type": "markdown",
      "metadata": {
        "id": "daYi9SEwcgLO"
      },
      "source": [
        "### **Full Pipeline**\n"
      ]
    },
    {
      "cell_type": "code",
      "metadata": {
        "colab": {
          "base_uri": "https://localhost:8080/"
        },
        "id": "DFIucpefeaY9",
        "outputId": "39bd4be0-bfbd-43f5-cc83-ab87741c61ee"
      },
      "source": [
        "!rm -rf data.*\n",
        "!rm -rf *.csv\n",
        "!sudo rm -r /content/tfx\n",
        "\n",
        "! cd /content/\n",
        "! mkdir /content/tfx/\n",
        "! mkdir /content/tfx/pipelines\n",
        "! mkdir /content/tfx/metadata\n",
        "! mkdir /content/tfx/logs\n",
        "! mkdir /content/tfx/data\n",
        "! mkdir /content/tfx/serving_model\n",
        "\n",
        "! mkdir /content/train_data/\n",
        "! mkdir /content/eval_data/\n",
        "\n",
        "!wget https://raw.githubusercontent.com/tensorflow/tfx/master/tfx/examples/chicago_taxi_pipeline/data/simple/data.csv"
      ],
      "execution_count": 63,
      "outputs": [
        {
          "output_type": "stream",
          "text": [
            "--2021-04-05 10:00:15--  https://raw.githubusercontent.com/tensorflow/tfx/master/tfx/examples/chicago_taxi_pipeline/data/simple/data.csv\n",
            "Resolving raw.githubusercontent.com (raw.githubusercontent.com)... 185.199.111.133, 185.199.110.133, 185.199.109.133, ...\n",
            "Connecting to raw.githubusercontent.com (raw.githubusercontent.com)|185.199.111.133|:443... connected.\n",
            "HTTP request sent, awaiting response... 200 OK\n",
            "Length: 1922812 (1.8M) [text/plain]\n",
            "Saving to: ‘data.csv’\n",
            "\n",
            "data.csv            100%[===================>]   1.83M  --.-KB/s    in 0.06s   \n",
            "\n",
            "2021-04-05 10:00:15 (28.7 MB/s) - ‘data.csv’ saved [1922812/1922812]\n",
            "\n"
          ],
          "name": "stdout"
        }
      ]
    },
    {
      "cell_type": "code",
      "metadata": {
        "colab": {
          "base_uri": "https://localhost:8080/"
        },
        "id": "pwrrHAjWebuY",
        "outputId": "6ebce851-77fa-484f-b9bb-151ffb1af821"
      },
      "source": [
        "data = pd.read_csv('/content/data.csv')\n",
        "\n",
        "##Drop useless columns\n",
        "data = data.drop(['trip_start_timestamp','trip_miles','pickup_census_tract',\n",
        "              'dropoff_census_tract','trip_seconds','payment_type','tips', \n",
        "              'company','dropoff_community_area','pickup_community_area'], axis=1)\n",
        "\n",
        "#Drop NA rows\n",
        "data = data.dropna()\n",
        "\n",
        "##Keep a test set for final testing( TFX internally splits train and validation data )\n",
        "np.random.seed(seed=2)\n",
        "msk = np.random.rand(len(data)) < 0.9\n",
        "traindf = data[msk]\n",
        "evaldf = data[~msk]\n",
        "\n",
        "print(len(traindf))\n",
        "print(len(evaldf))\n",
        "\n",
        "traindf.to_csv(\"/content/train_data/data.csv\", index=False, header=True)\n",
        "evaldf.to_csv(\"/content/eval_data/eval.csv\", index=False, header=False)"
      ],
      "execution_count": 64,
      "outputs": [
        {
          "output_type": "stream",
          "text": [
            "13077\n",
            "1442\n"
          ],
          "name": "stdout"
        }
      ]
    },
    {
      "cell_type": "code",
      "metadata": {
        "id": "rhhfbBQled6j"
      },
      "source": [
        "def create_final_pipeline(\n",
        "    pipeline_name: Text,\n",
        "    root_path: Text,\n",
        "    data_path,\n",
        "    training_params: Dict[Text, Text],\n",
        ") -> pipeline.Pipeline:\n",
        "\n",
        "  _pipeline_root = os.path.join(root_path, 'pipelines');      # Join ~/tfx/pipelines/\n",
        "  _metadata_db_root = os.path.join(root_path, 'metadata.db');    # Join ~/tfx/metadata.db\n",
        "  _log_root = os.path.join(root_path, 'logs');\n",
        "  _model_root = os.path.join(root_path, 'model');\n",
        "  _serving_model_dir = os.path.join(root_path, 'serving_model')\n",
        "\n",
        "    # Full pipeline\n",
        "  example_gen = CsvExampleGen(input=external_input(data_path))\n",
        "\n",
        "  statistics_gen = StatisticsGen(examples=example_gen.outputs['examples'])\n",
        "\n",
        "  infer_schema = SchemaGen(\n",
        "      statistics=statistics_gen.outputs['statistics'], infer_feature_shape=False)\n",
        "\n",
        "  validate_stats = ExampleValidator(\n",
        "    statistics=statistics_gen.outputs['statistics'],\n",
        "    schema=infer_schema.outputs['schema'])\n",
        "\n",
        "  trainer = Trainer(\n",
        "      module_file=os.path.abspath(_model_trainer_module_file),\n",
        "      custom_executor_spec=executor_spec.ExecutorClassSpec(GenericExecutor),\n",
        "      examples=example_gen.outputs['examples'],\n",
        "      train_args=trainer_pb2.TrainArgs(),\n",
        "      eval_args=trainer_pb2.EvalArgs(),\n",
        "      custom_config=(training_params)\n",
        "      )\n",
        "\n",
        "  pusher = Pusher(\n",
        "      model=trainer.outputs['model'],\n",
        "      push_destination=pusher_pb2.PushDestination(\n",
        "          filesystem=pusher_pb2.PushDestination.Filesystem(\n",
        "              base_directory=_serving_model_dir)))\n",
        "\n",
        "  # This pipeline obj carries the business logic of the pipeline, but no runner-specific information\n",
        "  # was included.\n",
        "  return pipeline.Pipeline(\n",
        "    pipeline_name=  pipeline_name,\n",
        "    pipeline_root=  root_path,\n",
        "    components=[\n",
        "        example_gen, statistics_gen, infer_schema, validate_stats,\n",
        "        trainer, pusher\n",
        "    ],\n",
        "    # metadata_connection_config = metadata.sqlite_metadata_connection_config(_metadata_db_root),\n",
        "    metadata_connection_config = metadata.sqlite_metadata_connection_config(_metadata_db_root),\n",
        "    enable_cache=True,\n",
        "    beam_pipeline_args=['--direct_num_workers=%d' % 0],\n",
        "  )"
      ],
      "execution_count": 65,
      "outputs": []
    },
    {
      "cell_type": "code",
      "metadata": {
        "colab": {
          "base_uri": "https://localhost:8080/"
        },
        "id": "inie9Wj3efn9",
        "outputId": "1b6ddfae-acfd-4178-acfe-420b4e690fdb"
      },
      "source": [
        "#Run pipeline locally\n",
        "from tfx.orchestration.local.local_dag_runner import LocalDagRunner\n",
        "\n",
        "##Define all paths\n",
        "_tfx_root = os.path.join(os.getcwd(), 'tfx')\n",
        "\n",
        "#Config params\n",
        "training_params = {\"epochs\": 50}\n",
        "\n",
        "#Create and run pipeline\n",
        "p_ = create_final_pipeline(root_path = _tfx_root, \n",
        "                           pipeline_name=\"local_pipeline\", \n",
        "                           data_path=\"/content/train_data\",\n",
        "                           training_params=training_params)\n",
        "\n",
        "LocalDagRunner().run(p_)"
      ],
      "execution_count": 66,
      "outputs": [
        {
          "output_type": "stream",
          "text": [
            "WARNING:absl:The \"input\" argument to the CsvExampleGen component has been deprecated by \"input_base\". Please update your usage as support for this argument will be removed soon.\n",
            "WARNING:apache_beam.options.pipeline_options:Discarding unparseable args: ['-f', '/root/.local/share/jupyter/runtime/kernel-5e197752-26d0-4955-bb36-37f4c5cde294.json']\n",
            "WARNING:absl:If direct_num_workers is not equal to 1, direct_running_mode should be `multi_processing` or `multi_threading` instead of `in_memory` in order for it to have the desired worker parallelism effect.\n",
            "WARNING:apache_beam.options.pipeline_options:Discarding unparseable args: ['-f', '/root/.local/share/jupyter/runtime/kernel-5e197752-26d0-4955-bb36-37f4c5cde294.json']\n",
            "WARNING:apache_beam.options.pipeline_options:Discarding unparseable args: ['-f', '/root/.local/share/jupyter/runtime/kernel-5e197752-26d0-4955-bb36-37f4c5cde294.json']\n",
            "WARNING:absl:If direct_num_workers is not equal to 1, direct_running_mode should be `multi_processing` or `multi_threading` instead of `in_memory` in order for it to have the desired worker parallelism effect.\n",
            "WARNING:apache_beam.options.pipeline_options:Discarding unparseable args: ['-f', '/root/.local/share/jupyter/runtime/kernel-5e197752-26d0-4955-bb36-37f4c5cde294.json']\n",
            "WARNING:apache_beam.options.pipeline_options:Discarding unparseable args: ['-f', '/root/.local/share/jupyter/runtime/kernel-5e197752-26d0-4955-bb36-37f4c5cde294.json']\n"
          ],
          "name": "stderr"
        },
        {
          "output_type": "stream",
          "text": [
            "WARNING:tensorflow:Using a while_loop for converting BoostedTreesBucketize\n"
          ],
          "name": "stdout"
        },
        {
          "output_type": "stream",
          "text": [
            "WARNING:tensorflow:Using a while_loop for converting BoostedTreesBucketize\n"
          ],
          "name": "stderr"
        },
        {
          "output_type": "stream",
          "text": [
            "WARNING:tensorflow:Using a while_loop for converting BoostedTreesBucketize\n"
          ],
          "name": "stdout"
        },
        {
          "output_type": "stream",
          "text": [
            "WARNING:tensorflow:Using a while_loop for converting BoostedTreesBucketize\n"
          ],
          "name": "stderr"
        },
        {
          "output_type": "stream",
          "text": [
            "WARNING:tensorflow:Using a while_loop for converting BoostedTreesBucketize\n"
          ],
          "name": "stdout"
        },
        {
          "output_type": "stream",
          "text": [
            "WARNING:tensorflow:Using a while_loop for converting BoostedTreesBucketize\n"
          ],
          "name": "stderr"
        },
        {
          "output_type": "stream",
          "text": [
            "WARNING:tensorflow:Using a while_loop for converting BoostedTreesBucketize\n"
          ],
          "name": "stdout"
        },
        {
          "output_type": "stream",
          "text": [
            "WARNING:tensorflow:Using a while_loop for converting BoostedTreesBucketize\n"
          ],
          "name": "stderr"
        },
        {
          "output_type": "stream",
          "text": [
            "Model: \"model_1\"\n",
            "__________________________________________________________________________________________________\n",
            "Layer (type)                    Output Shape         Param #     Connected to                     \n",
            "==================================================================================================\n",
            "pickup_latitude (InputLayer)    [(None, 1)]          0                                            \n",
            "__________________________________________________________________________________________________\n",
            "pickup_longitude (InputLayer)   [(None, 1)]          0                                            \n",
            "__________________________________________________________________________________________________\n",
            "dropoff_latitude (InputLayer)   [(None, 1)]          0                                            \n",
            "__________________________________________________________________________________________________\n",
            "dropoff_longitude (InputLayer)  [(None, 1)]          0                                            \n",
            "__________________________________________________________________________________________________\n",
            "discretization_4 (Discretizatio (None, 1)            0           pickup_latitude[0][0]            \n",
            "__________________________________________________________________________________________________\n",
            "discretization_5 (Discretizatio (None, 1)            0           pickup_longitude[0][0]           \n",
            "__________________________________________________________________________________________________\n",
            "discretization_6 (Discretizatio (None, 1)            0           dropoff_latitude[0][0]           \n",
            "__________________________________________________________________________________________________\n",
            "discretization_7 (Discretizatio (None, 1)            0           dropoff_longitude[0][0]          \n",
            "__________________________________________________________________________________________________\n",
            "trip_start_day (InputLayer)     [(None, 1)]          0                                            \n",
            "__________________________________________________________________________________________________\n",
            "trip_start_hour (InputLayer)    [(None, 1)]          0                                            \n",
            "__________________________________________________________________________________________________\n",
            "category_encoding_11 (CategoryE (None, 21)           0           discretization_4[0][0]           \n",
            "__________________________________________________________________________________________________\n",
            "category_encoding_12 (CategoryE (None, 21)           0           discretization_5[0][0]           \n",
            "__________________________________________________________________________________________________\n",
            "category_encoding_13 (CategoryE (None, 21)           0           discretization_6[0][0]           \n",
            "__________________________________________________________________________________________________\n",
            "category_encoding_14 (CategoryE (None, 21)           0           discretization_7[0][0]           \n",
            "__________________________________________________________________________________________________\n",
            "string_lookup_3 (StringLookup)  (None, 1)            0           trip_start_day[0][0]             \n",
            "__________________________________________________________________________________________________\n",
            "string_lookup_4 (StringLookup)  (None, 1)            0           trip_start_hour[0][0]            \n",
            "__________________________________________________________________________________________________\n",
            "category_crossing_4 (CategoryCr (None, None)         0           category_encoding_11[0][0]       \n",
            "                                                                 category_encoding_12[0][0]       \n",
            "__________________________________________________________________________________________________\n",
            "category_crossing_5 (CategoryCr (None, None)         0           category_encoding_13[0][0]       \n",
            "                                                                 category_encoding_14[0][0]       \n",
            "__________________________________________________________________________________________________\n",
            "category_encoding_8 (CategoryEn (None, 7)            0           string_lookup_3[0][0]            \n",
            "__________________________________________________________________________________________________\n",
            "category_encoding_9 (CategoryEn (None, 24)           0           string_lookup_4[0][0]            \n",
            "__________________________________________________________________________________________________\n",
            "hashing_4 (Hashing)             (None, None)         0           category_crossing_4[0][0]        \n",
            "__________________________________________________________________________________________________\n",
            "hashing_5 (Hashing)             (None, None)         0           category_crossing_5[0][0]        \n",
            "__________________________________________________________________________________________________\n",
            "trip_start_month (InputLayer)   [(None, 1)]          0                                            \n",
            "__________________________________________________________________________________________________\n",
            "category_crossing_3 (CategoryCr (None, None)         0           category_encoding_8[0][0]        \n",
            "                                                                 category_encoding_9[0][0]        \n",
            "__________________________________________________________________________________________________\n",
            "embedding_2 (Embedding)         (None, None, 4)      1764        hashing_4[0][0]                  \n",
            "__________________________________________________________________________________________________\n",
            "embedding_3 (Embedding)         (None, None, 4)      1764        hashing_5[0][0]                  \n",
            "__________________________________________________________________________________________________\n",
            "string_lookup_5 (StringLookup)  (None, 1)            0           trip_start_month[0][0]           \n",
            "__________________________________________________________________________________________________\n",
            "hashing_3 (Hashing)             (None, None)         0           category_crossing_3[0][0]        \n",
            "__________________________________________________________________________________________________\n",
            "distance (InputLayer)           [(None, 1)]          0                                            \n",
            "__________________________________________________________________________________________________\n",
            "tf.math.reduce_sum_2 (TFOpLambd (None, 4)            0           embedding_2[0][0]                \n",
            "__________________________________________________________________________________________________\n",
            "tf.math.reduce_sum_3 (TFOpLambd (None, 4)            0           embedding_3[0][0]                \n",
            "__________________________________________________________________________________________________\n",
            "tf.strings.to_number_3 (TFOpLam (None, 1)            0           trip_start_day[0][0]             \n",
            "__________________________________________________________________________________________________\n",
            "tf.strings.to_number_4 (TFOpLam (None, 1)            0           trip_start_hour[0][0]            \n",
            "__________________________________________________________________________________________________\n",
            "tf.strings.to_number_5 (TFOpLam (None, 1)            0           trip_start_month[0][0]           \n",
            "__________________________________________________________________________________________________\n",
            "category_encoding_10 (CategoryE (None, 12)           0           string_lookup_5[0][0]            \n",
            "__________________________________________________________________________________________________\n",
            "category_encoding_15 (CategoryE (None, 168)          0           hashing_3[0][0]                  \n",
            "__________________________________________________________________________________________________\n",
            "concatenate_3 (Concatenate)     (None, 16)           0           pickup_latitude[0][0]            \n",
            "                                                                 pickup_longitude[0][0]           \n",
            "                                                                 dropoff_latitude[0][0]           \n",
            "                                                                 dropoff_longitude[0][0]          \n",
            "                                                                 distance[0][0]                   \n",
            "                                                                 tf.math.reduce_sum_2[0][0]       \n",
            "                                                                 tf.math.reduce_sum_3[0][0]       \n",
            "                                                                 tf.strings.to_number_3[0][0]     \n",
            "                                                                 tf.strings.to_number_4[0][0]     \n",
            "                                                                 tf.strings.to_number_5[0][0]     \n",
            "__________________________________________________________________________________________________\n",
            "concatenate_4 (Concatenate)     (None, 264)          0           category_encoding_10[0][0]       \n",
            "                                                                 category_encoding_15[0][0]       \n",
            "                                                                 category_encoding_11[0][0]       \n",
            "                                                                 category_encoding_12[0][0]       \n",
            "                                                                 category_encoding_13[0][0]       \n",
            "                                                                 category_encoding_14[0][0]       \n",
            "__________________________________________________________________________________________________\n",
            "dense_4 (Dense)                 (None, 32)           544         concatenate_3[0][0]              \n",
            "__________________________________________________________________________________________________\n",
            "dense_5 (Dense)                 (None, 32)           8480        concatenate_4[0][0]              \n",
            "__________________________________________________________________________________________________\n",
            "batch_normalization_2 (BatchNor (None, 32)           128         dense_4[0][0]                    \n",
            "__________________________________________________________________________________________________\n",
            "concatenate_5 (Concatenate)     (None, 64)           0           dense_5[0][0]                    \n",
            "                                                                 batch_normalization_2[0][0]      \n",
            "__________________________________________________________________________________________________\n",
            "dense_6 (Dense)                 (None, 32)           2080        concatenate_5[0][0]              \n",
            "__________________________________________________________________________________________________\n",
            "batch_normalization_3 (BatchNor (None, 32)           128         dense_6[0][0]                    \n",
            "__________________________________________________________________________________________________\n",
            "dense_7 (Dense)                 (None, 1)            33          batch_normalization_3[0][0]      \n",
            "==================================================================================================\n",
            "Total params: 14,921\n",
            "Trainable params: 14,793\n",
            "Non-trainable params: 128\n",
            "__________________________________________________________________________________________________\n",
            "None\n",
            "Epoch 1/50\n"
          ],
          "name": "stdout"
        },
        {
          "output_type": "stream",
          "text": [
            "/usr/local/lib/python3.7/dist-packages/tensorflow/python/keras/engine/functional.py:595: UserWarning: Input dict contained keys ['fare'] which did not match any model input. They will be ignored by the model.\n",
            "  [n for n in tensors.keys() if n not in ref_input_names])\n"
          ],
          "name": "stderr"
        },
        {
          "output_type": "stream",
          "text": [
            "WARNING:tensorflow:Using a while_loop for converting BoostedTreesBucketize\n"
          ],
          "name": "stdout"
        },
        {
          "output_type": "stream",
          "text": [
            "WARNING:tensorflow:Using a while_loop for converting BoostedTreesBucketize\n"
          ],
          "name": "stderr"
        },
        {
          "output_type": "stream",
          "text": [
            "WARNING:tensorflow:Using a while_loop for converting BoostedTreesBucketize\n"
          ],
          "name": "stdout"
        },
        {
          "output_type": "stream",
          "text": [
            "WARNING:tensorflow:Using a while_loop for converting BoostedTreesBucketize\n"
          ],
          "name": "stderr"
        },
        {
          "output_type": "stream",
          "text": [
            "WARNING:tensorflow:Using a while_loop for converting BoostedTreesBucketize\n"
          ],
          "name": "stdout"
        },
        {
          "output_type": "stream",
          "text": [
            "WARNING:tensorflow:Using a while_loop for converting BoostedTreesBucketize\n"
          ],
          "name": "stderr"
        },
        {
          "output_type": "stream",
          "text": [
            "WARNING:tensorflow:Using a while_loop for converting BoostedTreesBucketize\n"
          ],
          "name": "stdout"
        },
        {
          "output_type": "stream",
          "text": [
            "WARNING:tensorflow:Using a while_loop for converting BoostedTreesBucketize\n"
          ],
          "name": "stderr"
        },
        {
          "output_type": "stream",
          "text": [
            "WARNING:tensorflow:Using a while_loop for converting BoostedTreesBucketize\n"
          ],
          "name": "stdout"
        },
        {
          "output_type": "stream",
          "text": [
            "WARNING:tensorflow:Using a while_loop for converting BoostedTreesBucketize\n"
          ],
          "name": "stderr"
        },
        {
          "output_type": "stream",
          "text": [
            "WARNING:tensorflow:Using a while_loop for converting BoostedTreesBucketize\n"
          ],
          "name": "stdout"
        },
        {
          "output_type": "stream",
          "text": [
            "WARNING:tensorflow:Using a while_loop for converting BoostedTreesBucketize\n"
          ],
          "name": "stderr"
        },
        {
          "output_type": "stream",
          "text": [
            "WARNING:tensorflow:Using a while_loop for converting BoostedTreesBucketize\n"
          ],
          "name": "stdout"
        },
        {
          "output_type": "stream",
          "text": [
            "WARNING:tensorflow:Using a while_loop for converting BoostedTreesBucketize\n"
          ],
          "name": "stderr"
        },
        {
          "output_type": "stream",
          "text": [
            "WARNING:tensorflow:Using a while_loop for converting BoostedTreesBucketize\n"
          ],
          "name": "stdout"
        },
        {
          "output_type": "stream",
          "text": [
            "WARNING:tensorflow:Using a while_loop for converting BoostedTreesBucketize\n"
          ],
          "name": "stderr"
        },
        {
          "output_type": "stream",
          "text": [
            "100/100 [==============================] - ETA: 0s - loss: 201.3877 - rmse: 14.1251WARNING:tensorflow:Using a while_loop for converting BoostedTreesBucketize\n"
          ],
          "name": "stdout"
        },
        {
          "output_type": "stream",
          "text": [
            "WARNING:tensorflow:Using a while_loop for converting BoostedTreesBucketize\n"
          ],
          "name": "stderr"
        },
        {
          "output_type": "stream",
          "text": [
            "WARNING:tensorflow:Using a while_loop for converting BoostedTreesBucketize\n"
          ],
          "name": "stdout"
        },
        {
          "output_type": "stream",
          "text": [
            "WARNING:tensorflow:Using a while_loop for converting BoostedTreesBucketize\n"
          ],
          "name": "stderr"
        },
        {
          "output_type": "stream",
          "text": [
            "WARNING:tensorflow:Using a while_loop for converting BoostedTreesBucketize\n"
          ],
          "name": "stdout"
        },
        {
          "output_type": "stream",
          "text": [
            "WARNING:tensorflow:Using a while_loop for converting BoostedTreesBucketize\n"
          ],
          "name": "stderr"
        },
        {
          "output_type": "stream",
          "text": [
            "WARNING:tensorflow:Using a while_loop for converting BoostedTreesBucketize\n"
          ],
          "name": "stdout"
        },
        {
          "output_type": "stream",
          "text": [
            "WARNING:tensorflow:Using a while_loop for converting BoostedTreesBucketize\n"
          ],
          "name": "stderr"
        },
        {
          "output_type": "stream",
          "text": [
            "100/100 [==============================] - 19s 171ms/step - loss: 201.5415 - rmse: 14.1311 - val_loss: 105.1480 - val_rmse: 10.2539\n",
            "Epoch 2/50\n",
            "100/100 [==============================] - 16s 160ms/step - loss: 221.1786 - rmse: 14.8197 - val_loss: 298.1359 - val_rmse: 17.2666\n",
            "Epoch 3/50\n",
            "100/100 [==============================] - 16s 160ms/step - loss: 145.1671 - rmse: 11.9938 - val_loss: 380.8831 - val_rmse: 19.5162\n",
            "Epoch 4/50\n",
            "100/100 [==============================] - 16s 158ms/step - loss: 150.8071 - rmse: 12.1376 - val_loss: 229.3057 - val_rmse: 15.1428\n",
            "Epoch 5/50\n",
            "100/100 [==============================] - 16s 159ms/step - loss: 97.8387 - rmse: 9.8421 - val_loss: 165.4669 - val_rmse: 12.8634\n",
            "Epoch 6/50\n",
            "100/100 [==============================] - 16s 157ms/step - loss: 109.8315 - rmse: 10.2414 - val_loss: 132.7436 - val_rmse: 11.5214\n",
            "\n",
            "Epoch 00006: ReduceLROnPlateau reducing learning rate to 0.00020000000949949026.\n",
            "Epoch 7/50\n",
            "100/100 [==============================] - 16s 158ms/step - loss: 68.9564 - rmse: 8.1723 - val_loss: 29.5452 - val_rmse: 5.4355\n",
            "Epoch 8/50\n",
            "100/100 [==============================] - 16s 161ms/step - loss: 80.8239 - rmse: 8.8231 - val_loss: 27.4963 - val_rmse: 5.2437\n",
            "Epoch 9/50\n",
            "100/100 [==============================] - 16s 157ms/step - loss: 37.2479 - rmse: 5.9910 - val_loss: 27.7470 - val_rmse: 5.2675\n",
            "Epoch 10/50\n",
            "100/100 [==============================] - 16s 161ms/step - loss: 133.7051 - rmse: 11.0295 - val_loss: 28.0984 - val_rmse: 5.3008\n",
            "Epoch 11/50\n",
            "100/100 [==============================] - 16s 158ms/step - loss: 110.0619 - rmse: 10.3172 - val_loss: 27.4641 - val_rmse: 5.2406\n",
            "Epoch 12/50\n",
            "100/100 [==============================] - 16s 159ms/step - loss: 66.3951 - rmse: 7.9433 - val_loss: 27.4474 - val_rmse: 5.2390\n",
            "Epoch 13/50\n",
            "100/100 [==============================] - 16s 157ms/step - loss: 91.0468 - rmse: 9.2324 - val_loss: 27.2337 - val_rmse: 5.2186\n",
            "Epoch 14/50\n",
            "100/100 [==============================] - 16s 159ms/step - loss: 49.5352 - rmse: 6.7979 - val_loss: 29.8215 - val_rmse: 5.4609\n",
            "Epoch 15/50\n",
            "100/100 [==============================] - 16s 159ms/step - loss: 37.7250 - rmse: 6.0952 - val_loss: 29.7953 - val_rmse: 5.4585\n",
            "Epoch 16/50\n",
            "100/100 [==============================] - 16s 159ms/step - loss: 76.1593 - rmse: 8.5986 - val_loss: 32.5482 - val_rmse: 5.7051\n",
            "Epoch 17/50\n",
            "100/100 [==============================] - 16s 158ms/step - loss: 41.5019 - rmse: 6.2691 - val_loss: 29.7574 - val_rmse: 5.4550\n",
            "Epoch 18/50\n",
            "100/100 [==============================] - 16s 160ms/step - loss: 64.7227 - rmse: 7.8249 - val_loss: 32.1396 - val_rmse: 5.6692\n",
            "\n",
            "Epoch 00018: ReduceLROnPlateau reducing learning rate to 4.0000001899898055e-05.\n",
            "Epoch 19/50\n",
            "100/100 [==============================] - 16s 159ms/step - loss: 34.2808 - rmse: 5.7738 - val_loss: 23.5371 - val_rmse: 4.8515\n",
            "Epoch 20/50\n",
            "100/100 [==============================] - 16s 159ms/step - loss: 40.4130 - rmse: 6.2491 - val_loss: 22.5038 - val_rmse: 4.7438\n",
            "Epoch 21/50\n",
            "100/100 [==============================] - 16s 161ms/step - loss: 76.6970 - rmse: 8.4563 - val_loss: 22.1284 - val_rmse: 4.7041\n",
            "Epoch 22/50\n",
            "100/100 [==============================] - 16s 159ms/step - loss: 102.7390 - rmse: 9.7653 - val_loss: 22.3981 - val_rmse: 4.7326\n",
            "Epoch 23/50\n",
            "100/100 [==============================] - 16s 159ms/step - loss: 53.5415 - rmse: 7.1372 - val_loss: 22.0922 - val_rmse: 4.7002\n",
            "Epoch 24/50\n",
            "100/100 [==============================] - 16s 158ms/step - loss: 80.9160 - rmse: 8.7862 - val_loss: 22.5648 - val_rmse: 4.7502\n",
            "Epoch 25/50\n",
            "100/100 [==============================] - 16s 158ms/step - loss: 100.5395 - rmse: 9.7906 - val_loss: 22.2469 - val_rmse: 4.7166\n",
            "Epoch 26/50\n",
            "100/100 [==============================] - 16s 159ms/step - loss: 128.7646 - rmse: 10.7702 - val_loss: 22.4104 - val_rmse: 4.7339\n",
            "Epoch 27/50\n",
            "100/100 [==============================] - 16s 159ms/step - loss: 38.6677 - rmse: 6.0544 - val_loss: 22.3255 - val_rmse: 4.7250\n",
            "Epoch 28/50\n",
            "100/100 [==============================] - 16s 158ms/step - loss: 99.6872 - rmse: 9.7004 - val_loss: 22.4394 - val_rmse: 4.7370\n",
            "\n",
            "Epoch 00028: ReduceLROnPlateau reducing learning rate to 1e-05.\n",
            "Epoch 29/50\n",
            "100/100 [==============================] - 16s 159ms/step - loss: 35.1347 - rmse: 5.8102 - val_loss: 22.8328 - val_rmse: 4.7783\n",
            "Epoch 30/50\n",
            "100/100 [==============================] - 16s 158ms/step - loss: 80.7256 - rmse: 8.7997 - val_loss: 22.9869 - val_rmse: 4.7944\n",
            "Epoch 31/50\n",
            "100/100 [==============================] - 16s 159ms/step - loss: 50.8162 - rmse: 7.0117 - val_loss: 22.3697 - val_rmse: 4.7296\n",
            "Epoch 32/50\n",
            "100/100 [==============================] - 16s 159ms/step - loss: 55.4426 - rmse: 7.2152 - val_loss: 22.8189 - val_rmse: 4.7769\n",
            "Epoch 33/50\n",
            "100/100 [==============================] - 16s 162ms/step - loss: 72.2762 - rmse: 8.2184 - val_loss: 22.6369 - val_rmse: 4.7578\n",
            "Epoch 34/50\n",
            "100/100 [==============================] - 16s 160ms/step - loss: 73.4354 - rmse: 8.2932 - val_loss: 22.3706 - val_rmse: 4.7297\n",
            "Epoch 35/50\n",
            "100/100 [==============================] - 16s 160ms/step - loss: 46.7779 - rmse: 6.6418 - val_loss: 22.6045 - val_rmse: 4.7544\n",
            "Epoch 36/50\n",
            "100/100 [==============================] - 16s 158ms/step - loss: 33.7268 - rmse: 5.5979 - val_loss: 23.3112 - val_rmse: 4.8281\n",
            "Epoch 37/50\n",
            "100/100 [==============================] - 16s 158ms/step - loss: 103.8070 - rmse: 9.8617 - val_loss: 23.2009 - val_rmse: 4.8167\n",
            "Epoch 38/50\n",
            "100/100 [==============================] - 16s 159ms/step - loss: 53.3281 - rmse: 7.1341 - val_loss: 22.7422 - val_rmse: 4.7689\n",
            "Epoch 39/50\n",
            "100/100 [==============================] - 16s 160ms/step - loss: 96.5615 - rmse: 9.6551 - val_loss: 22.7109 - val_rmse: 4.7656\n",
            "Epoch 40/50\n",
            "100/100 [==============================] - 16s 159ms/step - loss: 59.8259 - rmse: 7.4904 - val_loss: 22.7522 - val_rmse: 4.7699\n",
            "Epoch 41/50\n",
            "100/100 [==============================] - 16s 159ms/step - loss: 41.1633 - rmse: 6.2547 - val_loss: 23.2404 - val_rmse: 4.8208\n",
            "Epoch 42/50\n",
            "100/100 [==============================] - 16s 160ms/step - loss: 84.9092 - rmse: 8.8885 - val_loss: 22.3558 - val_rmse: 4.7282\n",
            "Epoch 43/50\n",
            "100/100 [==============================] - 16s 158ms/step - loss: 86.6793 - rmse: 8.9633 - val_loss: 22.7801 - val_rmse: 4.7728\n",
            "Restoring model weights from the end of the best epoch.\n",
            "Epoch 00043: early stopping\n",
            "WARNING:tensorflow:Using a while_loop for converting BoostedTreesBucketize\n"
          ],
          "name": "stdout"
        },
        {
          "output_type": "stream",
          "text": [
            "WARNING:tensorflow:Using a while_loop for converting BoostedTreesBucketize\n"
          ],
          "name": "stderr"
        },
        {
          "output_type": "stream",
          "text": [
            "WARNING:tensorflow:Using a while_loop for converting BoostedTreesBucketize\n"
          ],
          "name": "stdout"
        },
        {
          "output_type": "stream",
          "text": [
            "WARNING:tensorflow:Using a while_loop for converting BoostedTreesBucketize\n"
          ],
          "name": "stderr"
        },
        {
          "output_type": "stream",
          "text": [
            "WARNING:tensorflow:Using a while_loop for converting BoostedTreesBucketize\n"
          ],
          "name": "stdout"
        },
        {
          "output_type": "stream",
          "text": [
            "WARNING:tensorflow:Using a while_loop for converting BoostedTreesBucketize\n"
          ],
          "name": "stderr"
        },
        {
          "output_type": "stream",
          "text": [
            "WARNING:tensorflow:Using a while_loop for converting BoostedTreesBucketize\n"
          ],
          "name": "stdout"
        },
        {
          "output_type": "stream",
          "text": [
            "WARNING:tensorflow:Using a while_loop for converting BoostedTreesBucketize\n"
          ],
          "name": "stderr"
        },
        {
          "output_type": "stream",
          "text": [
            "WARNING:tensorflow:Using a while_loop for converting BoostedTreesBucketize\n"
          ],
          "name": "stdout"
        },
        {
          "output_type": "stream",
          "text": [
            "WARNING:tensorflow:Using a while_loop for converting BoostedTreesBucketize\n"
          ],
          "name": "stderr"
        },
        {
          "output_type": "stream",
          "text": [
            "WARNING:tensorflow:Using a while_loop for converting BoostedTreesBucketize\n"
          ],
          "name": "stdout"
        },
        {
          "output_type": "stream",
          "text": [
            "WARNING:tensorflow:Using a while_loop for converting BoostedTreesBucketize\n"
          ],
          "name": "stderr"
        },
        {
          "output_type": "stream",
          "text": [
            "WARNING:tensorflow:Using a while_loop for converting BoostedTreesBucketize\n"
          ],
          "name": "stdout"
        },
        {
          "output_type": "stream",
          "text": [
            "WARNING:tensorflow:Using a while_loop for converting BoostedTreesBucketize\n"
          ],
          "name": "stderr"
        },
        {
          "output_type": "stream",
          "text": [
            "WARNING:tensorflow:Using a while_loop for converting BoostedTreesBucketize\n"
          ],
          "name": "stdout"
        },
        {
          "output_type": "stream",
          "text": [
            "WARNING:tensorflow:Using a while_loop for converting BoostedTreesBucketize\n"
          ],
          "name": "stderr"
        },
        {
          "output_type": "stream",
          "text": [
            "WARNING:tensorflow:Using a while_loop for converting BoostedTreesBucketize\n"
          ],
          "name": "stdout"
        },
        {
          "output_type": "stream",
          "text": [
            "WARNING:tensorflow:Using a while_loop for converting BoostedTreesBucketize\n"
          ],
          "name": "stderr"
        },
        {
          "output_type": "stream",
          "text": [
            "WARNING:tensorflow:Using a while_loop for converting BoostedTreesBucketize\n"
          ],
          "name": "stdout"
        },
        {
          "output_type": "stream",
          "text": [
            "WARNING:tensorflow:Using a while_loop for converting BoostedTreesBucketize\n"
          ],
          "name": "stderr"
        },
        {
          "output_type": "stream",
          "text": [
            "WARNING:tensorflow:Using a while_loop for converting BoostedTreesBucketize\n"
          ],
          "name": "stdout"
        },
        {
          "output_type": "stream",
          "text": [
            "WARNING:tensorflow:Using a while_loop for converting BoostedTreesBucketize\n"
          ],
          "name": "stderr"
        },
        {
          "output_type": "stream",
          "text": [
            "WARNING:tensorflow:Using a while_loop for converting BoostedTreesBucketize\n"
          ],
          "name": "stdout"
        },
        {
          "output_type": "stream",
          "text": [
            "WARNING:tensorflow:Using a while_loop for converting BoostedTreesBucketize\n"
          ],
          "name": "stderr"
        },
        {
          "output_type": "stream",
          "text": [
            "WARNING:tensorflow:Using a while_loop for converting BoostedTreesBucketize\n"
          ],
          "name": "stdout"
        },
        {
          "output_type": "stream",
          "text": [
            "WARNING:tensorflow:Using a while_loop for converting BoostedTreesBucketize\n"
          ],
          "name": "stderr"
        },
        {
          "output_type": "stream",
          "text": [
            "WARNING:tensorflow:Using a while_loop for converting BoostedTreesBucketize\n"
          ],
          "name": "stdout"
        },
        {
          "output_type": "stream",
          "text": [
            "WARNING:tensorflow:Using a while_loop for converting BoostedTreesBucketize\n"
          ],
          "name": "stderr"
        },
        {
          "output_type": "stream",
          "text": [
            "WARNING:tensorflow:Using a while_loop for converting BoostedTreesBucketize\n"
          ],
          "name": "stdout"
        },
        {
          "output_type": "stream",
          "text": [
            "WARNING:tensorflow:Using a while_loop for converting BoostedTreesBucketize\n"
          ],
          "name": "stderr"
        },
        {
          "output_type": "stream",
          "text": [
            "WARNING:tensorflow:Using a while_loop for converting BoostedTreesBucketize\n"
          ],
          "name": "stdout"
        },
        {
          "output_type": "stream",
          "text": [
            "WARNING:tensorflow:Using a while_loop for converting BoostedTreesBucketize\n"
          ],
          "name": "stderr"
        },
        {
          "output_type": "stream",
          "text": [
            "WARNING:tensorflow:Using a while_loop for converting BoostedTreesBucketize\n"
          ],
          "name": "stdout"
        },
        {
          "output_type": "stream",
          "text": [
            "WARNING:tensorflow:Using a while_loop for converting BoostedTreesBucketize\n"
          ],
          "name": "stderr"
        },
        {
          "output_type": "stream",
          "text": [
            "WARNING:tensorflow:Using a while_loop for converting BoostedTreesBucketize\n"
          ],
          "name": "stdout"
        },
        {
          "output_type": "stream",
          "text": [
            "WARNING:tensorflow:Using a while_loop for converting BoostedTreesBucketize\n"
          ],
          "name": "stderr"
        },
        {
          "output_type": "stream",
          "text": [
            "WARNING:tensorflow:Using a while_loop for converting BoostedTreesBucketize\n"
          ],
          "name": "stdout"
        },
        {
          "output_type": "stream",
          "text": [
            "WARNING:tensorflow:Using a while_loop for converting BoostedTreesBucketize\n"
          ],
          "name": "stderr"
        },
        {
          "output_type": "stream",
          "text": [
            "WARNING:tensorflow:Using a while_loop for converting BoostedTreesBucketize\n"
          ],
          "name": "stdout"
        },
        {
          "output_type": "stream",
          "text": [
            "WARNING:tensorflow:Using a while_loop for converting BoostedTreesBucketize\n"
          ],
          "name": "stderr"
        },
        {
          "output_type": "stream",
          "text": [
            "WARNING:tensorflow:Using a while_loop for converting BoostedTreesBucketize\n"
          ],
          "name": "stdout"
        },
        {
          "output_type": "stream",
          "text": [
            "WARNING:tensorflow:Using a while_loop for converting BoostedTreesBucketize\n"
          ],
          "name": "stderr"
        },
        {
          "output_type": "stream",
          "text": [
            "WARNING:tensorflow:Using a while_loop for converting BoostedTreesBucketize\n"
          ],
          "name": "stdout"
        },
        {
          "output_type": "stream",
          "text": [
            "WARNING:tensorflow:Using a while_loop for converting BoostedTreesBucketize\n"
          ],
          "name": "stderr"
        },
        {
          "output_type": "stream",
          "text": [
            "WARNING:tensorflow:Using a while_loop for converting BoostedTreesBucketize\n"
          ],
          "name": "stdout"
        },
        {
          "output_type": "stream",
          "text": [
            "WARNING:tensorflow:Using a while_loop for converting BoostedTreesBucketize\n"
          ],
          "name": "stderr"
        },
        {
          "output_type": "stream",
          "text": [
            "WARNING:tensorflow:Using a while_loop for converting BoostedTreesBucketize\n"
          ],
          "name": "stdout"
        },
        {
          "output_type": "stream",
          "text": [
            "WARNING:tensorflow:Using a while_loop for converting BoostedTreesBucketize\n"
          ],
          "name": "stderr"
        },
        {
          "output_type": "stream",
          "text": [
            "WARNING:tensorflow:Using a while_loop for converting BoostedTreesBucketize\n"
          ],
          "name": "stdout"
        },
        {
          "output_type": "stream",
          "text": [
            "WARNING:tensorflow:Using a while_loop for converting BoostedTreesBucketize\n"
          ],
          "name": "stderr"
        },
        {
          "output_type": "stream",
          "text": [
            "WARNING:tensorflow:Using a while_loop for converting BoostedTreesBucketize\n"
          ],
          "name": "stdout"
        },
        {
          "output_type": "stream",
          "text": [
            "WARNING:tensorflow:Using a while_loop for converting BoostedTreesBucketize\n"
          ],
          "name": "stderr"
        },
        {
          "output_type": "stream",
          "text": [
            "WARNING:tensorflow:Using a while_loop for converting BoostedTreesBucketize\n"
          ],
          "name": "stdout"
        },
        {
          "output_type": "stream",
          "text": [
            "WARNING:tensorflow:Using a while_loop for converting BoostedTreesBucketize\n"
          ],
          "name": "stderr"
        },
        {
          "output_type": "stream",
          "text": [
            "WARNING:tensorflow:Using a while_loop for converting BoostedTreesBucketize\n"
          ],
          "name": "stdout"
        },
        {
          "output_type": "stream",
          "text": [
            "WARNING:tensorflow:Using a while_loop for converting BoostedTreesBucketize\n"
          ],
          "name": "stderr"
        },
        {
          "output_type": "stream",
          "text": [
            "WARNING:tensorflow:Using a while_loop for converting BoostedTreesBucketize\n"
          ],
          "name": "stdout"
        },
        {
          "output_type": "stream",
          "text": [
            "WARNING:tensorflow:Using a while_loop for converting BoostedTreesBucketize\n"
          ],
          "name": "stderr"
        },
        {
          "output_type": "stream",
          "text": [
            "WARNING:tensorflow:Using a while_loop for converting BoostedTreesBucketize\n"
          ],
          "name": "stdout"
        },
        {
          "output_type": "stream",
          "text": [
            "WARNING:tensorflow:Using a while_loop for converting BoostedTreesBucketize\n"
          ],
          "name": "stderr"
        },
        {
          "output_type": "stream",
          "text": [
            "WARNING:tensorflow:Using a while_loop for converting BoostedTreesBucketize\n"
          ],
          "name": "stdout"
        },
        {
          "output_type": "stream",
          "text": [
            "WARNING:tensorflow:Using a while_loop for converting BoostedTreesBucketize\n"
          ],
          "name": "stderr"
        },
        {
          "output_type": "stream",
          "text": [
            "WARNING:tensorflow:Using a while_loop for converting BoostedTreesBucketize\n"
          ],
          "name": "stdout"
        },
        {
          "output_type": "stream",
          "text": [
            "WARNING:tensorflow:Using a while_loop for converting BoostedTreesBucketize\n"
          ],
          "name": "stderr"
        },
        {
          "output_type": "stream",
          "text": [
            "INFO:tensorflow:Assets written to: /content/tfx/Trainer/model/3/serving_model_dir/assets\n"
          ],
          "name": "stdout"
        },
        {
          "output_type": "stream",
          "text": [
            "INFO:tensorflow:Assets written to: /content/tfx/Trainer/model/3/serving_model_dir/assets\n",
            "WARNING:apache_beam.options.pipeline_options:Discarding unparseable args: ['-f', '/root/.local/share/jupyter/runtime/kernel-5e197752-26d0-4955-bb36-37f4c5cde294.json']\n",
            "WARNING:absl:Pusher is going to push the model without validation. Consider using Evaluator or InfraValidator in your pipeline.\n",
            "WARNING:apache_beam.options.pipeline_options:Discarding unparseable args: ['-f', '/root/.local/share/jupyter/runtime/kernel-5e197752-26d0-4955-bb36-37f4c5cde294.json']\n",
            "WARNING:apache_beam.options.pipeline_options:Discarding unparseable args: ['-f', '/root/.local/share/jupyter/runtime/kernel-5e197752-26d0-4955-bb36-37f4c5cde294.json']\n"
          ],
          "name": "stderr"
        }
      ]
    },
    {
      "cell_type": "code",
      "metadata": {
        "colab": {
          "base_uri": "https://localhost:8080/"
        },
        "id": "lWSvhdI6ehP9",
        "outputId": "0ac464d2-10de-4faf-ffec-d26a670b02d5"
      },
      "source": [
        "!saved_model_cli show --dir \"/content/tfx/Pusher/pushed_model/4\" --all"
      ],
      "execution_count": 67,
      "outputs": [
        {
          "output_type": "stream",
          "text": [
            "\n",
            "MetaGraphDef with tag-set: 'serve' contains the following SignatureDefs:\n",
            "\n",
            "signature_def['__saved_model_init_op']:\n",
            "  The given SavedModel SignatureDef contains the following input(s):\n",
            "  The given SavedModel SignatureDef contains the following output(s):\n",
            "    outputs['__saved_model_init_op'] tensor_info:\n",
            "        dtype: DT_INVALID\n",
            "        shape: unknown_rank\n",
            "        name: NoOp\n",
            "  Method name is: \n",
            "\n",
            "signature_def['serving_default']:\n",
            "  The given SavedModel SignatureDef contains the following input(s):\n",
            "    inputs['dropoff_latitude'] tensor_info:\n",
            "        dtype: DT_FLOAT\n",
            "        shape: (-1)\n",
            "        name: serving_default_dropoff_latitude:0\n",
            "    inputs['dropoff_longitude'] tensor_info:\n",
            "        dtype: DT_FLOAT\n",
            "        shape: (-1)\n",
            "        name: serving_default_dropoff_longitude:0\n",
            "    inputs['pickup_latitude'] tensor_info:\n",
            "        dtype: DT_FLOAT\n",
            "        shape: (-1)\n",
            "        name: serving_default_pickup_latitude:0\n",
            "    inputs['pickup_longitude'] tensor_info:\n",
            "        dtype: DT_FLOAT\n",
            "        shape: (-1)\n",
            "        name: serving_default_pickup_longitude:0\n",
            "    inputs['trip_start_day'] tensor_info:\n",
            "        dtype: DT_STRING\n",
            "        shape: (-1)\n",
            "        name: serving_default_trip_start_day:0\n",
            "    inputs['trip_start_hour'] tensor_info:\n",
            "        dtype: DT_STRING\n",
            "        shape: (-1)\n",
            "        name: serving_default_trip_start_hour:0\n",
            "    inputs['trip_start_month'] tensor_info:\n",
            "        dtype: DT_STRING\n",
            "        shape: (-1)\n",
            "        name: serving_default_trip_start_month:0\n",
            "  The given SavedModel SignatureDef contains the following output(s):\n",
            "    outputs['output_0'] tensor_info:\n",
            "        dtype: DT_FLOAT\n",
            "        shape: (-1, 1)\n",
            "        name: StatefulPartitionedCall:0\n",
            "  Method name is: tensorflow/serving/predict\n",
            "Traceback (most recent call last):\n",
            "  File \"/usr/local/bin/saved_model_cli\", line 8, in <module>\n",
            "    sys.exit(main())\n",
            "  File \"/usr/local/lib/python2.7/dist-packages/tensorflow_core/python/tools/saved_model_cli.py\", line 990, in main\n",
            "    args.func(args)\n",
            "  File \"/usr/local/lib/python2.7/dist-packages/tensorflow_core/python/tools/saved_model_cli.py\", line 691, in show\n",
            "    _show_all(args.dir)\n",
            "  File \"/usr/local/lib/python2.7/dist-packages/tensorflow_core/python/tools/saved_model_cli.py\", line 283, in _show_all\n",
            "    _show_defined_functions(saved_model_dir)\n",
            "  File \"/usr/local/lib/python2.7/dist-packages/tensorflow_core/python/tools/saved_model_cli.py\", line 176, in _show_defined_functions\n",
            "    trackable_object = load.load(saved_model_dir)\n",
            "  File \"/usr/local/lib/python2.7/dist-packages/tensorflow_core/python/saved_model/load.py\", line 528, in load\n",
            "    return load_internal(export_dir, tags)\n",
            "  File \"/usr/local/lib/python2.7/dist-packages/tensorflow_core/python/saved_model/load.py\", line 552, in load_internal\n",
            "    export_dir)\n",
            "  File \"/usr/local/lib/python2.7/dist-packages/tensorflow_core/python/saved_model/load.py\", line 114, in __init__\n",
            "    meta_graph.graph_def.library))\n",
            "  File \"/usr/local/lib/python2.7/dist-packages/tensorflow_core/python/saved_model/function_deserialization.py\", line 312, in load_function_def_library\n",
            "    func_graph = function_def_lib.function_def_to_graph(copy)\n",
            "  File \"/usr/local/lib/python2.7/dist-packages/tensorflow_core/python/framework/function_def_to_graph.py\", line 59, in function_def_to_graph\n",
            "    fdef, input_shapes)\n",
            "  File \"/usr/local/lib/python2.7/dist-packages/tensorflow_core/python/framework/function_def_to_graph.py\", line 218, in function_def_to_graph_def\n",
            "    op_def = default_graph._get_op_def(node_def.op)  # pylint: disable=protected-access\n",
            "  File \"/usr/local/lib/python2.7/dist-packages/tensorflow_core/python/framework/ops.py\", line 3712, in _get_op_def\n",
            "    c_api.TF_GraphGetOpDef(self._c_graph, compat.as_bytes(type), buf)\n",
            "tensorflow.python.framework.errors_impl.NotFoundError: Op type not registered 'DenseBincount' in binary running on 724bb63d735e. Make sure the Op and Kernel are registered in the binary running in this process. Note that if you are loading a saved graph which used ops from tf.contrib, accessing (e.g.) `tf.contrib.resampler` should be done before importing the graph, as contrib ops are lazily registered when the module is first accessed.\n"
          ],
          "name": "stdout"
        }
      ]
    },
    {
      "cell_type": "code",
      "metadata": {
        "colab": {
          "base_uri": "https://localhost:8080/"
        },
        "id": "GKcNpkpoekr4",
        "outputId": "c2232f9b-e40e-40f0-c7ff-777ab4383120"
      },
      "source": [
        "#LOCAL: Predict using Keras prediction function\n",
        "saved_mod = tf.saved_model.load(\"/content/tfx/Pusher/pushed_model/4\")\n",
        "\n",
        "#Get prediction function from serving\n",
        "f = saved_mod.signatures['serving_default']\n",
        "\n",
        "#Run prediction function from serving\n",
        "f(dropoff_latitude=tf.convert_to_tensor([41.920452]), dropoff_longitude = tf.convert_to_tensor([-87.679955]), pickup_latitude = tf.convert_to_tensor([41.952823]), \n",
        "  pickup_longitude =tf.convert_to_tensor([-87.653244]), trip_start_day=tf.convert_to_tensor([\"1\"]), trip_start_hour=tf.convert_to_tensor([\"5\"]),\n",
        "  trip_start_month=tf.convert_to_tensor([\"6\"]))"
      ],
      "execution_count": 68,
      "outputs": [
        {
          "output_type": "stream",
          "text": [
            "WARNING:tensorflow:7 out of the last 7 calls to <function recreate_function.<locals>.restored_function_body at 0x7f1c44615950> triggered tf.function retracing. Tracing is expensive and the excessive number of tracings could be due to (1) creating @tf.function repeatedly in a loop, (2) passing tensors with different shapes, (3) passing Python objects instead of tensors. For (1), please define your @tf.function outside of the loop. For (2), @tf.function has experimental_relax_shapes=True option that relaxes argument shapes that can avoid unnecessary retracing. For (3), please refer to https://www.tensorflow.org/guide/function#controlling_retracing and https://www.tensorflow.org/api_docs/python/tf/function for  more details.\n"
          ],
          "name": "stdout"
        },
        {
          "output_type": "stream",
          "text": [
            "WARNING:tensorflow:7 out of the last 7 calls to <function recreate_function.<locals>.restored_function_body at 0x7f1c44615950> triggered tf.function retracing. Tracing is expensive and the excessive number of tracings could be due to (1) creating @tf.function repeatedly in a loop, (2) passing tensors with different shapes, (3) passing Python objects instead of tensors. For (1), please define your @tf.function outside of the loop. For (2), @tf.function has experimental_relax_shapes=True option that relaxes argument shapes that can avoid unnecessary retracing. For (3), please refer to https://www.tensorflow.org/guide/function#controlling_retracing and https://www.tensorflow.org/api_docs/python/tf/function for  more details.\n"
          ],
          "name": "stderr"
        },
        {
          "output_type": "stream",
          "text": [
            "WARNING:tensorflow:8 out of the last 8 calls to <function recreate_function.<locals>.restored_function_body at 0x7f1c445c25f0> triggered tf.function retracing. Tracing is expensive and the excessive number of tracings could be due to (1) creating @tf.function repeatedly in a loop, (2) passing tensors with different shapes, (3) passing Python objects instead of tensors. For (1), please define your @tf.function outside of the loop. For (2), @tf.function has experimental_relax_shapes=True option that relaxes argument shapes that can avoid unnecessary retracing. For (3), please refer to https://www.tensorflow.org/guide/function#controlling_retracing and https://www.tensorflow.org/api_docs/python/tf/function for  more details.\n"
          ],
          "name": "stdout"
        },
        {
          "output_type": "stream",
          "text": [
            "WARNING:tensorflow:8 out of the last 8 calls to <function recreate_function.<locals>.restored_function_body at 0x7f1c445c25f0> triggered tf.function retracing. Tracing is expensive and the excessive number of tracings could be due to (1) creating @tf.function repeatedly in a loop, (2) passing tensors with different shapes, (3) passing Python objects instead of tensors. For (1), please define your @tf.function outside of the loop. For (2), @tf.function has experimental_relax_shapes=True option that relaxes argument shapes that can avoid unnecessary retracing. For (3), please refer to https://www.tensorflow.org/guide/function#controlling_retracing and https://www.tensorflow.org/api_docs/python/tf/function for  more details.\n"
          ],
          "name": "stderr"
        },
        {
          "output_type": "stream",
          "text": [
            "WARNING:tensorflow:9 out of the last 9 calls to <function recreate_function.<locals>.restored_function_body at 0x7f1c445a0950> triggered tf.function retracing. Tracing is expensive and the excessive number of tracings could be due to (1) creating @tf.function repeatedly in a loop, (2) passing tensors with different shapes, (3) passing Python objects instead of tensors. For (1), please define your @tf.function outside of the loop. For (2), @tf.function has experimental_relax_shapes=True option that relaxes argument shapes that can avoid unnecessary retracing. For (3), please refer to https://www.tensorflow.org/guide/function#controlling_retracing and https://www.tensorflow.org/api_docs/python/tf/function for  more details.\n"
          ],
          "name": "stdout"
        },
        {
          "output_type": "stream",
          "text": [
            "WARNING:tensorflow:9 out of the last 9 calls to <function recreate_function.<locals>.restored_function_body at 0x7f1c445a0950> triggered tf.function retracing. Tracing is expensive and the excessive number of tracings could be due to (1) creating @tf.function repeatedly in a loop, (2) passing tensors with different shapes, (3) passing Python objects instead of tensors. For (1), please define your @tf.function outside of the loop. For (2), @tf.function has experimental_relax_shapes=True option that relaxes argument shapes that can avoid unnecessary retracing. For (3), please refer to https://www.tensorflow.org/guide/function#controlling_retracing and https://www.tensorflow.org/api_docs/python/tf/function for  more details.\n"
          ],
          "name": "stderr"
        },
        {
          "output_type": "stream",
          "text": [
            "WARNING:tensorflow:10 out of the last 10 calls to <function recreate_function.<locals>.restored_function_body at 0x7f1c445b3b90> triggered tf.function retracing. Tracing is expensive and the excessive number of tracings could be due to (1) creating @tf.function repeatedly in a loop, (2) passing tensors with different shapes, (3) passing Python objects instead of tensors. For (1), please define your @tf.function outside of the loop. For (2), @tf.function has experimental_relax_shapes=True option that relaxes argument shapes that can avoid unnecessary retracing. For (3), please refer to https://www.tensorflow.org/guide/function#controlling_retracing and https://www.tensorflow.org/api_docs/python/tf/function for  more details.\n"
          ],
          "name": "stdout"
        },
        {
          "output_type": "stream",
          "text": [
            "WARNING:tensorflow:10 out of the last 10 calls to <function recreate_function.<locals>.restored_function_body at 0x7f1c445b3b90> triggered tf.function retracing. Tracing is expensive and the excessive number of tracings could be due to (1) creating @tf.function repeatedly in a loop, (2) passing tensors with different shapes, (3) passing Python objects instead of tensors. For (1), please define your @tf.function outside of the loop. For (2), @tf.function has experimental_relax_shapes=True option that relaxes argument shapes that can avoid unnecessary retracing. For (3), please refer to https://www.tensorflow.org/guide/function#controlling_retracing and https://www.tensorflow.org/api_docs/python/tf/function for  more details.\n"
          ],
          "name": "stderr"
        },
        {
          "output_type": "stream",
          "text": [
            "WARNING:tensorflow:11 out of the last 11 calls to <function recreate_function.<locals>.restored_function_body at 0x7f1c4459bb00> triggered tf.function retracing. Tracing is expensive and the excessive number of tracings could be due to (1) creating @tf.function repeatedly in a loop, (2) passing tensors with different shapes, (3) passing Python objects instead of tensors. For (1), please define your @tf.function outside of the loop. For (2), @tf.function has experimental_relax_shapes=True option that relaxes argument shapes that can avoid unnecessary retracing. For (3), please refer to https://www.tensorflow.org/guide/function#controlling_retracing and https://www.tensorflow.org/api_docs/python/tf/function for  more details.\n"
          ],
          "name": "stdout"
        },
        {
          "output_type": "stream",
          "text": [
            "WARNING:tensorflow:11 out of the last 11 calls to <function recreate_function.<locals>.restored_function_body at 0x7f1c4459bb00> triggered tf.function retracing. Tracing is expensive and the excessive number of tracings could be due to (1) creating @tf.function repeatedly in a loop, (2) passing tensors with different shapes, (3) passing Python objects instead of tensors. For (1), please define your @tf.function outside of the loop. For (2), @tf.function has experimental_relax_shapes=True option that relaxes argument shapes that can avoid unnecessary retracing. For (3), please refer to https://www.tensorflow.org/guide/function#controlling_retracing and https://www.tensorflow.org/api_docs/python/tf/function for  more details.\n"
          ],
          "name": "stderr"
        },
        {
          "output_type": "stream",
          "text": [
            "WARNING:tensorflow:11 out of the last 11 calls to <function recreate_function.<locals>.restored_function_body at 0x7f1c445a6a70> triggered tf.function retracing. Tracing is expensive and the excessive number of tracings could be due to (1) creating @tf.function repeatedly in a loop, (2) passing tensors with different shapes, (3) passing Python objects instead of tensors. For (1), please define your @tf.function outside of the loop. For (2), @tf.function has experimental_relax_shapes=True option that relaxes argument shapes that can avoid unnecessary retracing. For (3), please refer to https://www.tensorflow.org/guide/function#controlling_retracing and https://www.tensorflow.org/api_docs/python/tf/function for  more details.\n"
          ],
          "name": "stdout"
        },
        {
          "output_type": "stream",
          "text": [
            "WARNING:tensorflow:11 out of the last 11 calls to <function recreate_function.<locals>.restored_function_body at 0x7f1c445a6a70> triggered tf.function retracing. Tracing is expensive and the excessive number of tracings could be due to (1) creating @tf.function repeatedly in a loop, (2) passing tensors with different shapes, (3) passing Python objects instead of tensors. For (1), please define your @tf.function outside of the loop. For (2), @tf.function has experimental_relax_shapes=True option that relaxes argument shapes that can avoid unnecessary retracing. For (3), please refer to https://www.tensorflow.org/guide/function#controlling_retracing and https://www.tensorflow.org/api_docs/python/tf/function for  more details.\n"
          ],
          "name": "stderr"
        },
        {
          "output_type": "execute_result",
          "data": {
            "text/plain": [
              "{'output_0': <tf.Tensor: shape=(1, 1), dtype=float32, numpy=array([[5.428641]], dtype=float32)>}"
            ]
          },
          "metadata": {
            "tags": []
          },
          "execution_count": 68
        }
      ]
    },
    {
      "cell_type": "code",
      "metadata": {
        "id": "S27IopChemzR"
      },
      "source": [
        ""
      ],
      "execution_count": null,
      "outputs": []
    }
  ]
}